{
  "nbformat": 4,
  "nbformat_minor": 0,
  "metadata": {
    "colab": {
      "provenance": [],
      "authorship_tag": "ABX9TyO8Gi7HYcrJvck6J0PLEfbe",
      "include_colab_link": true
    },
    "kernelspec": {
      "name": "python3",
      "display_name": "Python 3"
    },
    "language_info": {
      "name": "python"
    }
  },
  "cells": [
    {
      "cell_type": "markdown",
      "metadata": {
        "id": "view-in-github",
        "colab_type": "text"
      },
      "source": [
        "<a href=\"https://colab.research.google.com/github/Maryam-71295/Stock-Price-Prediction-Task3-EcodeCamp_Internship/blob/main/Task_2_Stock_price_Prediction_EcodeCamp.ipynb\" target=\"_parent\"><img src=\"https://colab.research.google.com/assets/colab-badge.svg\" alt=\"Open In Colab\"/></a>"
      ]
    },
    {
      "cell_type": "code",
      "execution_count": 38,
      "metadata": {
        "colab": {
          "base_uri": "https://localhost:8080/",
          "height": 17
        },
        "id": "6Z-3cnfkQW4m",
        "outputId": "cc165017-cc06-46a6-dd3e-d504cae5ff6e"
      },
      "outputs": [
        {
          "output_type": "display_data",
          "data": {
            "text/html": [
              "        <script type=\"text/javascript\">\n",
              "        window.PlotlyConfig = {MathJaxConfig: 'local'};\n",
              "        if (window.MathJax && window.MathJax.Hub && window.MathJax.Hub.Config) {window.MathJax.Hub.Config({SVG: {font: \"STIX-Web\"}});}\n",
              "        if (typeof require !== 'undefined') {\n",
              "        require.undef(\"plotly\");\n",
              "        requirejs.config({\n",
              "            paths: {\n",
              "                'plotly': ['https://cdn.plot.ly/plotly-2.35.2.min']\n",
              "            }\n",
              "        });\n",
              "        require(['plotly'], function(Plotly) {\n",
              "            window._Plotly = Plotly;\n",
              "        });\n",
              "        }\n",
              "        </script>\n",
              "        "
            ]
          },
          "metadata": {}
        }
      ],
      "source": [
        "import pandas as pd\n",
        "import numpy as np\n",
        "import matplotlib.pyplot as plt\n",
        "%matplotlib inline\n",
        "\n",
        "import plotly.graph_objs as go\n",
        "from plotly.offline import init_notebook_mode, plot, iplot\n",
        "\n",
        "# Enable offline plotting in Jupyter Notebooks\n",
        "init_notebook_mode(connected=True)"
      ]
    },
    {
      "cell_type": "code",
      "source": [
        "IBM=pd.read_csv('/content/weekly_adjusted_IBM.csv')"
      ],
      "metadata": {
        "id": "GEmyvy7FTLoG"
      },
      "execution_count": 39,
      "outputs": []
    },
    {
      "cell_type": "code",
      "source": [
        "IBM.info()"
      ],
      "metadata": {
        "colab": {
          "base_uri": "https://localhost:8080/"
        },
        "id": "jbWgKhoyd9fC",
        "outputId": "4c72b055-21ae-46ae-9566-fc5456a324df"
      },
      "execution_count": 40,
      "outputs": [
        {
          "output_type": "stream",
          "name": "stdout",
          "text": [
            "<class 'pandas.core.frame.DataFrame'>\n",
            "RangeIndex: 1300 entries, 0 to 1299\n",
            "Data columns (total 8 columns):\n",
            " #   Column           Non-Null Count  Dtype  \n",
            "---  ------           --------------  -----  \n",
            " 0   timestamp        770 non-null    object \n",
            " 1   open             770 non-null    float64\n",
            " 2   high             770 non-null    float64\n",
            " 3   low              770 non-null    float64\n",
            " 4   close            770 non-null    float64\n",
            " 5   adjusted close   770 non-null    float64\n",
            " 6   volume           770 non-null    float64\n",
            " 7   dividend amount  770 non-null    float64\n",
            "dtypes: float64(7), object(1)\n",
            "memory usage: 81.4+ KB\n"
          ]
        }
      ]
    },
    {
      "cell_type": "code",
      "source": [
        "IBM['timestamp'] = pd.to_datetime(IBM['timestamp'])"
      ],
      "metadata": {
        "id": "Sk77zn_feE36"
      },
      "execution_count": 41,
      "outputs": []
    },
    {
      "cell_type": "code",
      "source": [
        "print(IBM.columns)"
      ],
      "metadata": {
        "colab": {
          "base_uri": "https://localhost:8080/"
        },
        "id": "aL1pRlzwhKAM",
        "outputId": "ef731f8f-5b70-4771-f755-42d3bf150e13"
      },
      "execution_count": 42,
      "outputs": [
        {
          "output_type": "stream",
          "name": "stdout",
          "text": [
            "Index(['timestamp', 'open', 'high', 'low', 'close', 'adjusted close', 'volume',\n",
            "       'dividend amount'],\n",
            "      dtype='object')\n"
          ]
        }
      ]
    },
    {
      "cell_type": "code",
      "source": [
        "print(f'Dataframe contains stock prices between {IBM[\"timestamp\"].min()} and {IBM[\"timestamp\"].max()}')\n",
        "print(f'Total days = {(IBM[\"timestamp\"].max() - IBM[\"timestamp\"].min()).days} days')"
      ],
      "metadata": {
        "colab": {
          "base_uri": "https://localhost:8080/"
        },
        "id": "-n5U6MdDep4P",
        "outputId": "5ad81112-ec93-47b6-cfa2-ac9508773aad"
      },
      "execution_count": 43,
      "outputs": [
        {
          "output_type": "stream",
          "name": "stdout",
          "text": [
            "Dataframe contains stock prices between 2010-01-08 00:00:00 and 2024-10-03 00:00:00\n",
            "Total days = 5382 days\n"
          ]
        }
      ]
    },
    {
      "cell_type": "code",
      "source": [
        "IBM.describe()"
      ],
      "metadata": {
        "colab": {
          "base_uri": "https://localhost:8080/",
          "height": 300
        },
        "id": "QIou_0TUhe0r",
        "outputId": "5483ee6a-c972-4b81-eb6d-994a5ed55548"
      },
      "execution_count": 44,
      "outputs": [
        {
          "output_type": "execute_result",
          "data": {
            "text/plain": [
              "                           timestamp       open        high         low  \\\n",
              "count                            770  770.00000  770.000000  770.000000   \n",
              "mean   2017-05-22 11:13:14.805194752  155.09875  158.210272  152.147772   \n",
              "min              2010-01-08 00:00:00   94.60000  107.410000   90.560000   \n",
              "25%              2013-09-14 18:00:00  134.29250  137.102500  131.910000   \n",
              "50%              2017-05-22 12:00:00  148.48000  152.590000  146.400000   \n",
              "75%              2021-01-27 06:00:00  174.97500  179.075000  172.705025   \n",
              "max              2024-10-03 00:00:00  220.65000  224.150000  217.270000   \n",
              "std                              NaN   25.60982   25.695047   25.554405   \n",
              "\n",
              "            close  adjusted close        volume  dividend amount  \n",
              "count  770.000000      770.000000  7.700000e+02       770.000000  \n",
              "mean   155.255935      110.702418  2.298165e+07         0.099961  \n",
              "min     95.390000       69.535200  7.770697e+06         0.000000  \n",
              "25%    134.412500       99.185300  1.654616e+07         0.000000  \n",
              "50%    148.995000      107.720450  2.088140e+07         0.000000  \n",
              "75%    175.970000      117.901550  2.630679e+07         0.000000  \n",
              "max    222.720000      222.720000  8.777343e+07         1.670000  \n",
              "std     25.734637       22.731402  9.433309e+06         0.361908  "
            ],
            "text/html": [
              "\n",
              "  <div id=\"df-7798bb06-28b6-4a4c-a790-0e5609c50ba9\" class=\"colab-df-container\">\n",
              "    <div>\n",
              "<style scoped>\n",
              "    .dataframe tbody tr th:only-of-type {\n",
              "        vertical-align: middle;\n",
              "    }\n",
              "\n",
              "    .dataframe tbody tr th {\n",
              "        vertical-align: top;\n",
              "    }\n",
              "\n",
              "    .dataframe thead th {\n",
              "        text-align: right;\n",
              "    }\n",
              "</style>\n",
              "<table border=\"1\" class=\"dataframe\">\n",
              "  <thead>\n",
              "    <tr style=\"text-align: right;\">\n",
              "      <th></th>\n",
              "      <th>timestamp</th>\n",
              "      <th>open</th>\n",
              "      <th>high</th>\n",
              "      <th>low</th>\n",
              "      <th>close</th>\n",
              "      <th>adjusted close</th>\n",
              "      <th>volume</th>\n",
              "      <th>dividend amount</th>\n",
              "    </tr>\n",
              "  </thead>\n",
              "  <tbody>\n",
              "    <tr>\n",
              "      <th>count</th>\n",
              "      <td>770</td>\n",
              "      <td>770.00000</td>\n",
              "      <td>770.000000</td>\n",
              "      <td>770.000000</td>\n",
              "      <td>770.000000</td>\n",
              "      <td>770.000000</td>\n",
              "      <td>7.700000e+02</td>\n",
              "      <td>770.000000</td>\n",
              "    </tr>\n",
              "    <tr>\n",
              "      <th>mean</th>\n",
              "      <td>2017-05-22 11:13:14.805194752</td>\n",
              "      <td>155.09875</td>\n",
              "      <td>158.210272</td>\n",
              "      <td>152.147772</td>\n",
              "      <td>155.255935</td>\n",
              "      <td>110.702418</td>\n",
              "      <td>2.298165e+07</td>\n",
              "      <td>0.099961</td>\n",
              "    </tr>\n",
              "    <tr>\n",
              "      <th>min</th>\n",
              "      <td>2010-01-08 00:00:00</td>\n",
              "      <td>94.60000</td>\n",
              "      <td>107.410000</td>\n",
              "      <td>90.560000</td>\n",
              "      <td>95.390000</td>\n",
              "      <td>69.535200</td>\n",
              "      <td>7.770697e+06</td>\n",
              "      <td>0.000000</td>\n",
              "    </tr>\n",
              "    <tr>\n",
              "      <th>25%</th>\n",
              "      <td>2013-09-14 18:00:00</td>\n",
              "      <td>134.29250</td>\n",
              "      <td>137.102500</td>\n",
              "      <td>131.910000</td>\n",
              "      <td>134.412500</td>\n",
              "      <td>99.185300</td>\n",
              "      <td>1.654616e+07</td>\n",
              "      <td>0.000000</td>\n",
              "    </tr>\n",
              "    <tr>\n",
              "      <th>50%</th>\n",
              "      <td>2017-05-22 12:00:00</td>\n",
              "      <td>148.48000</td>\n",
              "      <td>152.590000</td>\n",
              "      <td>146.400000</td>\n",
              "      <td>148.995000</td>\n",
              "      <td>107.720450</td>\n",
              "      <td>2.088140e+07</td>\n",
              "      <td>0.000000</td>\n",
              "    </tr>\n",
              "    <tr>\n",
              "      <th>75%</th>\n",
              "      <td>2021-01-27 06:00:00</td>\n",
              "      <td>174.97500</td>\n",
              "      <td>179.075000</td>\n",
              "      <td>172.705025</td>\n",
              "      <td>175.970000</td>\n",
              "      <td>117.901550</td>\n",
              "      <td>2.630679e+07</td>\n",
              "      <td>0.000000</td>\n",
              "    </tr>\n",
              "    <tr>\n",
              "      <th>max</th>\n",
              "      <td>2024-10-03 00:00:00</td>\n",
              "      <td>220.65000</td>\n",
              "      <td>224.150000</td>\n",
              "      <td>217.270000</td>\n",
              "      <td>222.720000</td>\n",
              "      <td>222.720000</td>\n",
              "      <td>8.777343e+07</td>\n",
              "      <td>1.670000</td>\n",
              "    </tr>\n",
              "    <tr>\n",
              "      <th>std</th>\n",
              "      <td>NaN</td>\n",
              "      <td>25.60982</td>\n",
              "      <td>25.695047</td>\n",
              "      <td>25.554405</td>\n",
              "      <td>25.734637</td>\n",
              "      <td>22.731402</td>\n",
              "      <td>9.433309e+06</td>\n",
              "      <td>0.361908</td>\n",
              "    </tr>\n",
              "  </tbody>\n",
              "</table>\n",
              "</div>\n",
              "    <div class=\"colab-df-buttons\">\n",
              "\n",
              "  <div class=\"colab-df-container\">\n",
              "    <button class=\"colab-df-convert\" onclick=\"convertToInteractive('df-7798bb06-28b6-4a4c-a790-0e5609c50ba9')\"\n",
              "            title=\"Convert this dataframe to an interactive table.\"\n",
              "            style=\"display:none;\">\n",
              "\n",
              "  <svg xmlns=\"http://www.w3.org/2000/svg\" height=\"24px\" viewBox=\"0 -960 960 960\">\n",
              "    <path d=\"M120-120v-720h720v720H120Zm60-500h600v-160H180v160Zm220 220h160v-160H400v160Zm0 220h160v-160H400v160ZM180-400h160v-160H180v160Zm440 0h160v-160H620v160ZM180-180h160v-160H180v160Zm440 0h160v-160H620v160Z\"/>\n",
              "  </svg>\n",
              "    </button>\n",
              "\n",
              "  <style>\n",
              "    .colab-df-container {\n",
              "      display:flex;\n",
              "      gap: 12px;\n",
              "    }\n",
              "\n",
              "    .colab-df-convert {\n",
              "      background-color: #E8F0FE;\n",
              "      border: none;\n",
              "      border-radius: 50%;\n",
              "      cursor: pointer;\n",
              "      display: none;\n",
              "      fill: #1967D2;\n",
              "      height: 32px;\n",
              "      padding: 0 0 0 0;\n",
              "      width: 32px;\n",
              "    }\n",
              "\n",
              "    .colab-df-convert:hover {\n",
              "      background-color: #E2EBFA;\n",
              "      box-shadow: 0px 1px 2px rgba(60, 64, 67, 0.3), 0px 1px 3px 1px rgba(60, 64, 67, 0.15);\n",
              "      fill: #174EA6;\n",
              "    }\n",
              "\n",
              "    .colab-df-buttons div {\n",
              "      margin-bottom: 4px;\n",
              "    }\n",
              "\n",
              "    [theme=dark] .colab-df-convert {\n",
              "      background-color: #3B4455;\n",
              "      fill: #D2E3FC;\n",
              "    }\n",
              "\n",
              "    [theme=dark] .colab-df-convert:hover {\n",
              "      background-color: #434B5C;\n",
              "      box-shadow: 0px 1px 3px 1px rgba(0, 0, 0, 0.15);\n",
              "      filter: drop-shadow(0px 1px 2px rgba(0, 0, 0, 0.3));\n",
              "      fill: #FFFFFF;\n",
              "    }\n",
              "  </style>\n",
              "\n",
              "    <script>\n",
              "      const buttonEl =\n",
              "        document.querySelector('#df-7798bb06-28b6-4a4c-a790-0e5609c50ba9 button.colab-df-convert');\n",
              "      buttonEl.style.display =\n",
              "        google.colab.kernel.accessAllowed ? 'block' : 'none';\n",
              "\n",
              "      async function convertToInteractive(key) {\n",
              "        const element = document.querySelector('#df-7798bb06-28b6-4a4c-a790-0e5609c50ba9');\n",
              "        const dataTable =\n",
              "          await google.colab.kernel.invokeFunction('convertToInteractive',\n",
              "                                                    [key], {});\n",
              "        if (!dataTable) return;\n",
              "\n",
              "        const docLinkHtml = 'Like what you see? Visit the ' +\n",
              "          '<a target=\"_blank\" href=https://colab.research.google.com/notebooks/data_table.ipynb>data table notebook</a>'\n",
              "          + ' to learn more about interactive tables.';\n",
              "        element.innerHTML = '';\n",
              "        dataTable['output_type'] = 'display_data';\n",
              "        await google.colab.output.renderOutput(dataTable, element);\n",
              "        const docLink = document.createElement('div');\n",
              "        docLink.innerHTML = docLinkHtml;\n",
              "        element.appendChild(docLink);\n",
              "      }\n",
              "    </script>\n",
              "  </div>\n",
              "\n",
              "\n",
              "<div id=\"df-f8537459-00e1-4042-9001-8467e0ff31be\">\n",
              "  <button class=\"colab-df-quickchart\" onclick=\"quickchart('df-f8537459-00e1-4042-9001-8467e0ff31be')\"\n",
              "            title=\"Suggest charts\"\n",
              "            style=\"display:none;\">\n",
              "\n",
              "<svg xmlns=\"http://www.w3.org/2000/svg\" height=\"24px\"viewBox=\"0 0 24 24\"\n",
              "     width=\"24px\">\n",
              "    <g>\n",
              "        <path d=\"M19 3H5c-1.1 0-2 .9-2 2v14c0 1.1.9 2 2 2h14c1.1 0 2-.9 2-2V5c0-1.1-.9-2-2-2zM9 17H7v-7h2v7zm4 0h-2V7h2v10zm4 0h-2v-4h2v4z\"/>\n",
              "    </g>\n",
              "</svg>\n",
              "  </button>\n",
              "\n",
              "<style>\n",
              "  .colab-df-quickchart {\n",
              "      --bg-color: #E8F0FE;\n",
              "      --fill-color: #1967D2;\n",
              "      --hover-bg-color: #E2EBFA;\n",
              "      --hover-fill-color: #174EA6;\n",
              "      --disabled-fill-color: #AAA;\n",
              "      --disabled-bg-color: #DDD;\n",
              "  }\n",
              "\n",
              "  [theme=dark] .colab-df-quickchart {\n",
              "      --bg-color: #3B4455;\n",
              "      --fill-color: #D2E3FC;\n",
              "      --hover-bg-color: #434B5C;\n",
              "      --hover-fill-color: #FFFFFF;\n",
              "      --disabled-bg-color: #3B4455;\n",
              "      --disabled-fill-color: #666;\n",
              "  }\n",
              "\n",
              "  .colab-df-quickchart {\n",
              "    background-color: var(--bg-color);\n",
              "    border: none;\n",
              "    border-radius: 50%;\n",
              "    cursor: pointer;\n",
              "    display: none;\n",
              "    fill: var(--fill-color);\n",
              "    height: 32px;\n",
              "    padding: 0;\n",
              "    width: 32px;\n",
              "  }\n",
              "\n",
              "  .colab-df-quickchart:hover {\n",
              "    background-color: var(--hover-bg-color);\n",
              "    box-shadow: 0 1px 2px rgba(60, 64, 67, 0.3), 0 1px 3px 1px rgba(60, 64, 67, 0.15);\n",
              "    fill: var(--button-hover-fill-color);\n",
              "  }\n",
              "\n",
              "  .colab-df-quickchart-complete:disabled,\n",
              "  .colab-df-quickchart-complete:disabled:hover {\n",
              "    background-color: var(--disabled-bg-color);\n",
              "    fill: var(--disabled-fill-color);\n",
              "    box-shadow: none;\n",
              "  }\n",
              "\n",
              "  .colab-df-spinner {\n",
              "    border: 2px solid var(--fill-color);\n",
              "    border-color: transparent;\n",
              "    border-bottom-color: var(--fill-color);\n",
              "    animation:\n",
              "      spin 1s steps(1) infinite;\n",
              "  }\n",
              "\n",
              "  @keyframes spin {\n",
              "    0% {\n",
              "      border-color: transparent;\n",
              "      border-bottom-color: var(--fill-color);\n",
              "      border-left-color: var(--fill-color);\n",
              "    }\n",
              "    20% {\n",
              "      border-color: transparent;\n",
              "      border-left-color: var(--fill-color);\n",
              "      border-top-color: var(--fill-color);\n",
              "    }\n",
              "    30% {\n",
              "      border-color: transparent;\n",
              "      border-left-color: var(--fill-color);\n",
              "      border-top-color: var(--fill-color);\n",
              "      border-right-color: var(--fill-color);\n",
              "    }\n",
              "    40% {\n",
              "      border-color: transparent;\n",
              "      border-right-color: var(--fill-color);\n",
              "      border-top-color: var(--fill-color);\n",
              "    }\n",
              "    60% {\n",
              "      border-color: transparent;\n",
              "      border-right-color: var(--fill-color);\n",
              "    }\n",
              "    80% {\n",
              "      border-color: transparent;\n",
              "      border-right-color: var(--fill-color);\n",
              "      border-bottom-color: var(--fill-color);\n",
              "    }\n",
              "    90% {\n",
              "      border-color: transparent;\n",
              "      border-bottom-color: var(--fill-color);\n",
              "    }\n",
              "  }\n",
              "</style>\n",
              "\n",
              "  <script>\n",
              "    async function quickchart(key) {\n",
              "      const quickchartButtonEl =\n",
              "        document.querySelector('#' + key + ' button');\n",
              "      quickchartButtonEl.disabled = true;  // To prevent multiple clicks.\n",
              "      quickchartButtonEl.classList.add('colab-df-spinner');\n",
              "      try {\n",
              "        const charts = await google.colab.kernel.invokeFunction(\n",
              "            'suggestCharts', [key], {});\n",
              "      } catch (error) {\n",
              "        console.error('Error during call to suggestCharts:', error);\n",
              "      }\n",
              "      quickchartButtonEl.classList.remove('colab-df-spinner');\n",
              "      quickchartButtonEl.classList.add('colab-df-quickchart-complete');\n",
              "    }\n",
              "    (() => {\n",
              "      let quickchartButtonEl =\n",
              "        document.querySelector('#df-f8537459-00e1-4042-9001-8467e0ff31be button');\n",
              "      quickchartButtonEl.style.display =\n",
              "        google.colab.kernel.accessAllowed ? 'block' : 'none';\n",
              "    })();\n",
              "  </script>\n",
              "</div>\n",
              "\n",
              "    </div>\n",
              "  </div>\n"
            ],
            "application/vnd.google.colaboratory.intrinsic+json": {
              "type": "dataframe",
              "summary": "{\n  \"name\": \"IBM\",\n  \"rows\": 8,\n  \"fields\": [\n    {\n      \"column\": \"timestamp\",\n      \"properties\": {\n        \"dtype\": \"date\",\n        \"min\": \"1970-01-01 00:00:00.000000770\",\n        \"max\": \"2024-10-03 00:00:00\",\n        \"num_unique_values\": 7,\n        \"samples\": [\n          \"770\",\n          \"2017-05-22 11:13:14.805194752\",\n          \"2021-01-27 06:00:00\"\n        ],\n        \"semantic_type\": \"\",\n        \"description\": \"\"\n      }\n    },\n    {\n      \"column\": \"open\",\n      \"properties\": {\n        \"dtype\": \"number\",\n        \"std\": 231.31573263274188,\n        \"min\": 25.609820304481023,\n        \"max\": 770.0,\n        \"num_unique_values\": 8,\n        \"samples\": [\n          155.09874987012986,\n          174.975,\n          770.0\n        ],\n        \"semantic_type\": \"\",\n        \"description\": \"\"\n      }\n    },\n    {\n      \"column\": \"high\",\n      \"properties\": {\n        \"dtype\": \"number\",\n        \"std\": 229.86111251697176,\n        \"min\": 25.695047445933962,\n        \"max\": 770.0,\n        \"num_unique_values\": 8,\n        \"samples\": [\n          158.2102722077922,\n          179.075,\n          770.0\n        ],\n        \"semantic_type\": \"\",\n        \"description\": \"\"\n      }\n    },\n    {\n      \"column\": \"low\",\n      \"properties\": {\n        \"dtype\": \"number\",\n        \"std\": 231.98880921582276,\n        \"min\": 25.554405305416836,\n        \"max\": 770.0,\n        \"num_unique_values\": 8,\n        \"samples\": [\n          152.14777194805194,\n          172.70502499999998,\n          770.0\n        ],\n        \"semantic_type\": \"\",\n        \"description\": \"\"\n      }\n    },\n    {\n      \"column\": \"close\",\n      \"properties\": {\n        \"dtype\": \"number\",\n        \"std\": 231.1917086035676,\n        \"min\": 25.73463675104802,\n        \"max\": 770.0,\n        \"num_unique_values\": 8,\n        \"samples\": [\n          155.25593506493507,\n          175.97,\n          770.0\n        ],\n        \"semantic_type\": \"\",\n        \"description\": \"\"\n      }\n    },\n    {\n      \"column\": \"adjusted close\",\n      \"properties\": {\n        \"dtype\": \"number\",\n        \"std\": 240.96966217131268,\n        \"min\": 22.731402046752905,\n        \"max\": 770.0,\n        \"num_unique_values\": 8,\n        \"samples\": [\n          110.70241792207793,\n          117.90155,\n          770.0\n        ],\n        \"semantic_type\": \"\",\n        \"description\": \"\"\n      }\n    },\n    {\n      \"column\": \"volume\",\n      \"properties\": {\n        \"dtype\": \"number\",\n        \"std\": 27229774.57097097,\n        \"min\": 770.0,\n        \"max\": 87773431.0,\n        \"num_unique_values\": 8,\n        \"samples\": [\n          22981650.846753247,\n          26306790.0,\n          770.0\n        ],\n        \"semantic_type\": \"\",\n        \"description\": \"\"\n      }\n    },\n    {\n      \"column\": \"dividend amount\",\n      \"properties\": {\n        \"dtype\": \"number\",\n        \"std\": 272.1290336994579,\n        \"min\": 0.0,\n        \"max\": 770.0,\n        \"num_unique_values\": 5,\n        \"samples\": [\n          0.09996103896103896,\n          0.36190849922191853,\n          0.0\n        ],\n        \"semantic_type\": \"\",\n        \"description\": \"\"\n      }\n    }\n  ]\n}"
            }
          },
          "metadata": {},
          "execution_count": 44
        }
      ]
    },
    {
      "cell_type": "code",
      "source": [
        "IBM[['open', 'high', 'low', 'close', 'adjusted close']].plot(kind='box')"
      ],
      "metadata": {
        "colab": {
          "base_uri": "https://localhost:8080/",
          "height": 447
        },
        "id": "IdM5dAH2hmkF",
        "outputId": "3dde945e-6a21-4a26-dd40-9874079253b4"
      },
      "execution_count": 45,
      "outputs": [
        {
          "output_type": "execute_result",
          "data": {
            "text/plain": [
              "<Axes: >"
            ]
          },
          "metadata": {},
          "execution_count": 45
        },
        {
          "output_type": "display_data",
          "data": {
            "text/plain": [
              "<Figure size 640x480 with 1 Axes>"
            ],
            "image/png": "[encoded data removed]"
          },
          "metadata": {}
        }
      ]
    },
    {
      "cell_type": "code",
      "source": [
        "# Define the layout for the plot\n",
        "layout = go.Layout(\n",
        "    title='Stock Prices of IBM',\n",
        "    titlefont=dict(\n",
        "        family='Arial, sans-serif',  # Specify the font family\n",
        "        size=18,                     # Font size\n",
        "        color='black'                # Font color\n",
        "    ),\n",
        "    xaxis=dict(\n",
        "        title='Date',\n",
        "        titlefont=dict(\n",
        "            family='Arial, sans-serif',\n",
        "            size=18,\n",
        "            color='#7f7f7f'\n",
        "        ),\n",
        "        tickformat='%Y-%m-%d'\n",
        "\n",
        "        # Formatting the date display\n",
        "    ),\n",
        "    yaxis=dict(\n",
        "        title='Price (USD)',\n",
        "        titlefont=dict(\n",
        "            family='Arial, sans-serif',\n",
        "            size=18,\n",
        "            color='#7f7f7f'\n",
        "        )\n",
        "    ),\n",
        ")\n"
      ],
      "metadata": {
        "id": "XPQiG6A0ijN4"
      },
      "execution_count": 46,
      "outputs": []
    },
    {
      "cell_type": "code",
      "source": [
        "\n",
        "# Make sure the 'timestamp' column is in datetime format\n",
        "IBM['timestamp'] = pd.to_datetime(IBM['timestamp'])\n",
        "\n",
        "# Create the plot data\n",
        "IBM_date = [go.Scatter(x=IBM['timestamp'], y=IBM['close'], mode='lines', name='IBM Close Price')]\n"
      ],
      "metadata": {
        "id": "Of_lsrhBkCyN"
      },
      "execution_count": 47,
      "outputs": []
    },
    {
      "cell_type": "code",
      "source": [
        "# Import necessary libraries\n",
        "import plotly.graph_objs as go\n",
        "from plotly.offline import init_notebook_mode, iplot\n",
        "import pandas as pd\n",
        "\n",
        "# Initialize Plotly for offline plotting\n",
        "init_notebook_mode(connected=True)"
      ],
      "metadata": {
        "id": "W60muBRUl9a7",
        "colab": {
          "base_uri": "https://localhost:8080/",
          "height": 17
        },
        "outputId": "fdf91dc6-e230-4810-d6b0-230e8240a70e"
      },
      "execution_count": 48,
      "outputs": [
        {
          "output_type": "display_data",
          "data": {
            "text/html": [
              "        <script type=\"text/javascript\">\n",
              "        window.PlotlyConfig = {MathJaxConfig: 'local'};\n",
              "        if (window.MathJax && window.MathJax.Hub && window.MathJax.Hub.Config) {window.MathJax.Hub.Config({SVG: {font: \"STIX-Web\"}});}\n",
              "        if (typeof require !== 'undefined') {\n",
              "        require.undef(\"plotly\");\n",
              "        requirejs.config({\n",
              "            paths: {\n",
              "                'plotly': ['https://cdn.plot.ly/plotly-2.35.2.min']\n",
              "            }\n",
              "        });\n",
              "        require(['plotly'], function(Plotly) {\n",
              "            window._Plotly = Plotly;\n",
              "        });\n",
              "        }\n",
              "        </script>\n",
              "        "
            ]
          },
          "metadata": {}
        }
      ]
    },
    {
      "cell_type": "code",
      "source": [
        "IBM_trace = go.Scatter(\n",
        "    x=IBM['timestamp'],  # x-axis: dates (use the correct column name here)\n",
        "    y=IBM['close'],  # y-axis: closing prices (use the correct column name here)\n",
        "    mode='lines',             # Line chart\n",
        "    name='IBM Close Price',   # Name of the data\n",
        "    line=dict(color='blue')   # Line color\n",
        ")\n",
        "\n"
      ],
      "metadata": {
        "id": "UOmK3xMhaSgF"
      },
      "execution_count": 49,
      "outputs": []
    },
    {
      "cell_type": "code",
      "source": [
        "# Define the layout for the plot\n",
        "layout = go.Layout(\n",
        "    title='IBM Stock Prices',\n",
        "    titlefont=dict(\n",
        "        family='Courier New, monospace',  # Specify the font family\n",
        "        size=18,                     # Font size\n",
        "        color='#7f7f7f'                # Font color\n",
        "    ),\n",
        "    xaxis=dict(\n",
        "        title='Date',\n",
        "        titlefont=dict(\n",
        "            family='Courier New, monospace',\n",
        "            size=18,\n",
        "            color='#7f7f7f'\n",
        "        ),\n",
        "        tickformat='%Y-%m-%d'  # Formatting the date display\n",
        "    ),\n",
        "    yaxis=dict(\n",
        "        title='Price (USD)',\n",
        "        titlefont=dict(\n",
        "            family='Courier New, monospace',\n",
        "            size=18,\n",
        "            color='#7f7f7f'\n",
        "        )\n",
        "    )\n",
        ")\n",
        "IBM_data=[{'x': IBM['timestamp'], 'Y':IBM['close']}]\n",
        "plot = go.Figure(data=[IBM_trace], layout=layout)"
      ],
      "metadata": {
        "id": "i4OSjf8pbp31"
      },
      "execution_count": 50,
      "outputs": []
    },
    {
      "cell_type": "code",
      "source": [
        "# Display the plot\n",
        "iplot(plot)"
      ],
      "metadata": {
        "colab": {
          "base_uri": "https://localhost:8080/",
          "height": 542
        },
        "id": "cNoVAUqzoFu2",
        "outputId": "9a057f66-01d3-41de-eeb2-1e014325d400"
      },
      "execution_count": 51,
      "outputs": [
        {
          "output_type": "display_data",
          "data": {
            "application/vnd.plotly.v1+json": {
              "data": [
                {
                  "line": {
                    "color": "blue"
                  },
                  "mode": "lines",
                  "name": "IBM Close Price",
                  "x": [
                    "2024-10-03T00:00:00",
                    "2024-09-27T00:00:00",
                    "2024-09-20T00:00:00",
                    "2024-09-13T00:00:00",
                    "2024-09-06T00:00:00",
                    "2024-08-30T00:00:00",
                    "2024-08-23T00:00:00",
                    "2024-08-16T00:00:00",
                    "2024-08-09T00:00:00",
                    "2024-08-02T00:00:00",
                    "2024-07-26T00:00:00",
                    "2024-07-19T00:00:00",
                    "2024-07-12T00:00:00",
                    "2024-07-05T00:00:00",
                    "2024-06-28T00:00:00",
                    "2024-06-21T00:00:00",
                    "2024-06-14T00:00:00",
                    "2024-06-07T00:00:00",
                    "2024-05-31T00:00:00",
                    "2024-05-24T00:00:00",
                    "2024-05-17T00:00:00",
                    "2024-05-10T00:00:00",
                    "2024-05-03T00:00:00",
                    "2024-04-26T00:00:00",
                    "2024-04-19T00:00:00",
                    "2024-04-12T00:00:00",
                    "2024-04-05T00:00:00",
                    "2024-03-28T00:00:00",
                    "2024-03-22T00:00:00",
                    "2024-03-15T00:00:00",
                    "2024-03-08T00:00:00",
                    "2024-03-01T00:00:00",
                    "2024-02-23T00:00:00",
                    "2024-02-16T00:00:00",
                    "2024-02-09T00:00:00",
                    "2024-02-02T00:00:00",
                    "2024-01-26T00:00:00",
                    "2024-01-19T00:00:00",
                    "2024-01-12T00:00:00",
                    "2024-01-05T00:00:00",
                    "2023-12-29T00:00:00",
                    "2023-12-22T00:00:00",
                    "2023-12-15T00:00:00",
                    "2023-12-08T00:00:00",
                    "2023-12-01T00:00:00",
                    "2023-11-24T00:00:00",
                    "2023-11-17T00:00:00",
                    "2023-11-10T00:00:00",
                    "2023-11-03T00:00:00",
                    "2023-10-27T00:00:00",
                    "2023-10-20T00:00:00",
                    "2023-10-13T00:00:00",
                    "2023-10-06T00:00:00",
                    "2023-09-29T00:00:00",
                    "2023-09-22T00:00:00",
                    "2023-09-15T00:00:00",
                    "2023-09-08T00:00:00",
                    "2023-09-01T00:00:00",
                    "2023-08-25T00:00:00",
                    "2023-08-18T00:00:00",
                    "2023-08-11T00:00:00",
                    "2023-08-04T00:00:00",
                    "2023-07-28T00:00:00",
                    "2023-07-21T00:00:00",
                    "2023-07-14T00:00:00",
                    "2023-07-07T00:00:00",
                    "2023-06-30T00:00:00",
                    "2023-06-23T00:00:00",
                    "2023-06-16T00:00:00",
                    "2023-06-09T00:00:00",
                    "2023-06-02T00:00:00",
                    "2023-05-26T00:00:00",
                    "2023-05-19T00:00:00",
                    "2023-05-12T00:00:00",
                    "2023-05-05T00:00:00",
                    "2023-04-28T00:00:00",
                    "2023-04-21T00:00:00",
                    "2023-04-14T00:00:00",
                    "2023-04-06T00:00:00",
                    "2023-03-31T00:00:00",
                    "2023-03-24T00:00:00",
                    "2023-03-17T00:00:00",
                    "2023-03-10T00:00:00",
                    "2023-03-03T00:00:00",
                    "2023-02-24T00:00:00",
                    "2023-02-17T00:00:00",
                    "2023-02-10T00:00:00",
                    "2023-02-03T00:00:00",
                    "2023-01-27T00:00:00",
                    "2023-01-20T00:00:00",
                    "2023-01-13T00:00:00",
                    "2023-01-06T00:00:00",
                    "2022-12-30T00:00:00",
                    "2022-12-23T00:00:00",
                    "2022-12-16T00:00:00",
                    "2022-12-09T00:00:00",
                    "2022-12-02T00:00:00",
                    "2022-11-25T00:00:00",
                    "2022-11-18T00:00:00",
                    "2022-11-11T00:00:00",
                    "2022-11-04T00:00:00",
                    "2022-10-28T00:00:00",
                    "2022-10-21T00:00:00",
                    "2022-10-14T00:00:00",
                    "2022-10-07T00:00:00",
                    "2022-09-30T00:00:00",
                    "2022-09-23T00:00:00",
                    "2022-09-16T00:00:00",
                    "2022-09-09T00:00:00",
                    "2022-09-02T00:00:00",
                    "2022-08-26T00:00:00",
                    "2022-08-19T00:00:00",
                    "2022-08-12T00:00:00",
                    "2022-08-05T00:00:00",
                    "2022-07-29T00:00:00",
                    "2022-07-22T00:00:00",
                    "2022-07-15T00:00:00",
                    "2022-07-08T00:00:00",
                    "2022-07-01T00:00:00",
                    "2022-06-24T00:00:00",
                    "2022-06-17T00:00:00",
                    "2022-06-10T00:00:00",
                    "2022-06-03T00:00:00",
                    "2022-05-27T00:00:00",
                    "2022-05-20T00:00:00",
                    "2022-05-13T00:00:00",
                    "2022-05-06T00:00:00",
                    "2022-04-29T00:00:00",
                    "2022-04-22T00:00:00",
                    "2022-04-14T00:00:00",
                    "2022-04-08T00:00:00",
                    "2022-04-01T00:00:00",
                    "2022-03-25T00:00:00",
                    "2022-03-18T00:00:00",
                    "2022-03-11T00:00:00",
                    "2022-03-04T00:00:00",
                    "2022-02-25T00:00:00",
                    "2022-02-18T00:00:00",
                    "2022-02-11T00:00:00",
                    "2022-02-04T00:00:00",
                    "2022-01-28T00:00:00",
                    "2022-01-21T00:00:00",
                    "2022-01-14T00:00:00",
                    "2022-01-07T00:00:00",
                    "2021-12-31T00:00:00",
                    "2021-12-23T00:00:00",
                    "2021-12-17T00:00:00",
                    "2021-12-10T00:00:00",
                    "2021-12-03T00:00:00",
                    "2021-11-26T00:00:00",
                    "2021-11-19T00:00:00",
                    "2021-11-12T00:00:00",
                    "2021-11-05T00:00:00",
                    "2021-10-29T00:00:00",
                    "2021-10-22T00:00:00",
                    "2021-10-15T00:00:00",
                    "2021-10-08T00:00:00",
                    "2021-10-01T00:00:00",
                    "2021-09-24T00:00:00",
                    "2021-09-17T00:00:00",
                    "2021-09-10T00:00:00",
                    "2021-09-03T00:00:00",
                    "2021-08-27T00:00:00",
                    "2021-08-20T00:00:00",
                    "2021-08-13T00:00:00",
                    "2021-08-06T00:00:00",
                    "2021-07-30T00:00:00",
                    "2021-07-23T00:00:00",
                    "2021-07-16T00:00:00",
                    "2021-07-09T00:00:00",
                    "2021-07-02T00:00:00",
                    "2021-06-25T00:00:00",
                    "2021-06-18T00:00:00",
                    "2021-06-11T00:00:00",
                    "2021-06-04T00:00:00",
                    "2021-05-28T00:00:00",
                    "2021-05-21T00:00:00",
                    "2021-05-14T00:00:00",
                    "2021-05-07T00:00:00",
                    "2021-04-30T00:00:00",
                    "2021-04-23T00:00:00",
                    "2021-04-16T00:00:00",
                    "2021-04-09T00:00:00",
                    "2021-04-01T00:00:00",
                    "2021-03-26T00:00:00",
                    "2021-03-19T00:00:00",
                    "2021-03-12T00:00:00",
                    "2021-03-05T00:00:00",
                    "2021-02-26T00:00:00",
                    "2021-02-19T00:00:00",
                    "2021-02-12T00:00:00",
                    "2021-02-05T00:00:00",
                    "2021-01-29T00:00:00",
                    "2021-01-22T00:00:00",
                    "2021-01-15T00:00:00",
                    "2021-01-08T00:00:00",
                    "2020-12-31T00:00:00",
                    "2020-12-24T00:00:00",
                    "2020-12-18T00:00:00",
                    "2020-12-11T00:00:00",
                    "2020-12-04T00:00:00",
                    "2020-11-27T00:00:00",
                    "2020-11-20T00:00:00",
                    "2020-11-13T00:00:00",
                    "2020-11-06T00:00:00",
                    "2020-10-30T00:00:00",
                    "2020-10-23T00:00:00",
                    "2020-10-16T00:00:00",
                    "2020-10-09T00:00:00",
                    "2020-10-02T00:00:00",
                    "2020-09-25T00:00:00",
                    "2020-09-18T00:00:00",
                    "2020-09-11T00:00:00",
                    "2020-09-04T00:00:00",
                    "2020-08-28T00:00:00",
                    "2020-08-21T00:00:00",
                    "2020-08-14T00:00:00",
                    "2020-08-07T00:00:00",
                    "2020-07-31T00:00:00",
                    "2020-07-24T00:00:00",
                    "2020-07-17T00:00:00",
                    "2020-07-10T00:00:00",
                    "2020-07-02T00:00:00",
                    "2020-06-26T00:00:00",
                    "2020-06-19T00:00:00",
                    "2020-06-12T00:00:00",
                    "2020-06-05T00:00:00",
                    "2020-05-29T00:00:00",
                    "2020-05-22T00:00:00",
                    "2020-05-15T00:00:00",
                    "2020-05-08T00:00:00",
                    "2020-05-01T00:00:00",
                    "2020-04-24T00:00:00",
                    "2020-04-17T00:00:00",
                    "2020-04-09T00:00:00",
                    "2020-04-03T00:00:00",
                    "2020-03-27T00:00:00",
                    "2020-03-20T00:00:00",
                    "2020-03-13T00:00:00",
                    "2020-03-06T00:00:00",
                    "2020-02-28T00:00:00",
                    "2020-02-21T00:00:00",
                    "2020-02-14T00:00:00",
                    "2020-02-07T00:00:00",
                    "2020-01-31T00:00:00",
                    "2020-01-24T00:00:00",
                    "2020-01-17T00:00:00",
                    "2020-01-10T00:00:00",
                    "2020-01-03T00:00:00",
                    "2019-12-27T00:00:00",
                    "2019-12-20T00:00:00",
                    "2019-12-13T00:00:00",
                    "2019-12-06T00:00:00",
                    "2019-11-29T00:00:00",
                    "2019-11-22T00:00:00",
                    "2019-11-15T00:00:00",
                    "2019-11-08T00:00:00",
                    "2019-11-01T00:00:00",
                    "2019-10-25T00:00:00",
                    "2019-10-18T00:00:00",
                    "2019-10-11T00:00:00",
                    "2019-10-04T00:00:00",
                    "2019-09-27T00:00:00",
                    "2019-09-20T00:00:00",
                    "2019-09-13T00:00:00",
                    "2019-09-06T00:00:00",
                    "2019-08-30T00:00:00",
                    "2019-08-23T00:00:00",
                    "2019-08-16T00:00:00",
                    "2019-08-09T00:00:00",
                    "2019-08-02T00:00:00",
                    "2019-07-26T00:00:00",
                    "2019-07-19T00:00:00",
                    "2019-07-12T00:00:00",
                    "2019-07-05T00:00:00",
                    "2019-06-28T00:00:00",
                    "2019-06-21T00:00:00",
                    "2019-06-14T00:00:00",
                    "2019-06-07T00:00:00",
                    "2019-05-31T00:00:00",
                    "2019-05-24T00:00:00",
                    "2019-05-17T00:00:00",
                    "2019-05-10T00:00:00",
                    "2019-05-03T00:00:00",
                    "2019-04-26T00:00:00",
                    "2019-04-18T00:00:00",
                    "2019-04-12T00:00:00",
                    "2019-04-05T00:00:00",
                    "2019-03-29T00:00:00",
                    "2019-03-22T00:00:00",
                    "2019-03-15T00:00:00",
                    "2019-03-08T00:00:00",
                    "2019-03-01T00:00:00",
                    "2019-02-22T00:00:00",
                    "2019-02-15T00:00:00",
                    "2019-02-08T00:00:00",
                    "2019-02-01T00:00:00",
                    "2019-01-25T00:00:00",
                    "2019-01-18T00:00:00",
                    "2019-01-11T00:00:00",
                    "2019-01-04T00:00:00",
                    "2018-12-28T00:00:00",
                    "2018-12-21T00:00:00",
                    "2018-12-14T00:00:00",
                    "2018-12-07T00:00:00",
                    "2018-11-30T00:00:00",
                    "2018-11-23T00:00:00",
                    "2018-11-16T00:00:00",
                    "2018-11-09T00:00:00",
                    "2018-11-02T00:00:00",
                    "2018-10-26T00:00:00",
                    "2018-10-19T00:00:00",
                    "2018-10-12T00:00:00",
                    "2018-10-05T00:00:00",
                    "2018-09-28T00:00:00",
                    "2018-09-21T00:00:00",
                    "2018-09-14T00:00:00",
                    "2018-09-07T00:00:00",
                    "2018-08-31T00:00:00",
                    "2018-08-24T00:00:00",
                    "2018-08-17T00:00:00",
                    "2018-08-10T00:00:00",
                    "2018-08-03T00:00:00",
                    "2018-07-27T00:00:00",
                    "2018-07-20T00:00:00",
                    "2018-07-13T00:00:00",
                    "2018-07-06T00:00:00",
                    "2018-06-29T00:00:00",
                    "2018-06-22T00:00:00",
                    "2018-06-15T00:00:00",
                    "2018-06-08T00:00:00",
                    "2018-06-01T00:00:00",
                    "2018-05-25T00:00:00",
                    "2018-05-18T00:00:00",
                    "2018-05-11T00:00:00",
                    "2018-05-04T00:00:00",
                    "2018-04-27T00:00:00",
                    "2018-04-20T00:00:00",
                    "2018-04-13T00:00:00",
                    "2018-04-06T00:00:00",
                    "2018-03-29T00:00:00",
                    "2018-03-23T00:00:00",
                    "2018-03-16T00:00:00",
                    "2018-03-09T00:00:00",
                    "2018-03-02T00:00:00",
                    "2018-02-23T00:00:00",
                    "2018-02-16T00:00:00",
                    "2018-02-09T00:00:00",
                    "2018-02-02T00:00:00",
                    "2018-01-26T00:00:00",
                    "2018-01-19T00:00:00",
                    "2018-01-12T00:00:00",
                    "2018-01-05T00:00:00",
                    "2017-12-29T00:00:00",
                    "2017-12-22T00:00:00",
                    "2017-12-15T00:00:00",
                    "2017-12-08T00:00:00",
                    "2017-12-01T00:00:00",
                    "2017-11-24T00:00:00",
                    "2017-11-17T00:00:00",
                    "2017-11-10T00:00:00",
                    "2017-11-03T00:00:00",
                    "2017-10-27T00:00:00",
                    "2017-10-20T00:00:00",
                    "2017-10-13T00:00:00",
                    "2017-10-06T00:00:00",
                    "2017-09-29T00:00:00",
                    "2017-09-22T00:00:00",
                    "2017-09-15T00:00:00",
                    "2017-09-08T00:00:00",
                    "2017-09-01T00:00:00",
                    "2017-08-25T00:00:00",
                    "2017-08-18T00:00:00",
                    "2017-08-11T00:00:00",
                    "2017-08-04T00:00:00",
                    "2017-07-28T00:00:00",
                    "2017-07-21T00:00:00",
                    "2017-07-14T00:00:00",
                    "2017-07-07T00:00:00",
                    "2017-06-30T00:00:00",
                    "2017-06-23T00:00:00",
                    "2017-06-16T00:00:00",
                    "2017-06-09T00:00:00",
                    "2017-06-02T00:00:00",
                    "2017-05-26T00:00:00",
                    "2017-05-19T00:00:00",
                    "2017-05-12T00:00:00",
                    "2017-05-05T00:00:00",
                    "2017-04-28T00:00:00",
                    "2017-04-21T00:00:00",
                    "2017-04-13T00:00:00",
                    "2017-04-07T00:00:00",
                    "2017-03-31T00:00:00",
                    "2017-03-24T00:00:00",
                    "2017-03-17T00:00:00",
                    "2017-03-10T00:00:00",
                    "2017-03-03T00:00:00",
                    "2017-02-24T00:00:00",
                    "2017-02-17T00:00:00",
                    "2017-02-10T00:00:00",
                    "2017-02-03T00:00:00",
                    "2017-01-27T00:00:00",
                    "2017-01-20T00:00:00",
                    "2017-01-13T00:00:00",
                    "2017-01-06T00:00:00",
                    "2016-12-30T00:00:00",
                    "2016-12-23T00:00:00",
                    "2016-12-16T00:00:00",
                    "2016-12-09T00:00:00",
                    "2016-12-02T00:00:00",
                    "2016-11-25T00:00:00",
                    "2016-11-18T00:00:00",
                    "2016-11-11T00:00:00",
                    "2016-11-04T00:00:00",
                    "2016-10-28T00:00:00",
                    "2016-10-21T00:00:00",
                    "2016-10-14T00:00:00",
                    "2016-10-07T00:00:00",
                    "2016-09-30T00:00:00",
                    "2016-09-23T00:00:00",
                    "2016-09-16T00:00:00",
                    "2016-09-09T00:00:00",
                    "2016-09-02T00:00:00",
                    "2016-08-26T00:00:00",
                    "2016-08-19T00:00:00",
                    "2016-08-12T00:00:00",
                    "2016-08-05T00:00:00",
                    "2016-07-29T00:00:00",
                    "2016-07-22T00:00:00",
                    "2016-07-15T00:00:00",
                    "2016-07-08T00:00:00",
                    "2016-07-01T00:00:00",
                    "2016-06-24T00:00:00",
                    "2016-06-17T00:00:00",
                    "2016-06-10T00:00:00",
                    "2016-06-03T00:00:00",
                    "2016-05-27T00:00:00",
                    "2016-05-20T00:00:00",
                    "2016-05-13T00:00:00",
                    "2016-05-06T00:00:00",
                    "2016-04-29T00:00:00",
                    "2016-04-22T00:00:00",
                    "2016-04-15T00:00:00",
                    "2016-04-08T00:00:00",
                    "2016-04-01T00:00:00",
                    "2016-03-24T00:00:00",
                    "2016-03-18T00:00:00",
                    "2016-03-11T00:00:00",
                    "2016-03-04T00:00:00",
                    "2016-02-26T00:00:00",
                    "2016-02-19T00:00:00",
                    "2016-02-12T00:00:00",
                    "2016-02-05T00:00:00",
                    "2016-01-29T00:00:00",
                    "2016-01-22T00:00:00",
                    "2016-01-15T00:00:00",
                    "2016-01-08T00:00:00",
                    "2015-12-31T00:00:00",
                    "2015-12-24T00:00:00",
                    "2015-12-18T00:00:00",
                    "2015-12-11T00:00:00",
                    "2015-12-04T00:00:00",
                    "2015-11-27T00:00:00",
                    "2015-11-20T00:00:00",
                    "2015-11-13T00:00:00",
                    "2015-11-06T00:00:00",
                    "2015-10-30T00:00:00",
                    "2015-10-23T00:00:00",
                    "2015-10-16T00:00:00",
                    "2015-10-09T00:00:00",
                    "2015-10-02T00:00:00",
                    "2015-09-25T00:00:00",
                    "2015-09-18T00:00:00",
                    "2015-09-11T00:00:00",
                    "2015-09-04T00:00:00",
                    "2015-08-28T00:00:00",
                    "2015-08-21T00:00:00",
                    "2015-08-14T00:00:00",
                    "2015-08-07T00:00:00",
                    "2015-07-31T00:00:00",
                    "2015-07-24T00:00:00",
                    "2015-07-17T00:00:00",
                    "2015-07-10T00:00:00",
                    "2015-07-02T00:00:00",
                    "2015-06-26T00:00:00",
                    "2015-06-19T00:00:00",
                    "2015-06-12T00:00:00",
                    "2015-06-05T00:00:00",
                    "2015-05-29T00:00:00",
                    "2015-05-22T00:00:00",
                    "2015-05-15T00:00:00",
                    "2015-05-08T00:00:00",
                    "2015-05-01T00:00:00",
                    "2015-04-24T00:00:00",
                    "2015-04-17T00:00:00",
                    "2015-04-10T00:00:00",
                    "2015-04-02T00:00:00",
                    "2015-03-27T00:00:00",
                    "2015-03-20T00:00:00",
                    "2015-03-13T00:00:00",
                    "2015-03-06T00:00:00",
                    "2015-02-27T00:00:00",
                    "2015-02-20T00:00:00",
                    "2015-02-13T00:00:00",
                    "2015-02-06T00:00:00",
                    "2015-01-30T00:00:00",
                    "2015-01-23T00:00:00",
                    "2015-01-16T00:00:00",
                    "2015-01-09T00:00:00",
                    "2015-01-02T00:00:00",
                    "2014-12-26T00:00:00",
                    "2014-12-19T00:00:00",
                    "2014-12-12T00:00:00",
                    "2014-12-05T00:00:00",
                    "2014-11-28T00:00:00",
                    "2014-11-21T00:00:00",
                    "2014-11-14T00:00:00",
                    "2014-11-07T00:00:00",
                    "2014-10-31T00:00:00",
                    "2014-10-24T00:00:00",
                    "2014-10-17T00:00:00",
                    "2014-10-10T00:00:00",
                    "2014-10-03T00:00:00",
                    "2014-09-26T00:00:00",
                    "2014-09-19T00:00:00",
                    "2014-09-12T00:00:00",
                    "2014-09-05T00:00:00",
                    "2014-08-29T00:00:00",
                    "2014-08-22T00:00:00",
                    "2014-08-15T00:00:00",
                    "2014-08-08T00:00:00",
                    "2014-08-01T00:00:00",
                    "2014-07-25T00:00:00",
                    "2014-07-18T00:00:00",
                    "2014-07-11T00:00:00",
                    "2014-07-03T00:00:00",
                    "2014-06-27T00:00:00",
                    "2014-06-20T00:00:00",
                    "2014-06-13T00:00:00",
                    "2014-06-06T00:00:00",
                    "2014-05-30T00:00:00",
                    "2014-05-23T00:00:00",
                    "2014-05-16T00:00:00",
                    "2014-05-09T00:00:00",
                    "2014-05-02T00:00:00",
                    "2014-04-25T00:00:00",
                    "2014-04-17T00:00:00",
                    "2014-04-11T00:00:00",
                    "2014-04-04T00:00:00",
                    "2014-03-28T00:00:00",
                    "2014-03-21T00:00:00",
                    "2014-03-14T00:00:00",
                    "2014-03-07T00:00:00",
                    "2014-02-28T00:00:00",
                    "2014-02-21T00:00:00",
                    "2014-02-14T00:00:00",
                    "2014-02-07T00:00:00",
                    "2014-01-31T00:00:00",
                    "2014-01-24T00:00:00",
                    "2014-01-17T00:00:00",
                    "2014-01-10T00:00:00",
                    "2014-01-03T00:00:00",
                    "2013-12-27T00:00:00",
                    "2013-12-20T00:00:00",
                    "2013-12-13T00:00:00",
                    "2013-12-06T00:00:00",
                    "2013-11-29T00:00:00",
                    "2013-11-22T00:00:00",
                    "2013-11-15T00:00:00",
                    "2013-11-08T00:00:00",
                    "2013-11-01T00:00:00",
                    "2013-10-25T00:00:00",
                    "2013-10-18T00:00:00",
                    "2013-10-11T00:00:00",
                    "2013-10-04T00:00:00",
                    "2013-09-27T00:00:00",
                    "2013-09-20T00:00:00",
                    "2013-09-13T00:00:00",
                    "2013-09-06T00:00:00",
                    "2013-08-30T00:00:00",
                    "2013-08-23T00:00:00",
                    "2013-08-16T00:00:00",
                    "2013-08-09T00:00:00",
                    "2013-08-02T00:00:00",
                    "2013-07-26T00:00:00",
                    "2013-07-19T00:00:00",
                    "2013-07-12T00:00:00",
                    "2013-07-05T00:00:00",
                    "2013-06-28T00:00:00",
                    "2013-06-21T00:00:00",
                    "2013-06-14T00:00:00",
                    "2013-06-07T00:00:00",
                    "2013-05-31T00:00:00",
                    "2013-05-24T00:00:00",
                    "2013-05-17T00:00:00",
                    "2013-05-10T00:00:00",
                    "2013-05-03T00:00:00",
                    "2013-04-26T00:00:00",
                    "2013-04-19T00:00:00",
                    "2013-04-12T00:00:00",
                    "2013-04-05T00:00:00",
                    "2013-03-28T00:00:00",
                    "2013-03-22T00:00:00",
                    "2013-03-15T00:00:00",
                    "2013-03-08T00:00:00",
                    "2013-03-01T00:00:00",
                    "2013-02-22T00:00:00",
                    "2013-02-15T00:00:00",
                    "2013-02-08T00:00:00",
                    "2013-02-01T00:00:00",
                    "2013-01-25T00:00:00",
                    "2013-01-18T00:00:00",
                    "2013-01-11T00:00:00",
                    "2013-01-04T00:00:00",
                    "2012-12-28T00:00:00",
                    "2012-12-21T00:00:00",
                    "2012-12-14T00:00:00",
                    "2012-12-07T00:00:00",
                    "2012-11-30T00:00:00",
                    "2012-11-23T00:00:00",
                    "2012-11-16T00:00:00",
                    "2012-11-09T00:00:00",
                    "2012-11-02T00:00:00",
                    "2012-10-26T00:00:00",
                    "2012-10-19T00:00:00",
                    "2012-10-12T00:00:00",
                    "2012-10-05T00:00:00",
                    "2012-09-28T00:00:00",
                    "2012-09-21T00:00:00",
                    "2012-09-14T00:00:00",
                    "2012-09-07T00:00:00",
                    "2012-08-31T00:00:00",
                    "2012-08-24T00:00:00",
                    "2012-08-17T00:00:00",
                    "2012-08-10T00:00:00",
                    "2012-08-03T00:00:00",
                    "2012-07-27T00:00:00",
                    "2012-07-20T00:00:00",
                    "2012-07-13T00:00:00",
                    "2012-07-06T00:00:00",
                    "2012-06-29T00:00:00",
                    "2012-06-22T00:00:00",
                    "2012-06-15T00:00:00",
                    "2012-06-08T00:00:00",
                    "2012-06-01T00:00:00",
                    "2012-05-25T00:00:00",
                    "2012-05-18T00:00:00",
                    "2012-05-11T00:00:00",
                    "2012-05-04T00:00:00",
                    "2012-04-27T00:00:00",
                    "2012-04-20T00:00:00",
                    "2012-04-13T00:00:00",
                    "2012-04-05T00:00:00",
                    "2012-03-30T00:00:00",
                    "2012-03-23T00:00:00",
                    "2012-03-16T00:00:00",
                    "2012-03-09T00:00:00",
                    "2012-03-02T00:00:00",
                    "2012-02-24T00:00:00",
                    "2012-02-17T00:00:00",
                    "2012-02-10T00:00:00",
                    "2012-02-03T00:00:00",
                    "2012-01-27T00:00:00",
                    "2012-01-20T00:00:00",
                    "2012-01-13T00:00:00",
                    "2012-01-06T00:00:00",
                    "2011-12-30T00:00:00",
                    "2011-12-23T00:00:00",
                    "2011-12-16T00:00:00",
                    "2011-12-09T00:00:00",
                    "2011-12-02T00:00:00",
                    "2011-11-25T00:00:00",
                    "2011-11-18T00:00:00",
                    "2011-11-11T00:00:00",
                    "2011-11-04T00:00:00",
                    "2011-10-28T00:00:00",
                    "2011-10-21T00:00:00",
                    "2011-10-14T00:00:00",
                    "2011-10-07T00:00:00",
                    "2011-09-30T00:00:00",
                    "2011-09-23T00:00:00",
                    "2011-09-16T00:00:00",
                    "2011-09-09T00:00:00",
                    "2011-09-02T00:00:00",
                    "2011-08-26T00:00:00",
                    "2011-08-19T00:00:00",
                    "2011-08-12T00:00:00",
                    "2011-08-05T00:00:00",
                    "2011-07-29T00:00:00",
                    "2011-07-22T00:00:00",
                    "2011-07-15T00:00:00",
                    "2011-07-08T00:00:00",
                    "2011-07-01T00:00:00",
                    "2011-06-24T00:00:00",
                    "2011-06-17T00:00:00",
                    "2011-06-10T00:00:00",
                    "2011-06-03T00:00:00",
                    "2011-05-27T00:00:00",
                    "2011-05-20T00:00:00",
                    "2011-05-13T00:00:00",
                    "2011-05-06T00:00:00",
                    "2011-04-29T00:00:00",
                    "2011-04-21T00:00:00",
                    "2011-04-15T00:00:00",
                    "2011-04-08T00:00:00",
                    "2011-04-01T00:00:00",
                    "2011-03-25T00:00:00",
                    "2011-03-18T00:00:00",
                    "2011-03-11T00:00:00",
                    "2011-03-04T00:00:00",
                    "2011-02-25T00:00:00",
                    "2011-02-18T00:00:00",
                    "2011-02-11T00:00:00",
                    "2011-02-04T00:00:00",
                    "2011-01-28T00:00:00",
                    "2011-01-21T00:00:00",
                    "2011-01-14T00:00:00",
                    "2011-01-07T00:00:00",
                    "2010-12-31T00:00:00",
                    "2010-12-23T00:00:00",
                    "2010-12-17T00:00:00",
                    "2010-12-10T00:00:00",
                    "2010-12-03T00:00:00",
                    "2010-11-26T00:00:00",
                    "2010-11-19T00:00:00",
                    "2010-11-12T00:00:00",
                    "2010-11-05T00:00:00",
                    "2010-10-29T00:00:00",
                    "2010-10-22T00:00:00",
                    "2010-10-15T00:00:00",
                    "2010-10-08T00:00:00",
                    "2010-10-01T00:00:00",
                    "2010-09-24T00:00:00",
                    "2010-09-17T00:00:00",
                    "2010-09-10T00:00:00",
                    "2010-09-03T00:00:00",
                    "2010-08-27T00:00:00",
                    "2010-08-20T00:00:00",
                    "2010-08-13T00:00:00",
                    "2010-08-06T00:00:00",
                    "2010-07-30T00:00:00",
                    "2010-07-23T00:00:00",
                    "2010-07-16T00:00:00",
                    "2010-07-09T00:00:00",
                    "2010-07-02T00:00:00",
                    "2010-06-25T00:00:00",
                    "2010-06-18T00:00:00",
                    "2010-06-11T00:00:00",
                    "2010-06-04T00:00:00",
                    "2010-05-28T00:00:00",
                    "2010-05-21T00:00:00",
                    "2010-05-14T00:00:00",
                    "2010-05-07T00:00:00",
                    "2010-04-30T00:00:00",
                    "2010-04-23T00:00:00",
                    "2010-04-16T00:00:00",
                    "2010-04-09T00:00:00",
                    "2010-04-01T00:00:00",
                    "2010-03-26T00:00:00",
                    "2010-03-19T00:00:00",
                    "2010-03-12T00:00:00",
                    "2010-03-05T00:00:00",
                    "2010-02-26T00:00:00",
                    "2010-02-19T00:00:00",
                    "2010-02-12T00:00:00",
                    "2010-02-05T00:00:00",
                    "2010-01-29T00:00:00",
                    "2010-01-22T00:00:00",
                    "2010-01-15T00:00:00",
                    "2010-01-08T00:00:00",
                    null,
                    null,
                    null,
                    null,
                    null,
                    null,
                    null,
                    null,
                    null,
                    null,
                    null,
                    null,
                    null,
                    null,
                    null,
                    null,
                    null,
                    null,
                    null,
                    null,
                    null,
                    null,
                    null,
                    null,
                    null,
                    null,
                    null,
                    null,
                    null,
                    null,
                    null,
                    null,
                    null,
                    null,
                    null,
                    null,
                    null,
                    null,
                    null,
                    null,
                    null,
                    null,
                    null,
                    null,
                    null,
                    null,
                    null,
                    null,
                    null,
                    null,
                    null,
                    null,
                    null,
                    null,
                    null,
                    null,
                    null,
                    null,
                    null,
                    null,
                    null,
                    null,
                    null,
                    null,
                    null,
                    null,
                    null,
                    null,
                    null,
                    null,
                    null,
                    null,
                    null,
                    null,
                    null,
                    null,
                    null,
                    null,
                    null,
                    null,
                    null,
                    null,
                    null,
                    null,
                    null,
                    null,
                    null,
                    null,
                    null,
                    null,
                    null,
                    null,
                    null,
                    null,
                    null,
                    null,
                    null,
                    null,
                    null,
                    null,
                    null,
                    null,
                    null,
                    null,
                    null,
                    null,
                    null,
                    null,
                    null,
                    null,
                    null,
                    null,
                    null,
                    null,
                    null,
                    null,
                    null,
                    null,
                    null,
                    null,
                    null,
                    null,
                    null,
                    null,
                    null,
                    null,
                    null,
                    null,
                    null,
                    null,
                    null,
                    null,
                    null,
                    null,
                    null,
                    null,
                    null,
                    null,
                    null,
                    null,
                    null,
                    null,
                    null,
                    null,
                    null,
                    null,
                    null,
                    null,
                    null,
                    null,
                    null,
                    null,
                    null,
                    null,
                    null,
                    null,
                    null,
                    null,
                    null,
                    null,
                    null,
                    null,
                    null,
                    null,
                    null,
                    null,
                    null,
                    null,
                    null,
                    null,
                    null,
                    null,
                    null,
                    null,
                    null,
                    null,
                    null,
                    null,
                    null,
                    null,
                    null,
                    null,
                    null,
                    null,
                    null,
                    null,
                    null,
                    null,
                    null,
                    null,
                    null,
                    null,
                    null,
                    null,
                    null,
                    null,
                    null,
                    null,
                    null,
                    null,
                    null,
                    null,
                    null,
                    null,
                    null,
                    null,
                    null,
                    null,
                    null,
                    null,
                    null,
                    null,
                    null,
                    null,
                    null,
                    null,
                    null,
                    null,
                    null,
                    null,
                    null,
                    null,
                    null,
                    null,
                    null,
                    null,
                    null,
                    null,
                    null,
                    null,
                    null,
                    null,
                    null,
                    null,
                    null,
                    null,
                    null,
                    null,
                    null,
                    null,
                    null,
                    null,
                    null,
                    null,
                    null,
                    null,
                    null,
                    null,
                    null,
                    null,
                    null,
                    null,
                    null,
                    null,
                    null,
                    null,
                    null,
                    null,
                    null,
                    null,
                    null,
                    null,
                    null,
                    null,
                    null,
                    null,
                    null,
                    null,
                    null,
                    null,
                    null,
                    null,
                    null,
                    null,
                    null,
                    null,
                    null,
                    null,
                    null,
                    null,
                    null,
                    null,
                    null,
                    null,
                    null,
                    null,
                    null,
                    null,
                    null,
                    null,
                    null,
                    null,
                    null,
                    null,
                    null,
                    null,
                    null,
                    null,
                    null,
                    null,
                    null,
                    null,
                    null,
                    null,
                    null,
                    null,
                    null,
                    null,
                    null,
                    null,
                    null,
                    null,
                    null,
                    null,
                    null,
                    null,
                    null,
                    null,
                    null,
                    null,
                    null,
                    null,
                    null,
                    null,
                    null,
                    null,
                    null,
                    null,
                    null,
                    null,
                    null,
                    null,
                    null,
                    null,
                    null,
                    null,
                    null,
                    null,
                    null,
                    null,
                    null,
                    null,
                    null,
                    null,
                    null,
                    null,
                    null,
                    null,
                    null,
                    null,
                    null,
                    null,
                    null,
                    null,
                    null,
                    null,
                    null,
                    null,
                    null,
                    null,
                    null,
                    null,
                    null,
                    null,
                    null,
                    null,
                    null,
                    null,
                    null,
                    null,
                    null,
                    null,
                    null,
                    null,
                    null,
                    null,
                    null,
                    null,
                    null,
                    null,
                    null,
                    null,
                    null,
                    null,
                    null,
                    null,
                    null,
                    null,
                    null,
                    null,
                    null,
                    null,
                    null,
                    null,
                    null,
                    null,
                    null,
                    null,
                    null,
                    null,
                    null,
                    null,
                    null,
                    null,
                    null,
                    null,
                    null,
                    null,
                    null,
                    null,
                    null,
                    null,
                    null,
                    null,
                    null,
                    null,
                    null,
                    null,
                    null,
                    null,
                    null,
                    null,
                    null,
                    null,
                    null,
                    null,
                    null,
                    null,
                    null,
                    null,
                    null,
                    null,
                    null,
                    null,
                    null,
                    null,
                    null,
                    null,
                    null,
                    null,
                    null,
                    null,
                    null,
                    null,
                    null,
                    null,
                    null,
                    null,
                    null,
                    null,
                    null,
                    null,
                    null,
                    null,
                    null,
                    null,
                    null,
                    null,
                    null,
                    null,
                    null,
                    null,
                    null,
                    null,
                    null,
                    null,
                    null,
                    null,
                    null,
                    null,
                    null,
                    null,
                    null,
                    null,
                    null,
                    null,
                    null,
                    null,
                    null,
                    null,
                    null,
                    null,
                    null,
                    null,
                    null,
                    null,
                    null,
                    null,
                    null,
                    null,
                    null,
                    null,
                    null,
                    null,
                    null,
                    null,
                    null,
                    null,
                    null,
                    null,
                    null,
                    null,
                    null,
                    null,
                    null,
                    null,
                    null,
                    null,
                    null,
                    null,
                    null,
                    null,
                    null,
                    null,
                    null,
                    null,
                    null,
                    null,
                    null,
                    null,
                    null,
                    null,
                    null,
                    null,
                    null,
                    null,
                    null,
                    null,
                    null,
                    null
                  ],
                  "y": [
                    222.72,
                    220.84,
                    217.7,
                    214.79,
                    200.74,
                    202.13,
                    196.1,
                    193.78,
                    191.45,
                    189.12,
                    191.75,
                    183.25,
                    182.83,
                    176.02,
                    172.95,
                    172.46,
                    169.21,
                    170.01,
                    166.85,
                    170.89,
                    169.03,
                    167.15,
                    165.71,
                    167.13,
                    181.58,
                    182.27,
                    189.14,
                    190.96,
                    190.84,
                    191.07,
                    195.95,
                    188.2,
                    185.72,
                    187.64,
                    186.34,
                    185.79,
                    187.42,
                    171.48,
                    165.8,
                    159.16,
                    163.55,
                    162.14,
                    162.23,
                    161.96,
                    160.55,
                    155.18,
                    152.89,
                    149.02,
                    147.9,
                    142.52,
                    137.16,
                    138.46,
                    142.03,
                    140.3,
                    146.91,
                    145.99,
                    147.68,
                    147.94,
                    145.35,
                    141.41,
                    143.12,
                    144.24,
                    143.45,
                    138.94,
                    133.4,
                    132.08,
                    133.81,
                    129.43,
                    137.48,
                    135.3,
                    132.42,
                    128.89,
                    127.26,
                    122.84,
                    123.65,
                    126.41,
                    125.73,
                    128.14,
                    130.5,
                    131.09,
                    125.29,
                    123.69,
                    125.45,
                    129.64,
                    130.57,
                    135.02,
                    135.6,
                    136.94,
                    134.39,
                    141.2,
                    145.89,
                    143.7,
                    140.89,
                    141.65,
                    140.16,
                    147.05,
                    148.67,
                    148.37,
                    147.64,
                    143.17,
                    136.96,
                    138.51,
                    129.9,
                    120.04,
                    118.82,
                    118.81,
                    122.71,
                    127.27,
                    129.19,
                    127.79,
                    130.38,
                    138.37,
                    134.01,
                    132.48,
                    130.79,
                    128.25,
                    139.92,
                    140.47,
                    141.12,
                    142.06,
                    135.02,
                    136.19,
                    141.18,
                    139.27,
                    128.48,
                    133.6,
                    137.67,
                    132.21,
                    138.25,
                    126.56,
                    127.73,
                    130.15,
                    131.35,
                    128.76,
                    123.96,
                    126.62,
                    124.18,
                    124.35,
                    132.69,
                    137.15,
                    134.5,
                    129.35,
                    134.21,
                    134.83,
                    133.66,
                    130.63,
                    127.4,
                    124.09,
                    118.84,
                    115.81,
                    116.05,
                    118.96,
                    123.61,
                    125.1,
                    127.88,
                    144.61,
                    143.22,
                    143.32,
                    137.49,
                    135.23,
                    137.02,
                    139.58,
                    139.41,
                    139.11,
                    143.18,
                    144.09,
                    140.96,
                    141.34,
                    138.9,
                    141.52,
                    140.02,
                    146.84,
                    143.12,
                    151.28,
                    147.42,
                    143.74,
                    144.74,
                    144.68,
                    145.46,
                    141.88,
                    142.43,
                    133.59,
                    135.73,
                    133.23,
                    136.38,
                    128.9,
                    127.61,
                    122.83,
                    118.93,
                    118.99,
                    120.8,
                    121.79,
                    119.11,
                    118.61,
                    128.39,
                    128.53,
                    125.88,
                    124.69,
                    125.85,
                    124.27,
                    127.2,
                    124.35,
                    116.94,
                    116.85,
                    114.04,
                    111.66,
                    116,
                    125.93,
                    127.79,
                    120.57,
                    118.95,
                    122.76,
                    121.46,
                    122.3,
                    125.07,
                    123.16,
                    125.27,
                    124.96,
                    122.94,
                    125.79,
                    125.11,
                    118.35,
                    119.7,
                    117.19,
                    122.47,
                    121.91,
                    132.06,
                    124.9,
                    118.39,
                    116.98,
                    122.99,
                    121.87,
                    124.72,
                    120.12,
                    121.5,
                    106.34,
                    108.03,
                    95.39,
                    107.95,
                    127.73,
                    130.15,
                    149.84,
                    150.7,
                    153.41,
                    143.73,
                    140.56,
                    138.31,
                    136.69,
                    134.34,
                    135.27,
                    135.59,
                    134.21,
                    133.22,
                    134.45,
                    134.34,
                    134.4,
                    137.61,
                    135.53,
                    135.44,
                    134.09,
                    142.76,
                    142.99,
                    143.24,
                    141.88,
                    143.67,
                    140.57,
                    135.53,
                    129.57,
                    133.76,
                    136.13,
                    147.25,
                    151.36,
                    149.68,
                    142.74,
                    141.38,
                    137.9,
                    139.2,
                    135.15,
                    133.31,
                    126.99,
                    132.28,
                    134.32,
                    135.32,
                    140.25,
                    139.44,
                    140.33,
                    144.35,
                    143.28,
                    141.1,
                    139.45,
                    139.43,
                    135.09,
                    139.2,
                    139.25,
                    138.03,
                    133.71,
                    134.1,
                    133.97,
                    123.82,
                    121.46,
                    117.32,
                    113.03,
                    110.94,
                    119.9,
                    119.34,
                    124.27,
                    117.19,
                    121.57,
                    123.54,
                    115.67,
                    124.79,
                    129.1,
                    140.85,
                    149.03,
                    151.21,
                    151.35,
                    148.33,
                    145.45,
                    146.48,
                    146.04,
                    146.06,
                    144.48,
                    147.7,
                    145.15,
                    146.35,
                    145.9,
                    142.48,
                    139.7,
                    141.28,
                    145.39,
                    146.14,
                    141.95,
                    143.64,
                    144.08,
                    144.14,
                    143.91,
                    146.48,
                    144.9,
                    156.71,
                    150.57,
                    153.43,
                    148.89,
                    160.26,
                    159.31,
                    154.49,
                    155.52,
                    156.18,
                    149.51,
                    159.03,
                    167.34,
                    162.37,
                    163.14,
                    162.49,
                    153.42,
                    152.5,
                    152.5,
                    154.81,
                    154.76,
                    151.84,
                    148.97,
                    149.16,
                    151.58,
                    153.68,
                    162.07,
                    147.1,
                    146.48,
                    145.08,
                    145.13,
                    144.82,
                    142.45,
                    144.08,
                    143.74,
                    139.7,
                    141.84,
                    145.16,
                    144.29,
                    147.08,
                    154.24,
                    152.94,
                    153.83,
                    154.11,
                    155.38,
                    154.1,
                    152.05,
                    152.49,
                    151.98,
                    150.37,
                    155.05,
                    160.29,
                    160.38,
                    169.53,
                    172.14,
                    174.14,
                    173.83,
                    175.65,
                    177.83,
                    180.05,
                    181.35,
                    180.67,
                    178.68,
                    175.82,
                    177.3,
                    170.55,
                    167.34,
                    169.53,
                    165.99,
                    166.71,
                    166.73,
                    166.52,
                    160.02,
                    163.14,
                    160.39,
                    161.27,
                    152.43,
                    152.61,
                    149.63,
                    154.45,
                    155.67,
                    158.85,
                    154.98,
                    153.84,
                    155.69,
                    159.55,
                    158.32,
                    160.04,
                    161.95,
                    163.5,
                    160.62,
                    162.07,
                    159.78,
                    154.46,
                    152.35,
                    146.59,
                    151.99,
                    152.37,
                    152.89,
                    152.84,
                    147.25,
                    147.72,
                    147.29,
                    145.94,
                    148.5,
                    151.72,
                    149.35,
                    152.52,
                    147.95,
                    147.09,
                    142.36,
                    137.8,
                    132.03,
                    133.08,
                    121.04,
                    128.57,
                    124.79,
                    122.5,
                    130.03,
                    131.63,
                    137.62,
                    138.25,
                    134.9,
                    134.57,
                    140.43,
                    138.46,
                    138.5,
                    131.75,
                    138.25,
                    140.08,
                    144.68,
                    150.39,
                    152.39,
                    144.58,
                    145.42,
                    144.51,
                    147.37,
                    143.7,
                    147.98,
                    148.85,
                    155.75,
                    155.12,
                    161.99,
                    159.75,
                    172.51,
                    166.95,
                    165.09,
                    165.46,
                    166.99,
                    166.99,
                    167.4,
                    169.65,
                    172.22,
                    173.26,
                    172.68,
                    173.67,
                    169.78,
                    160.67,
                    162.86,
                    160.45,
                    160.4,
                    162.88,
                    154.28,
                    158.5,
                    161.94,
                    163.65,
                    160.4,
                    156.72,
                    153.31,
                    155.87,
                    157.14,
                    159.11,
                    162.06,
                    162.34,
                    158.51,
                    155.38,
                    163.27,
                    162.17,
                    160.92,
                    164.16,
                    162.07,
                    164.4,
                    162.08,
                    182.05,
                    185.93,
                    188.67,
                    190.06,
                    194,
                    191.28,
                    191.2,
                    192.3,
                    190.41,
                    187.38,
                    186.63,
                    189.15,
                    194.4,
                    192.5,
                    188,
                    188.53,
                    181.71,
                    181.55,
                    182.56,
                    186.37,
                    184.36,
                    185.94,
                    187.06,
                    190.08,
                    191.44,
                    189.63,
                    190.01,
                    195.19,
                    191.77,
                    190.45,
                    186.67,
                    182.21,
                    187.68,
                    185.17,
                    182.79,
                    183.69,
                    177.25,
                    176.68,
                    179.64,
                    190.09,
                    187.26,
                    186.64,
                    185.08,
                    180.02,
                    172.8,
                    177.67,
                    179.68,
                    181.3,
                    183.19,
                    179.99,
                    179.23,
                    176.85,
                    173.78,
                    186.16,
                    184.1,
                    186.92,
                    190.02,
                    192.17,
                    183.03,
                    182.27,
                    185.42,
                    185.34,
                    187.82,
                    195.16,
                    197.35,
                    193.54,
                    192.07,
                    194.93,
                    191.11,
                    195.46,
                    202.2,
                    206.35,
                    208.02,
                    205.72,
                    208.44,
                    204.47,
                    204.51,
                    194.31,
                    190,
                    211.38,
                    209.41,
                    213.3,
                    212.08,
                    214.92,
                    210.38,
                    202.91,
                    201.09,
                    200.98,
                    201.68,
                    205.18,
                    204.97,
                    194.47,
                    194.45,
                    193.99,
                    189.83,
                    193.42,
                    191.76,
                    191.95,
                    190.07,
                    193.49,
                    186.94,
                    189.64,
                    193.43,
                    193.27,
                    193.36,
                    207.8,
                    210.59,
                    207.45,
                    205.98,
                    206.81,
                    199.5,
                    194.85,
                    197.77,
                    201.22,
                    199.29,
                    198.52,
                    196.39,
                    192.45,
                    186.01,
                    191.41,
                    195.58,
                    193.7,
                    199.1,
                    195.14,
                    189.08,
                    194.3,
                    195.88,
                    201.17,
                    204.99,
                    206.81,
                    199.6,
                    202.8,
                    205.47,
                    208.65,
                    205.48,
                    206.01,
                    200.62,
                    198.81,
                    197.76,
                    193.42,
                    192.42,
                    193.64,
                    190.46,
                    188.52,
                    179.16,
                    182.54,
                    183.88,
                    184.75,
                    183.57,
                    194.56,
                    189.66,
                    177.06,
                    185.24,
                    187.38,
                    186.38,
                    187.45,
                    181.63,
                    190.53,
                    182.39,
                    174.87,
                    169.34,
                    172.99,
                    161.37,
                    166.98,
                    169.14,
                    157.54,
                    168.2,
                    172.98,
                    181.85,
                    185.18,
                    175.54,
                    176.49,
                    174.54,
                    165.07,
                    164.44,
                    163.18,
                    165.05,
                    167.5,
                    170.16,
                    169.92,
                    168.89,
                    170.58,
                    168.28,
                    166.21,
                    164.05,
                    164.27,
                    162.18,
                    155.89,
                    162.43,
                    161.83,
                    162.28,
                    164.84,
                    163.85,
                    164,
                    159.21,
                    155.5,
                    150,
                    147.93,
                    146.76,
                    145.89,
                    145,
                    144.82,
                    145.38,
                    143.9,
                    145.05,
                    143.74,
                    146.92,
                    143.6,
                    139.67,
                    141.06,
                    138.85,
                    135.64,
                    134.11,
                    130.19,
                    127.99,
                    127.58,
                    124.73,
                    127.5,
                    127.87,
                    130.14,
                    128.4,
                    128.38,
                    128.03,
                    127.96,
                    121.86,
                    127.12,
                    130.15,
                    128.45,
                    125.28,
                    125.26,
                    125.42,
                    131.19,
                    122.1,
                    129,
                    129.99,
                    130.63,
                    128.76,
                    128.25,
                    129.26,
                    127.71,
                    127.94,
                    127.25,
                    127.16,
                    127.19,
                    124,
                    122.97,
                    122.39,
                    125.5,
                    131.78,
                    130.85,
                    null,
                    null,
                    null,
                    null,
                    null,
                    null,
                    null,
                    null,
                    null,
                    null,
                    null,
                    null,
                    null,
                    null,
                    null,
                    null,
                    null,
                    null,
                    null,
                    null,
                    null,
                    null,
                    null,
                    null,
                    null,
                    null,
                    null,
                    null,
                    null,
                    null,
                    null,
                    null,
                    null,
                    null,
                    null,
                    null,
                    null,
                    null,
                    null,
                    null,
                    null,
                    null,
                    null,
                    null,
                    null,
                    null,
                    null,
                    null,
                    null,
                    null,
                    null,
                    null,
                    null,
                    null,
                    null,
                    null,
                    null,
                    null,
                    null,
                    null,
                    null,
                    null,
                    null,
                    null,
                    null,
                    null,
                    null,
                    null,
                    null,
                    null,
                    null,
                    null,
                    null,
                    null,
                    null,
                    null,
                    null,
                    null,
                    null,
                    null,
                    null,
                    null,
                    null,
                    null,
                    null,
                    null,
                    null,
                    null,
                    null,
                    null,
                    null,
                    null,
                    null,
                    null,
                    null,
                    null,
                    null,
                    null,
                    null,
                    null,
                    null,
                    null,
                    null,
                    null,
                    null,
                    null,
                    null,
                    null,
                    null,
                    null,
                    null,
                    null,
                    null,
                    null,
                    null,
                    null,
                    null,
                    null,
                    null,
                    null,
                    null,
                    null,
                    null,
                    null,
                    null,
                    null,
                    null,
                    null,
                    null,
                    null,
                    null,
                    null,
                    null,
                    null,
                    null,
                    null,
                    null,
                    null,
                    null,
                    null,
                    null,
                    null,
                    null,
                    null,
                    null,
                    null,
                    null,
                    null,
                    null,
                    null,
                    null,
                    null,
                    null,
                    null,
                    null,
                    null,
                    null,
                    null,
                    null,
                    null,
                    null,
                    null,
                    null,
                    null,
                    null,
                    null,
                    null,
                    null,
                    null,
                    null,
                    null,
                    null,
                    null,
                    null,
                    null,
                    null,
                    null,
                    null,
                    null,
                    null,
                    null,
                    null,
                    null,
                    null,
                    null,
                    null,
                    null,
                    null,
                    null,
                    null,
                    null,
                    null,
                    null,
                    null,
                    null,
                    null,
                    null,
                    null,
                    null,
                    null,
                    null,
                    null,
                    null,
                    null,
                    null,
                    null,
                    null,
                    null,
                    null,
                    null,
                    null,
                    null,
                    null,
                    null,
                    null,
                    null,
                    null,
                    null,
                    null,
                    null,
                    null,
                    null,
                    null,
                    null,
                    null,
                    null,
                    null,
                    null,
                    null,
                    null,
                    null,
                    null,
                    null,
                    null,
                    null,
                    null,
                    null,
                    null,
                    null,
                    null,
                    null,
                    null,
                    null,
                    null,
                    null,
                    null,
                    null,
                    null,
                    null,
                    null,
                    null,
                    null,
                    null,
                    null,
                    null,
                    null,
                    null,
                    null,
                    null,
                    null,
                    null,
                    null,
                    null,
                    null,
                    null,
                    null,
                    null,
                    null,
                    null,
                    null,
                    null,
                    null,
                    null,
                    null,
                    null,
                    null,
                    null,
                    null,
                    null,
                    null,
                    null,
                    null,
                    null,
                    null,
                    null,
                    null,
                    null,
                    null,
                    null,
                    null,
                    null,
                    null,
                    null,
                    null,
                    null,
                    null,
                    null,
                    null,
                    null,
                    null,
                    null,
                    null,
                    null,
                    null,
                    null,
                    null,
                    null,
                    null,
                    null,
                    null,
                    null,
                    null,
                    null,
                    null,
                    null,
                    null,
                    null,
                    null,
                    null,
                    null,
                    null,
                    null,
                    null,
                    null,
                    null,
                    null,
                    null,
                    null,
                    null,
                    null,
                    null,
                    null,
                    null,
                    null,
                    null,
                    null,
                    null,
                    null,
                    null,
                    null,
                    null,
                    null,
                    null,
                    null,
                    null,
                    null,
                    null,
                    null,
                    null,
                    null,
                    null,
                    null,
                    null,
                    null,
                    null,
                    null,
                    null,
                    null,
                    null,
                    null,
                    null,
                    null,
                    null,
                    null,
                    null,
                    null,
                    null,
                    null,
                    null,
                    null,
                    null,
                    null,
                    null,
                    null,
                    null,
                    null,
                    null,
                    null,
                    null,
                    null,
                    null,
                    null,
                    null,
                    null,
                    null,
                    null,
                    null,
                    null,
                    null,
                    null,
                    null,
                    null,
                    null,
                    null,
                    null,
                    null,
                    null,
                    null,
                    null,
                    null,
                    null,
                    null,
                    null,
                    null,
                    null,
                    null,
                    null,
                    null,
                    null,
                    null,
                    null,
                    null,
                    null,
                    null,
                    null,
                    null,
                    null,
                    null,
                    null,
                    null,
                    null,
                    null,
                    null,
                    null,
                    null,
                    null,
                    null,
                    null,
                    null,
                    null,
                    null,
                    null,
                    null,
                    null,
                    null,
                    null,
                    null,
                    null,
                    null,
                    null,
                    null,
                    null,
                    null,
                    null,
                    null,
                    null,
                    null,
                    null,
                    null,
                    null,
                    null,
                    null,
                    null,
                    null,
                    null,
                    null,
                    null,
                    null,
                    null,
                    null,
                    null,
                    null,
                    null,
                    null,
                    null,
                    null,
                    null,
                    null,
                    null,
                    null,
                    null,
                    null,
                    null,
                    null,
                    null,
                    null,
                    null,
                    null,
                    null,
                    null,
                    null,
                    null,
                    null,
                    null,
                    null,
                    null,
                    null,
                    null,
                    null,
                    null,
                    null,
                    null,
                    null,
                    null,
                    null,
                    null,
                    null,
                    null,
                    null,
                    null,
                    null,
                    null,
                    null,
                    null,
                    null,
                    null,
                    null,
                    null,
                    null,
                    null,
                    null,
                    null,
                    null,
                    null,
                    null,
                    null,
                    null,
                    null,
                    null,
                    null,
                    null,
                    null,
                    null,
                    null,
                    null,
                    null,
                    null,
                    null,
                    null,
                    null
                  ],
                  "type": "scatter"
                }
              ],
              "layout": {
                "template": {
                  "data": {
                    "barpolar": [
                      {
                        "marker": {
                          "line": {
                            "color": "#E5ECF6",
                            "width": 0.5
                          },
                          "pattern": {
                            "fillmode": "overlay",
                            "size": 10,
                            "solidity": 0.2
                          }
                        },
                        "type": "barpolar"
                      }
                    ],
                    "bar": [
                      {
                        "error_x": {
                          "color": "#2a3f5f"
                        },
                        "error_y": {
                          "color": "#2a3f5f"
                        },
                        "marker": {
                          "line": {
                            "color": "#E5ECF6",
                            "width": 0.5
                          },
                          "pattern": {
                            "fillmode": "overlay",
                            "size": 10,
                            "solidity": 0.2
                          }
                        },
                        "type": "bar"
                      }
                    ],
                    "carpet": [
                      {
                        "aaxis": {
                          "endlinecolor": "#2a3f5f",
                          "gridcolor": "white",
                          "linecolor": "white",
                          "minorgridcolor": "white",
                          "startlinecolor": "#2a3f5f"
                        },
                        "baxis": {
                          "endlinecolor": "#2a3f5f",
                          "gridcolor": "white",
                          "linecolor": "white",
                          "minorgridcolor": "white",
                          "startlinecolor": "#2a3f5f"
                        },
                        "type": "carpet"
                      }
                    ],
                    "choropleth": [
                      {
                        "colorbar": {
                          "outlinewidth": 0,
                          "ticks": ""
                        },
                        "type": "choropleth"
                      }
                    ],
                    "contourcarpet": [
                      {
                        "colorbar": {
                          "outlinewidth": 0,
                          "ticks": ""
                        },
                        "type": "contourcarpet"
                      }
                    ],
                    "contour": [
                      {
                        "colorbar": {
                          "outlinewidth": 0,
                          "ticks": ""
                        },
                        "colorscale": [
                          [
                            0,
                            "#0d0887"
                          ],
                          [
                            0.1111111111111111,
                            "#46039f"
                          ],
                          [
                            0.2222222222222222,
                            "#7201a8"
                          ],
                          [
                            0.3333333333333333,
                            "#9c179e"
                          ],
                          [
                            0.4444444444444444,
                            "#bd3786"
                          ],
                          [
                            0.5555555555555556,
                            "#d8576b"
                          ],
                          [
                            0.6666666666666666,
                            "#ed7953"
                          ],
                          [
                            0.7777777777777778,
                            "#fb9f3a"
                          ],
                          [
                            0.8888888888888888,
                            "#fdca26"
                          ],
                          [
                            1,
                            "#f0f921"
                          ]
                        ],
                        "type": "contour"
                      }
                    ],
                    "heatmapgl": [
                      {
                        "colorbar": {
                          "outlinewidth": 0,
                          "ticks": ""
                        },
                        "colorscale": [
                          [
                            0,
                            "#0d0887"
                          ],
                          [
                            0.1111111111111111,
                            "#46039f"
                          ],
                          [
                            0.2222222222222222,
                            "#7201a8"
                          ],
                          [
                            0.3333333333333333,
                            "#9c179e"
                          ],
                          [
                            0.4444444444444444,
                            "#bd3786"
                          ],
                          [
                            0.5555555555555556,
                            "#d8576b"
                          ],
                          [
                            0.6666666666666666,
                            "#ed7953"
                          ],
                          [
                            0.7777777777777778,
                            "#fb9f3a"
                          ],
                          [
                            0.8888888888888888,
                            "#fdca26"
                          ],
                          [
                            1,
                            "#f0f921"
                          ]
                        ],
                        "type": "heatmapgl"
                      }
                    ],
                    "heatmap": [
                      {
                        "colorbar": {
                          "outlinewidth": 0,
                          "ticks": ""
                        },
                        "colorscale": [
                          [
                            0,
                            "#0d0887"
                          ],
                          [
                            0.1111111111111111,
                            "#46039f"
                          ],
                          [
                            0.2222222222222222,
                            "#7201a8"
                          ],
                          [
                            0.3333333333333333,
                            "#9c179e"
                          ],
                          [
                            0.4444444444444444,
                            "#bd3786"
                          ],
                          [
                            0.5555555555555556,
                            "#d8576b"
                          ],
                          [
                            0.6666666666666666,
                            "#ed7953"
                          ],
                          [
                            0.7777777777777778,
                            "#fb9f3a"
                          ],
                          [
                            0.8888888888888888,
                            "#fdca26"
                          ],
                          [
                            1,
                            "#f0f921"
                          ]
                        ],
                        "type": "heatmap"
                      }
                    ],
                    "histogram2dcontour": [
                      {
                        "colorbar": {
                          "outlinewidth": 0,
                          "ticks": ""
                        },
                        "colorscale": [
                          [
                            0,
                            "#0d0887"
                          ],
                          [
                            0.1111111111111111,
                            "#46039f"
                          ],
                          [
                            0.2222222222222222,
                            "#7201a8"
                          ],
                          [
                            0.3333333333333333,
                            "#9c179e"
                          ],
                          [
                            0.4444444444444444,
                            "#bd3786"
                          ],
                          [
                            0.5555555555555556,
                            "#d8576b"
                          ],
                          [
                            0.6666666666666666,
                            "#ed7953"
                          ],
                          [
                            0.7777777777777778,
                            "#fb9f3a"
                          ],
                          [
                            0.8888888888888888,
                            "#fdca26"
                          ],
                          [
                            1,
                            "#f0f921"
                          ]
                        ],
                        "type": "histogram2dcontour"
                      }
                    ],
                    "histogram2d": [
                      {
                        "colorbar": {
                          "outlinewidth": 0,
                          "ticks": ""
                        },
                        "colorscale": [
                          [
                            0,
                            "#0d0887"
                          ],
                          [
                            0.1111111111111111,
                            "#46039f"
                          ],
                          [
                            0.2222222222222222,
                            "#7201a8"
                          ],
                          [
                            0.3333333333333333,
                            "#9c179e"
                          ],
                          [
                            0.4444444444444444,
                            "#bd3786"
                          ],
                          [
                            0.5555555555555556,
                            "#d8576b"
                          ],
                          [
                            0.6666666666666666,
                            "#ed7953"
                          ],
                          [
                            0.7777777777777778,
                            "#fb9f3a"
                          ],
                          [
                            0.8888888888888888,
                            "#fdca26"
                          ],
                          [
                            1,
                            "#f0f921"
                          ]
                        ],
                        "type": "histogram2d"
                      }
                    ],
                    "histogram": [
                      {
                        "marker": {
                          "pattern": {
                            "fillmode": "overlay",
                            "size": 10,
                            "solidity": 0.2
                          }
                        },
                        "type": "histogram"
                      }
                    ],
                    "mesh3d": [
                      {
                        "colorbar": {
                          "outlinewidth": 0,
                          "ticks": ""
                        },
                        "type": "mesh3d"
                      }
                    ],
                    "parcoords": [
                      {
                        "line": {
                          "colorbar": {
                            "outlinewidth": 0,
                            "ticks": ""
                          }
                        },
                        "type": "parcoords"
                      }
                    ],
                    "pie": [
                      {
                        "automargin": true,
                        "type": "pie"
                      }
                    ],
                    "scatter3d": [
                      {
                        "line": {
                          "colorbar": {
                            "outlinewidth": 0,
                            "ticks": ""
                          }
                        },
                        "marker": {
                          "colorbar": {
                            "outlinewidth": 0,
                            "ticks": ""
                          }
                        },
                        "type": "scatter3d"
                      }
                    ],
                    "scattercarpet": [
                      {
                        "marker": {
                          "colorbar": {
                            "outlinewidth": 0,
                            "ticks": ""
                          }
                        },
                        "type": "scattercarpet"
                      }
                    ],
                    "scattergeo": [
                      {
                        "marker": {
                          "colorbar": {
                            "outlinewidth": 0,
                            "ticks": ""
                          }
                        },
                        "type": "scattergeo"
                      }
                    ],
                    "scattergl": [
                      {
                        "marker": {
                          "colorbar": {
                            "outlinewidth": 0,
                            "ticks": ""
                          }
                        },
                        "type": "scattergl"
                      }
                    ],
                    "scattermapbox": [
                      {
                        "marker": {
                          "colorbar": {
                            "outlinewidth": 0,
                            "ticks": ""
                          }
                        },
                        "type": "scattermapbox"
                      }
                    ],
                    "scatterpolargl": [
                      {
                        "marker": {
                          "colorbar": {
                            "outlinewidth": 0,
                            "ticks": ""
                          }
                        },
                        "type": "scatterpolargl"
                      }
                    ],
                    "scatterpolar": [
                      {
                        "marker": {
                          "colorbar": {
                            "outlinewidth": 0,
                            "ticks": ""
                          }
                        },
                        "type": "scatterpolar"
                      }
                    ],
                    "scatter": [
                      {
                        "fillpattern": {
                          "fillmode": "overlay",
                          "size": 10,
                          "solidity": 0.2
                        },
                        "type": "scatter"
                      }
                    ],
                    "scatterternary": [
                      {
                        "marker": {
                          "colorbar": {
                            "outlinewidth": 0,
                            "ticks": ""
                          }
                        },
                        "type": "scatterternary"
                      }
                    ],
                    "surface": [
                      {
                        "colorbar": {
                          "outlinewidth": 0,
                          "ticks": ""
                        },
                        "colorscale": [
                          [
                            0,
                            "#0d0887"
                          ],
                          [
                            0.1111111111111111,
                            "#46039f"
                          ],
                          [
                            0.2222222222222222,
                            "#7201a8"
                          ],
                          [
                            0.3333333333333333,
                            "#9c179e"
                          ],
                          [
                            0.4444444444444444,
                            "#bd3786"
                          ],
                          [
                            0.5555555555555556,
                            "#d8576b"
                          ],
                          [
                            0.6666666666666666,
                            "#ed7953"
                          ],
                          [
                            0.7777777777777778,
                            "#fb9f3a"
                          ],
                          [
                            0.8888888888888888,
                            "#fdca26"
                          ],
                          [
                            1,
                            "#f0f921"
                          ]
                        ],
                        "type": "surface"
                      }
                    ],
                    "table": [
                      {
                        "cells": {
                          "fill": {
                            "color": "#EBF0F8"
                          },
                          "line": {
                            "color": "white"
                          }
                        },
                        "header": {
                          "fill": {
                            "color": "#C8D4E3"
                          },
                          "line": {
                            "color": "white"
                          }
                        },
                        "type": "table"
                      }
                    ]
                  },
                  "layout": {
                    "annotationdefaults": {
                      "arrowcolor": "#2a3f5f",
                      "arrowhead": 0,
                      "arrowwidth": 1
                    },
                    "autotypenumbers": "strict",
                    "coloraxis": {
                      "colorbar": {
                        "outlinewidth": 0,
                        "ticks": ""
                      }
                    },
                    "colorscale": {
                      "diverging": [
                        [
                          0,
                          "#8e0152"
                        ],
                        [
                          0.1,
                          "#c51b7d"
                        ],
                        [
                          0.2,
                          "#de77ae"
                        ],
                        [
                          0.3,
                          "#f1b6da"
                        ],
                        [
                          0.4,
                          "#fde0ef"
                        ],
                        [
                          0.5,
                          "#f7f7f7"
                        ],
                        [
                          0.6,
                          "#e6f5d0"
                        ],
                        [
                          0.7,
                          "#b8e186"
                        ],
                        [
                          0.8,
                          "#7fbc41"
                        ],
                        [
                          0.9,
                          "#4d9221"
                        ],
                        [
                          1,
                          "#276419"
                        ]
                      ],
                      "sequential": [
                        [
                          0,
                          "#0d0887"
                        ],
                        [
                          0.1111111111111111,
                          "#46039f"
                        ],
                        [
                          0.2222222222222222,
                          "#7201a8"
                        ],
                        [
                          0.3333333333333333,
                          "#9c179e"
                        ],
                        [
                          0.4444444444444444,
                          "#bd3786"
                        ],
                        [
                          0.5555555555555556,
                          "#d8576b"
                        ],
                        [
                          0.6666666666666666,
                          "#ed7953"
                        ],
                        [
                          0.7777777777777778,
                          "#fb9f3a"
                        ],
                        [
                          0.8888888888888888,
                          "#fdca26"
                        ],
                        [
                          1,
                          "#f0f921"
                        ]
                      ],
                      "sequentialminus": [
                        [
                          0,
                          "#0d0887"
                        ],
                        [
                          0.1111111111111111,
                          "#46039f"
                        ],
                        [
                          0.2222222222222222,
                          "#7201a8"
                        ],
                        [
                          0.3333333333333333,
                          "#9c179e"
                        ],
                        [
                          0.4444444444444444,
                          "#bd3786"
                        ],
                        [
                          0.5555555555555556,
                          "#d8576b"
                        ],
                        [
                          0.6666666666666666,
                          "#ed7953"
                        ],
                        [
                          0.7777777777777778,
                          "#fb9f3a"
                        ],
                        [
                          0.8888888888888888,
                          "#fdca26"
                        ],
                        [
                          1,
                          "#f0f921"
                        ]
                      ]
                    },
                    "colorway": [
                      "#636efa",
                      "#EF553B",
                      "#00cc96",
                      "#ab63fa",
                      "#FFA15A",
                      "#19d3f3",
                      "#FF6692",
                      "#B6E880",
                      "#FF97FF",
                      "#FECB52"
                    ],
                    "font": {
                      "color": "#2a3f5f"
                    },
                    "geo": {
                      "bgcolor": "white",
                      "lakecolor": "white",
                      "landcolor": "#E5ECF6",
                      "showlakes": true,
                      "showland": true,
                      "subunitcolor": "white"
                    },
                    "hoverlabel": {
                      "align": "left"
                    },
                    "hovermode": "closest",
                    "mapbox": {
                      "style": "light"
                    },
                    "paper_bgcolor": "white",
                    "plot_bgcolor": "#E5ECF6",
                    "polar": {
                      "angularaxis": {
                        "gridcolor": "white",
                        "linecolor": "white",
                        "ticks": ""
                      },
                      "bgcolor": "#E5ECF6",
                      "radialaxis": {
                        "gridcolor": "white",
                        "linecolor": "white",
                        "ticks": ""
                      }
                    },
                    "scene": {
                      "xaxis": {
                        "backgroundcolor": "#E5ECF6",
                        "gridcolor": "white",
                        "gridwidth": 2,
                        "linecolor": "white",
                        "showbackground": true,
                        "ticks": "",
                        "zerolinecolor": "white"
                      },
                      "yaxis": {
                        "backgroundcolor": "#E5ECF6",
                        "gridcolor": "white",
                        "gridwidth": 2,
                        "linecolor": "white",
                        "showbackground": true,
                        "ticks": "",
                        "zerolinecolor": "white"
                      },
                      "zaxis": {
                        "backgroundcolor": "#E5ECF6",
                        "gridcolor": "white",
                        "gridwidth": 2,
                        "linecolor": "white",
                        "showbackground": true,
                        "ticks": "",
                        "zerolinecolor": "white"
                      }
                    },
                    "shapedefaults": {
                      "line": {
                        "color": "#2a3f5f"
                      }
                    },
                    "ternary": {
                      "aaxis": {
                        "gridcolor": "white",
                        "linecolor": "white",
                        "ticks": ""
                      },
                      "baxis": {
                        "gridcolor": "white",
                        "linecolor": "white",
                        "ticks": ""
                      },
                      "bgcolor": "#E5ECF6",
                      "caxis": {
                        "gridcolor": "white",
                        "linecolor": "white",
                        "ticks": ""
                      }
                    },
                    "title": {
                      "x": 0.05
                    },
                    "xaxis": {
                      "automargin": true,
                      "gridcolor": "white",
                      "linecolor": "white",
                      "ticks": "",
                      "title": {
                        "standoff": 15
                      },
                      "zerolinecolor": "white",
                      "zerolinewidth": 2
                    },
                    "yaxis": {
                      "automargin": true,
                      "gridcolor": "white",
                      "linecolor": "white",
                      "ticks": "",
                      "title": {
                        "standoff": 15
                      },
                      "zerolinecolor": "white",
                      "zerolinewidth": 2
                    }
                  }
                },
                "title": {
                  "font": {
                    "color": "#7f7f7f",
                    "family": "Courier New, monospace",
                    "size": 18
                  },
                  "text": "IBM Stock Prices"
                },
                "xaxis": {
                  "tickformat": "%Y-%m-%d",
                  "title": {
                    "font": {
                      "color": "#7f7f7f",
                      "family": "Courier New, monospace",
                      "size": 18
                    },
                    "text": "Date"
                  }
                },
                "yaxis": {
                  "title": {
                    "font": {
                      "color": "#7f7f7f",
                      "family": "Courier New, monospace",
                      "size": 18
                    },
                    "text": "Price (USD)"
                  }
                }
              },
              "config": {
                "showLink": false,
                "linkText": "Export to plot.ly",
                "plotlyServerURL": "https://plot.ly"
              }
            },
            "text/html": [
              "<div>                            <div id=\"b3952fa0-c96a-4a1e-b1a4-ee67ec333078\" class=\"plotly-graph-div\" style=\"height:525px; width:100%;\"></div>            <script type=\"text/javascript\">                require([\"plotly\"], function(Plotly) {                    window.PLOTLYENV=window.PLOTLYENV || {};                                    if (document.getElementById(\"b3952fa0-c96a-4a1e-b1a4-ee67ec333078\")) {                    Plotly.newPlot(                        \"b3952fa0-c96a-4a1e-b1a4-ee67ec333078\",                        [{\"line\":{\"color\":\"blue\"},\"mode\":\"lines\",\"name\":\"IBM Close Price\",\"x\":[\"2024-10-03T00:00:00\",\"2024-09-27T00:00:00\",\"2024-09-20T00:00:00\",\"2024-09-13T00:00:00\",\"2024-09-06T00:00:00\",\"2024-08-30T00:00:00\",\"2024-08-23T00:00:00\",\"2024-08-16T00:00:00\",\"2024-08-09T00:00:00\",\"2024-08-02T00:00:00\",\"2024-07-26T00:00:00\",\"2024-07-19T00:00:00\",\"2024-07-12T00:00:00\",\"2024-07-05T00:00:00\",\"2024-06-28T00:00:00\",\"2024-06-21T00:00:00\",\"2024-06-14T00:00:00\",\"2024-06-07T00:00:00\",\"2024-05-31T00:00:00\",\"2024-05-24T00:00:00\",\"2024-05-17T00:00:00\",\"2024-05-10T00:00:00\",\"2024-05-03T00:00:00\",\"2024-04-26T00:00:00\",\"2024-04-19T00:00:00\",\"2024-04-12T00:00:00\",\"2024-04-05T00:00:00\",\"2024-03-28T00:00:00\",\"2024-03-22T00:00:00\",\"2024-03-15T00:00:00\",\"2024-03-08T00:00:00\",\"2024-03-01T00:00:00\",\"2024-02-23T00:00:00\",\"2024-02-16T00:00:00\",\"2024-02-09T00:00:00\",\"2024-02-02T00:00:00\",\"2024-01-26T00:00:00\",\"2024-01-19T00:00:00\",\"2024-01-12T00:00:00\",\"2024-01-05T00:00:00\",\"2023-12-29T00:00:00\",\"2023-12-22T00:00:00\",\"2023-12-15T00:00:00\",\"2023-12-08T00:00:00\",\"2023-12-01T00:00:00\",\"2023-11-24T00:00:00\",\"2023-11-17T00:00:00\",\"2023-11-10T00:00:00\",\"2023-11-03T00:00:00\",\"2023-10-27T00:00:00\",\"2023-10-20T00:00:00\",\"2023-10-13T00:00:00\",\"2023-10-06T00:00:00\",\"2023-09-29T00:00:00\",\"2023-09-22T00:00:00\",\"2023-09-15T00:00:00\",\"2023-09-08T00:00:00\",\"2023-09-01T00:00:00\",\"2023-08-25T00:00:00\",\"2023-08-18T00:00:00\",\"2023-08-11T00:00:00\",\"2023-08-04T00:00:00\",\"2023-07-28T00:00:00\",\"2023-07-21T00:00:00\",\"2023-07-14T00:00:00\",\"2023-07-07T00:00:00\",\"2023-06-30T00:00:00\",\"2023-06-23T00:00:00\",\"2023-06-16T00:00:00\",\"2023-06-09T00:00:00\",\"2023-06-02T00:00:00\",\"2023-05-26T00:00:00\",\"2023-05-19T00:00:00\",\"2023-05-12T00:00:00\",\"2023-05-05T00:00:00\",\"2023-04-28T00:00:00\",\"2023-04-21T00:00:00\",\"2023-04-14T00:00:00\",\"2023-04-06T00:00:00\",\"2023-03-31T00:00:00\",\"2023-03-24T00:00:00\",\"2023-03-17T00:00:00\",\"2023-03-10T00:00:00\",\"2023-03-03T00:00:00\",\"2023-02-24T00:00:00\",\"2023-02-17T00:00:00\",\"2023-02-10T00:00:00\",\"2023-02-03T00:00:00\",\"2023-01-27T00:00:00\",\"2023-01-20T00:00:00\",\"2023-01-13T00:00:00\",\"2023-01-06T00:00:00\",\"2022-12-30T00:00:00\",\"2022-12-23T00:00:00\",\"2022-12-16T00:00:00\",\"2022-12-09T00:00:00\",\"2022-12-02T00:00:00\",\"2022-11-25T00:00:00\",\"2022-11-18T00:00:00\",\"2022-11-11T00:00:00\",\"2022-11-04T00:00:00\",\"2022-10-28T00:00:00\",\"2022-10-21T00:00:00\",\"2022-10-14T00:00:00\",\"2022-10-07T00:00:00\",\"2022-09-30T00:00:00\",\"2022-09-23T00:00:00\",\"2022-09-16T00:00:00\",\"2022-09-09T00:00:00\",\"2022-09-02T00:00:00\",\"2022-08-26T00:00:00\",\"2022-08-19T00:00:00\",\"2022-08-12T00:00:00\",\"2022-08-05T00:00:00\",\"2022-07-29T00:00:00\",\"2022-07-22T00:00:00\",\"2022-07-15T00:00:00\",\"2022-07-08T00:00:00\",\"2022-07-01T00:00:00\",\"2022-06-24T00:00:00\",\"2022-06-17T00:00:00\",\"2022-06-10T00:00:00\",\"2022-06-03T00:00:00\",\"2022-05-27T00:00:00\",\"2022-05-20T00:00:00\",\"2022-05-13T00:00:00\",\"2022-05-06T00:00:00\",\"2022-04-29T00:00:00\",\"2022-04-22T00:00:00\",\"2022-04-14T00:00:00\",\"2022-04-08T00:00:00\",\"2022-04-01T00:00:00\",\"2022-03-25T00:00:00\",\"2022-03-18T00:00:00\",\"2022-03-11T00:00:00\",\"2022-03-04T00:00:00\",\"2022-02-25T00:00:00\",\"2022-02-18T00:00:00\",\"2022-02-11T00:00:00\",\"2022-02-04T00:00:00\",\"2022-01-28T00:00:00\",\"2022-01-21T00:00:00\",\"2022-01-14T00:00:00\",\"2022-01-07T00:00:00\",\"2021-12-31T00:00:00\",\"2021-12-23T00:00:00\",\"2021-12-17T00:00:00\",\"2021-12-10T00:00:00\",\"2021-12-03T00:00:00\",\"2021-11-26T00:00:00\",\"2021-11-19T00:00:00\",\"2021-11-12T00:00:00\",\"2021-11-05T00:00:00\",\"2021-10-29T00:00:00\",\"2021-10-22T00:00:00\",\"2021-10-15T00:00:00\",\"2021-10-08T00:00:00\",\"2021-10-01T00:00:00\",\"2021-09-24T00:00:00\",\"2021-09-17T00:00:00\",\"2021-09-10T00:00:00\",\"2021-09-03T00:00:00\",\"2021-08-27T00:00:00\",\"2021-08-20T00:00:00\",\"2021-08-13T00:00:00\",\"2021-08-06T00:00:00\",\"2021-07-30T00:00:00\",\"2021-07-23T00:00:00\",\"2021-07-16T00:00:00\",\"2021-07-09T00:00:00\",\"2021-07-02T00:00:00\",\"2021-06-25T00:00:00\",\"2021-06-18T00:00:00\",\"2021-06-11T00:00:00\",\"2021-06-04T00:00:00\",\"2021-05-28T00:00:00\",\"2021-05-21T00:00:00\",\"2021-05-14T00:00:00\",\"2021-05-07T00:00:00\",\"2021-04-30T00:00:00\",\"2021-04-23T00:00:00\",\"2021-04-16T00:00:00\",\"2021-04-09T00:00:00\",\"2021-04-01T00:00:00\",\"2021-03-26T00:00:00\",\"2021-03-19T00:00:00\",\"2021-03-12T00:00:00\",\"2021-03-05T00:00:00\",\"2021-02-26T00:00:00\",\"2021-02-19T00:00:00\",\"2021-02-12T00:00:00\",\"2021-02-05T00:00:00\",\"2021-01-29T00:00:00\",\"2021-01-22T00:00:00\",\"2021-01-15T00:00:00\",\"2021-01-08T00:00:00\",\"2020-12-31T00:00:00\",\"2020-12-24T00:00:00\",\"2020-12-18T00:00:00\",\"2020-12-11T00:00:00\",\"2020-12-04T00:00:00\",\"2020-11-27T00:00:00\",\"2020-11-20T00:00:00\",\"2020-11-13T00:00:00\",\"2020-11-06T00:00:00\",\"2020-10-30T00:00:00\",\"2020-10-23T00:00:00\",\"2020-10-16T00:00:00\",\"2020-10-09T00:00:00\",\"2020-10-02T00:00:00\",\"2020-09-25T00:00:00\",\"2020-09-18T00:00:00\",\"2020-09-11T00:00:00\",\"2020-09-04T00:00:00\",\"2020-08-28T00:00:00\",\"2020-08-21T00:00:00\",\"2020-08-14T00:00:00\",\"2020-08-07T00:00:00\",\"2020-07-31T00:00:00\",\"2020-07-24T00:00:00\",\"2020-07-17T00:00:00\",\"2020-07-10T00:00:00\",\"2020-07-02T00:00:00\",\"2020-06-26T00:00:00\",\"2020-06-19T00:00:00\",\"2020-06-12T00:00:00\",\"2020-06-05T00:00:00\",\"2020-05-29T00:00:00\",\"2020-05-22T00:00:00\",\"2020-05-15T00:00:00\",\"2020-05-08T00:00:00\",\"2020-05-01T00:00:00\",\"2020-04-24T00:00:00\",\"2020-04-17T00:00:00\",\"2020-04-09T00:00:00\",\"2020-04-03T00:00:00\",\"2020-03-27T00:00:00\",\"2020-03-20T00:00:00\",\"2020-03-13T00:00:00\",\"2020-03-06T00:00:00\",\"2020-02-28T00:00:00\",\"2020-02-21T00:00:00\",\"2020-02-14T00:00:00\",\"2020-02-07T00:00:00\",\"2020-01-31T00:00:00\",\"2020-01-24T00:00:00\",\"2020-01-17T00:00:00\",\"2020-01-10T00:00:00\",\"2020-01-03T00:00:00\",\"2019-12-27T00:00:00\",\"2019-12-20T00:00:00\",\"2019-12-13T00:00:00\",\"2019-12-06T00:00:00\",\"2019-11-29T00:00:00\",\"2019-11-22T00:00:00\",\"2019-11-15T00:00:00\",\"2019-11-08T00:00:00\",\"2019-11-01T00:00:00\",\"2019-10-25T00:00:00\",\"2019-10-18T00:00:00\",\"2019-10-11T00:00:00\",\"2019-10-04T00:00:00\",\"2019-09-27T00:00:00\",\"2019-09-20T00:00:00\",\"2019-09-13T00:00:00\",\"2019-09-06T00:00:00\",\"2019-08-30T00:00:00\",\"2019-08-23T00:00:00\",\"2019-08-16T00:00:00\",\"2019-08-09T00:00:00\",\"2019-08-02T00:00:00\",\"2019-07-26T00:00:00\",\"2019-07-19T00:00:00\",\"2019-07-12T00:00:00\",\"2019-07-05T00:00:00\",\"2019-06-28T00:00:00\",\"2019-06-21T00:00:00\",\"2019-06-14T00:00:00\",\"2019-06-07T00:00:00\",\"2019-05-31T00:00:00\",\"2019-05-24T00:00:00\",\"2019-05-17T00:00:00\",\"2019-05-10T00:00:00\",\"2019-05-03T00:00:00\",\"2019-04-26T00:00:00\",\"2019-04-18T00:00:00\",\"2019-04-12T00:00:00\",\"2019-04-05T00:00:00\",\"2019-03-29T00:00:00\",\"2019-03-22T00:00:00\",\"2019-03-15T00:00:00\",\"2019-03-08T00:00:00\",\"2019-03-01T00:00:00\",\"2019-02-22T00:00:00\",\"2019-02-15T00:00:00\",\"2019-02-08T00:00:00\",\"2019-02-01T00:00:00\",\"2019-01-25T00:00:00\",\"2019-01-18T00:00:00\",\"2019-01-11T00:00:00\",\"2019-01-04T00:00:00\",\"2018-12-28T00:00:00\",\"2018-12-21T00:00:00\",\"2018-12-14T00:00:00\",\"2018-12-07T00:00:00\",\"2018-11-30T00:00:00\",\"2018-11-23T00:00:00\",\"2018-11-16T00:00:00\",\"2018-11-09T00:00:00\",\"2018-11-02T00:00:00\",\"2018-10-26T00:00:00\",\"2018-10-19T00:00:00\",\"2018-10-12T00:00:00\",\"2018-10-05T00:00:00\",\"2018-09-28T00:00:00\",\"2018-09-21T00:00:00\",\"2018-09-14T00:00:00\",\"2018-09-07T00:00:00\",\"2018-08-31T00:00:00\",\"2018-08-24T00:00:00\",\"2018-08-17T00:00:00\",\"2018-08-10T00:00:00\",\"2018-08-03T00:00:00\",\"2018-07-27T00:00:00\",\"2018-07-20T00:00:00\",\"2018-07-13T00:00:00\",\"2018-07-06T00:00:00\",\"2018-06-29T00:00:00\",\"2018-06-22T00:00:00\",\"2018-06-15T00:00:00\",\"2018-06-08T00:00:00\",\"2018-06-01T00:00:00\",\"2018-05-25T00:00:00\",\"2018-05-18T00:00:00\",\"2018-05-11T00:00:00\",\"2018-05-04T00:00:00\",\"2018-04-27T00:00:00\",\"2018-04-20T00:00:00\",\"2018-04-13T00:00:00\",\"2018-04-06T00:00:00\",\"2018-03-29T00:00:00\",\"2018-03-23T00:00:00\",\"2018-03-16T00:00:00\",\"2018-03-09T00:00:00\",\"2018-03-02T00:00:00\",\"2018-02-23T00:00:00\",\"2018-02-16T00:00:00\",\"2018-02-09T00:00:00\",\"2018-02-02T00:00:00\",\"2018-01-26T00:00:00\",\"2018-01-19T00:00:00\",\"2018-01-12T00:00:00\",\"2018-01-05T00:00:00\",\"2017-12-29T00:00:00\",\"2017-12-22T00:00:00\",\"2017-12-15T00:00:00\",\"2017-12-08T00:00:00\",\"2017-12-01T00:00:00\",\"2017-11-24T00:00:00\",\"2017-11-17T00:00:00\",\"2017-11-10T00:00:00\",\"2017-11-03T00:00:00\",\"2017-10-27T00:00:00\",\"2017-10-20T00:00:00\",\"2017-10-13T00:00:00\",\"2017-10-06T00:00:00\",\"2017-09-29T00:00:00\",\"2017-09-22T00:00:00\",\"2017-09-15T00:00:00\",\"2017-09-08T00:00:00\",\"2017-09-01T00:00:00\",\"2017-08-25T00:00:00\",\"2017-08-18T00:00:00\",\"2017-08-11T00:00:00\",\"2017-08-04T00:00:00\",\"2017-07-28T00:00:00\",\"2017-07-21T00:00:00\",\"2017-07-14T00:00:00\",\"2017-07-07T00:00:00\",\"2017-06-30T00:00:00\",\"2017-06-23T00:00:00\",\"2017-06-16T00:00:00\",\"2017-06-09T00:00:00\",\"2017-06-02T00:00:00\",\"2017-05-26T00:00:00\",\"2017-05-19T00:00:00\",\"2017-05-12T00:00:00\",\"2017-05-05T00:00:00\",\"2017-04-28T00:00:00\",\"2017-04-21T00:00:00\",\"2017-04-13T00:00:00\",\"2017-04-07T00:00:00\",\"2017-03-31T00:00:00\",\"2017-03-24T00:00:00\",\"2017-03-17T00:00:00\",\"2017-03-10T00:00:00\",\"2017-03-03T00:00:00\",\"2017-02-24T00:00:00\",\"2017-02-17T00:00:00\",\"2017-02-10T00:00:00\",\"2017-02-03T00:00:00\",\"2017-01-27T00:00:00\",\"2017-01-20T00:00:00\",\"2017-01-13T00:00:00\",\"2017-01-06T00:00:00\",\"2016-12-30T00:00:00\",\"2016-12-23T00:00:00\",\"2016-12-16T00:00:00\",\"2016-12-09T00:00:00\",\"2016-12-02T00:00:00\",\"2016-11-25T00:00:00\",\"2016-11-18T00:00:00\",\"2016-11-11T00:00:00\",\"2016-11-04T00:00:00\",\"2016-10-28T00:00:00\",\"2016-10-21T00:00:00\",\"2016-10-14T00:00:00\",\"2016-10-07T00:00:00\",\"2016-09-30T00:00:00\",\"2016-09-23T00:00:00\",\"2016-09-16T00:00:00\",\"2016-09-09T00:00:00\",\"2016-09-02T00:00:00\",\"2016-08-26T00:00:00\",\"2016-08-19T00:00:00\",\"2016-08-12T00:00:00\",\"2016-08-05T00:00:00\",\"2016-07-29T00:00:00\",\"2016-07-22T00:00:00\",\"2016-07-15T00:00:00\",\"2016-07-08T00:00:00\",\"2016-07-01T00:00:00\",\"2016-06-24T00:00:00\",\"2016-06-17T00:00:00\",\"2016-06-10T00:00:00\",\"2016-06-03T00:00:00\",\"2016-05-27T00:00:00\",\"2016-05-20T00:00:00\",\"2016-05-13T00:00:00\",\"2016-05-06T00:00:00\",\"2016-04-29T00:00:00\",\"2016-04-22T00:00:00\",\"2016-04-15T00:00:00\",\"2016-04-08T00:00:00\",\"2016-04-01T00:00:00\",\"2016-03-24T00:00:00\",\"2016-03-18T00:00:00\",\"2016-03-11T00:00:00\",\"2016-03-04T00:00:00\",\"2016-02-26T00:00:00\",\"2016-02-19T00:00:00\",\"2016-02-12T00:00:00\",\"2016-02-05T00:00:00\",\"2016-01-29T00:00:00\",\"2016-01-22T00:00:00\",\"2016-01-15T00:00:00\",\"2016-01-08T00:00:00\",\"2015-12-31T00:00:00\",\"2015-12-24T00:00:00\",\"2015-12-18T00:00:00\",\"2015-12-11T00:00:00\",\"2015-12-04T00:00:00\",\"2015-11-27T00:00:00\",\"2015-11-20T00:00:00\",\"2015-11-13T00:00:00\",\"2015-11-06T00:00:00\",\"2015-10-30T00:00:00\",\"2015-10-23T00:00:00\",\"2015-10-16T00:00:00\",\"2015-10-09T00:00:00\",\"2015-10-02T00:00:00\",\"2015-09-25T00:00:00\",\"2015-09-18T00:00:00\",\"2015-09-11T00:00:00\",\"2015-09-04T00:00:00\",\"2015-08-28T00:00:00\",\"2015-08-21T00:00:00\",\"2015-08-14T00:00:00\",\"2015-08-07T00:00:00\",\"2015-07-31T00:00:00\",\"2015-07-24T00:00:00\",\"2015-07-17T00:00:00\",\"2015-07-10T00:00:00\",\"2015-07-02T00:00:00\",\"2015-06-26T00:00:00\",\"2015-06-19T00:00:00\",\"2015-06-12T00:00:00\",\"2015-06-05T00:00:00\",\"2015-05-29T00:00:00\",\"2015-05-22T00:00:00\",\"2015-05-15T00:00:00\",\"2015-05-08T00:00:00\",\"2015-05-01T00:00:00\",\"2015-04-24T00:00:00\",\"2015-04-17T00:00:00\",\"2015-04-10T00:00:00\",\"2015-04-02T00:00:00\",\"2015-03-27T00:00:00\",\"2015-03-20T00:00:00\",\"2015-03-13T00:00:00\",\"2015-03-06T00:00:00\",\"2015-02-27T00:00:00\",\"2015-02-20T00:00:00\",\"2015-02-13T00:00:00\",\"2015-02-06T00:00:00\",\"2015-01-30T00:00:00\",\"2015-01-23T00:00:00\",\"2015-01-16T00:00:00\",\"2015-01-09T00:00:00\",\"2015-01-02T00:00:00\",\"2014-12-26T00:00:00\",\"2014-12-19T00:00:00\",\"2014-12-12T00:00:00\",\"2014-12-05T00:00:00\",\"2014-11-28T00:00:00\",\"2014-11-21T00:00:00\",\"2014-11-14T00:00:00\",\"2014-11-07T00:00:00\",\"2014-10-31T00:00:00\",\"2014-10-24T00:00:00\",\"2014-10-17T00:00:00\",\"2014-10-10T00:00:00\",\"2014-10-03T00:00:00\",\"2014-09-26T00:00:00\",\"2014-09-19T00:00:00\",\"2014-09-12T00:00:00\",\"2014-09-05T00:00:00\",\"2014-08-29T00:00:00\",\"2014-08-22T00:00:00\",\"2014-08-15T00:00:00\",\"2014-08-08T00:00:00\",\"2014-08-01T00:00:00\",\"2014-07-25T00:00:00\",\"2014-07-18T00:00:00\",\"2014-07-11T00:00:00\",\"2014-07-03T00:00:00\",\"2014-06-27T00:00:00\",\"2014-06-20T00:00:00\",\"2014-06-13T00:00:00\",\"2014-06-06T00:00:00\",\"2014-05-30T00:00:00\",\"2014-05-23T00:00:00\",\"2014-05-16T00:00:00\",\"2014-05-09T00:00:00\",\"2014-05-02T00:00:00\",\"2014-04-25T00:00:00\",\"2014-04-17T00:00:00\",\"2014-04-11T00:00:00\",\"2014-04-04T00:00:00\",\"2014-03-28T00:00:00\",\"2014-03-21T00:00:00\",\"2014-03-14T00:00:00\",\"2014-03-07T00:00:00\",\"2014-02-28T00:00:00\",\"2014-02-21T00:00:00\",\"2014-02-14T00:00:00\",\"2014-02-07T00:00:00\",\"2014-01-31T00:00:00\",\"2014-01-24T00:00:00\",\"2014-01-17T00:00:00\",\"2014-01-10T00:00:00\",\"2014-01-03T00:00:00\",\"2013-12-27T00:00:00\",\"2013-12-20T00:00:00\",\"2013-12-13T00:00:00\",\"2013-12-06T00:00:00\",\"2013-11-29T00:00:00\",\"2013-11-22T00:00:00\",\"2013-11-15T00:00:00\",\"2013-11-08T00:00:00\",\"2013-11-01T00:00:00\",\"2013-10-25T00:00:00\",\"2013-10-18T00:00:00\",\"2013-10-11T00:00:00\",\"2013-10-04T00:00:00\",\"2013-09-27T00:00:00\",\"2013-09-20T00:00:00\",\"2013-09-13T00:00:00\",\"2013-09-06T00:00:00\",\"2013-08-30T00:00:00\",\"2013-08-23T00:00:00\",\"2013-08-16T00:00:00\",\"2013-08-09T00:00:00\",\"2013-08-02T00:00:00\",\"2013-07-26T00:00:00\",\"2013-07-19T00:00:00\",\"2013-07-12T00:00:00\",\"2013-07-05T00:00:00\",\"2013-06-28T00:00:00\",\"2013-06-21T00:00:00\",\"2013-06-14T00:00:00\",\"2013-06-07T00:00:00\",\"2013-05-31T00:00:00\",\"2013-05-24T00:00:00\",\"2013-05-17T00:00:00\",\"2013-05-10T00:00:00\",\"2013-05-03T00:00:00\",\"2013-04-26T00:00:00\",\"2013-04-19T00:00:00\",\"2013-04-12T00:00:00\",\"2013-04-05T00:00:00\",\"2013-03-28T00:00:00\",\"2013-03-22T00:00:00\",\"2013-03-15T00:00:00\",\"2013-03-08T00:00:00\",\"2013-03-01T00:00:00\",\"2013-02-22T00:00:00\",\"2013-02-15T00:00:00\",\"2013-02-08T00:00:00\",\"2013-02-01T00:00:00\",\"2013-01-25T00:00:00\",\"2013-01-18T00:00:00\",\"2013-01-11T00:00:00\",\"2013-01-04T00:00:00\",\"2012-12-28T00:00:00\",\"2012-12-21T00:00:00\",\"2012-12-14T00:00:00\",\"2012-12-07T00:00:00\",\"2012-11-30T00:00:00\",\"2012-11-23T00:00:00\",\"2012-11-16T00:00:00\",\"2012-11-09T00:00:00\",\"2012-11-02T00:00:00\",\"2012-10-26T00:00:00\",\"2012-10-19T00:00:00\",\"2012-10-12T00:00:00\",\"2012-10-05T00:00:00\",\"2012-09-28T00:00:00\",\"2012-09-21T00:00:00\",\"2012-09-14T00:00:00\",\"2012-09-07T00:00:00\",\"2012-08-31T00:00:00\",\"2012-08-24T00:00:00\",\"2012-08-17T00:00:00\",\"2012-08-10T00:00:00\",\"2012-08-03T00:00:00\",\"2012-07-27T00:00:00\",\"2012-07-20T00:00:00\",\"2012-07-13T00:00:00\",\"2012-07-06T00:00:00\",\"2012-06-29T00:00:00\",\"2012-06-22T00:00:00\",\"2012-06-15T00:00:00\",\"2012-06-08T00:00:00\",\"2012-06-01T00:00:00\",\"2012-05-25T00:00:00\",\"2012-05-18T00:00:00\",\"2012-05-11T00:00:00\",\"2012-05-04T00:00:00\",\"2012-04-27T00:00:00\",\"2012-04-20T00:00:00\",\"2012-04-13T00:00:00\",\"2012-04-05T00:00:00\",\"2012-03-30T00:00:00\",\"2012-03-23T00:00:00\",\"2012-03-16T00:00:00\",\"2012-03-09T00:00:00\",\"2012-03-02T00:00:00\",\"2012-02-24T00:00:00\",\"2012-02-17T00:00:00\",\"2012-02-10T00:00:00\",\"2012-02-03T00:00:00\",\"2012-01-27T00:00:00\",\"2012-01-20T00:00:00\",\"2012-01-13T00:00:00\",\"2012-01-06T00:00:00\",\"2011-12-30T00:00:00\",\"2011-12-23T00:00:00\",\"2011-12-16T00:00:00\",\"2011-12-09T00:00:00\",\"2011-12-02T00:00:00\",\"2011-11-25T00:00:00\",\"2011-11-18T00:00:00\",\"2011-11-11T00:00:00\",\"2011-11-04T00:00:00\",\"2011-10-28T00:00:00\",\"2011-10-21T00:00:00\",\"2011-10-14T00:00:00\",\"2011-10-07T00:00:00\",\"2011-09-30T00:00:00\",\"2011-09-23T00:00:00\",\"2011-09-16T00:00:00\",\"2011-09-09T00:00:00\",\"2011-09-02T00:00:00\",\"2011-08-26T00:00:00\",\"2011-08-19T00:00:00\",\"2011-08-12T00:00:00\",\"2011-08-05T00:00:00\",\"2011-07-29T00:00:00\",\"2011-07-22T00:00:00\",\"2011-07-15T00:00:00\",\"2011-07-08T00:00:00\",\"2011-07-01T00:00:00\",\"2011-06-24T00:00:00\",\"2011-06-17T00:00:00\",\"2011-06-10T00:00:00\",\"2011-06-03T00:00:00\",\"2011-05-27T00:00:00\",\"2011-05-20T00:00:00\",\"2011-05-13T00:00:00\",\"2011-05-06T00:00:00\",\"2011-04-29T00:00:00\",\"2011-04-21T00:00:00\",\"2011-04-15T00:00:00\",\"2011-04-08T00:00:00\",\"2011-04-01T00:00:00\",\"2011-03-25T00:00:00\",\"2011-03-18T00:00:00\",\"2011-03-11T00:00:00\",\"2011-03-04T00:00:00\",\"2011-02-25T00:00:00\",\"2011-02-18T00:00:00\",\"2011-02-11T00:00:00\",\"2011-02-04T00:00:00\",\"2011-01-28T00:00:00\",\"2011-01-21T00:00:00\",\"2011-01-14T00:00:00\",\"2011-01-07T00:00:00\",\"2010-12-31T00:00:00\",\"2010-12-23T00:00:00\",\"2010-12-17T00:00:00\",\"2010-12-10T00:00:00\",\"2010-12-03T00:00:00\",\"2010-11-26T00:00:00\",\"2010-11-19T00:00:00\",\"2010-11-12T00:00:00\",\"2010-11-05T00:00:00\",\"2010-10-29T00:00:00\",\"2010-10-22T00:00:00\",\"2010-10-15T00:00:00\",\"2010-10-08T00:00:00\",\"2010-10-01T00:00:00\",\"2010-09-24T00:00:00\",\"2010-09-17T00:00:00\",\"2010-09-10T00:00:00\",\"2010-09-03T00:00:00\",\"2010-08-27T00:00:00\",\"2010-08-20T00:00:00\",\"2010-08-13T00:00:00\",\"2010-08-06T00:00:00\",\"2010-07-30T00:00:00\",\"2010-07-23T00:00:00\",\"2010-07-16T00:00:00\",\"2010-07-09T00:00:00\",\"2010-07-02T00:00:00\",\"2010-06-25T00:00:00\",\"2010-06-18T00:00:00\",\"2010-06-11T00:00:00\",\"2010-06-04T00:00:00\",\"2010-05-28T00:00:00\",\"2010-05-21T00:00:00\",\"2010-05-14T00:00:00\",\"2010-05-07T00:00:00\",\"2010-04-30T00:00:00\",\"2010-04-23T00:00:00\",\"2010-04-16T00:00:00\",\"2010-04-09T00:00:00\",\"2010-04-01T00:00:00\",\"2010-03-26T00:00:00\",\"2010-03-19T00:00:00\",\"2010-03-12T00:00:00\",\"2010-03-05T00:00:00\",\"2010-02-26T00:00:00\",\"2010-02-19T00:00:00\",\"2010-02-12T00:00:00\",\"2010-02-05T00:00:00\",\"2010-01-29T00:00:00\",\"2010-01-22T00:00:00\",\"2010-01-15T00:00:00\",\"2010-01-08T00:00:00\",null,null,null,null,null,null,null,null,null,null,null,null,null,null,null,null,null,null,null,null,null,null,null,null,null,null,null,null,null,null,null,null,null,null,null,null,null,null,null,null,null,null,null,null,null,null,null,null,null,null,null,null,null,null,null,null,null,null,null,null,null,null,null,null,null,null,null,null,null,null,null,null,null,null,null,null,null,null,null,null,null,null,null,null,null,null,null,null,null,null,null,null,null,null,null,null,null,null,null,null,null,null,null,null,null,null,null,null,null,null,null,null,null,null,null,null,null,null,null,null,null,null,null,null,null,null,null,null,null,null,null,null,null,null,null,null,null,null,null,null,null,null,null,null,null,null,null,null,null,null,null,null,null,null,null,null,null,null,null,null,null,null,null,null,null,null,null,null,null,null,null,null,null,null,null,null,null,null,null,null,null,null,null,null,null,null,null,null,null,null,null,null,null,null,null,null,null,null,null,null,null,null,null,null,null,null,null,null,null,null,null,null,null,null,null,null,null,null,null,null,null,null,null,null,null,null,null,null,null,null,null,null,null,null,null,null,null,null,null,null,null,null,null,null,null,null,null,null,null,null,null,null,null,null,null,null,null,null,null,null,null,null,null,null,null,null,null,null,null,null,null,null,null,null,null,null,null,null,null,null,null,null,null,null,null,null,null,null,null,null,null,null,null,null,null,null,null,null,null,null,null,null,null,null,null,null,null,null,null,null,null,null,null,null,null,null,null,null,null,null,null,null,null,null,null,null,null,null,null,null,null,null,null,null,null,null,null,null,null,null,null,null,null,null,null,null,null,null,null,null,null,null,null,null,null,null,null,null,null,null,null,null,null,null,null,null,null,null,null,null,null,null,null,null,null,null,null,null,null,null,null,null,null,null,null,null,null,null,null,null,null,null,null,null,null,null,null,null,null,null,null,null,null,null,null,null,null,null,null,null,null,null,null,null,null,null,null,null,null,null,null,null,null,null,null,null,null,null,null,null,null,null,null,null,null,null,null,null,null,null,null,null,null,null,null,null,null,null,null,null,null,null,null,null,null,null,null,null,null,null,null,null,null,null,null,null,null,null,null,null,null,null,null,null,null,null,null,null,null,null,null,null,null,null,null,null,null,null,null,null,null,null,null,null,null,null,null,null,null,null,null,null,null,null,null,null,null,null,null,null,null,null,null,null,null,null,null,null,null,null,null,null,null,null,null,null,null,null,null,null],\"y\":[222.72,220.84,217.7,214.79,200.74,202.13,196.1,193.78,191.45,189.12,191.75,183.25,182.83,176.02,172.95,172.46,169.21,170.01,166.85,170.89,169.03,167.15,165.71,167.13,181.58,182.27,189.14,190.96,190.84,191.07,195.95,188.2,185.72,187.64,186.34,185.79,187.42,171.48,165.8,159.16,163.55,162.14,162.23,161.96,160.55,155.18,152.89,149.02,147.9,142.52,137.16,138.46,142.03,140.3,146.91,145.99,147.68,147.94,145.35,141.41,143.12,144.24,143.45,138.94,133.4,132.08,133.81,129.43,137.48,135.3,132.42,128.89,127.26,122.84,123.65,126.41,125.73,128.14,130.5,131.09,125.29,123.69,125.45,129.64,130.57,135.02,135.6,136.94,134.39,141.2,145.89,143.7,140.89,141.65,140.16,147.05,148.67,148.37,147.64,143.17,136.96,138.51,129.9,120.04,118.82,118.81,122.71,127.27,129.19,127.79,130.38,138.37,134.01,132.48,130.79,128.25,139.92,140.47,141.12,142.06,135.02,136.19,141.18,139.27,128.48,133.6,137.67,132.21,138.25,126.56,127.73,130.15,131.35,128.76,123.96,126.62,124.18,124.35,132.69,137.15,134.5,129.35,134.21,134.83,133.66,130.63,127.4,124.09,118.84,115.81,116.05,118.96,123.61,125.1,127.88,144.61,143.22,143.32,137.49,135.23,137.02,139.58,139.41,139.11,143.18,144.09,140.96,141.34,138.9,141.52,140.02,146.84,143.12,151.28,147.42,143.74,144.74,144.68,145.46,141.88,142.43,133.59,135.73,133.23,136.38,128.9,127.61,122.83,118.93,118.99,120.8,121.79,119.11,118.61,128.39,128.53,125.88,124.69,125.85,124.27,127.2,124.35,116.94,116.85,114.04,111.66,116.0,125.93,127.79,120.57,118.95,122.76,121.46,122.3,125.07,123.16,125.27,124.96,122.94,125.79,125.11,118.35,119.7,117.19,122.47,121.91,132.06,124.9,118.39,116.98,122.99,121.87,124.72,120.12,121.5,106.34,108.03,95.39,107.95,127.73,130.15,149.84,150.7,153.41,143.73,140.56,138.31,136.69,134.34,135.27,135.59,134.21,133.22,134.45,134.34,134.4,137.61,135.53,135.44,134.09,142.76,142.99,143.24,141.88,143.67,140.57,135.53,129.57,133.76,136.13,147.25,151.36,149.68,142.74,141.38,137.9,139.2,135.15,133.31,126.99,132.28,134.32,135.32,140.25,139.44,140.33,144.35,143.28,141.1,139.45,139.43,135.09,139.2,139.25,138.03,133.71,134.1,133.97,123.82,121.46,117.32,113.03,110.94,119.9,119.34,124.27,117.19,121.57,123.54,115.67,124.79,129.1,140.85,149.03,151.21,151.35,148.33,145.45,146.48,146.04,146.06,144.48,147.7,145.15,146.35,145.9,142.48,139.7,141.28,145.39,146.14,141.95,143.64,144.08,144.14,143.91,146.48,144.9,156.71,150.57,153.43,148.89,160.26,159.31,154.49,155.52,156.18,149.51,159.03,167.34,162.37,163.14,162.49,153.42,152.5,152.5,154.81,154.76,151.84,148.97,149.16,151.58,153.68,162.07,147.1,146.48,145.08,145.13,144.82,142.45,144.08,143.74,139.7,141.84,145.16,144.29,147.08,154.24,152.94,153.83,154.11,155.38,154.1,152.05,152.49,151.98,150.37,155.05,160.29,160.38,169.53,172.14,174.14,173.83,175.65,177.83,180.05,181.35,180.67,178.68,175.82,177.3,170.55,167.34,169.53,165.99,166.71,166.73,166.52,160.02,163.14,160.39,161.27,152.43,152.61,149.63,154.45,155.67,158.85,154.98,153.84,155.69,159.55,158.32,160.04,161.95,163.5,160.62,162.07,159.78,154.46,152.35,146.59,151.99,152.37,152.89,152.84,147.25,147.72,147.29,145.94,148.5,151.72,149.35,152.52,147.95,147.09,142.36,137.8,132.03,133.08,121.04,128.57,124.79,122.5,130.03,131.63,137.62,138.25,134.9,134.57,140.43,138.46,138.5,131.75,138.25,140.08,144.68,150.39,152.39,144.58,145.42,144.51,147.37,143.7,147.98,148.85,155.75,155.12,161.99,159.75,172.51,166.95,165.09,165.46,166.99,166.99,167.4,169.65,172.22,173.26,172.68,173.67,169.78,160.67,162.86,160.45,160.4,162.88,154.28,158.5,161.94,163.65,160.4,156.72,153.31,155.87,157.14,159.11,162.06,162.34,158.51,155.38,163.27,162.17,160.92,164.16,162.07,164.4,162.08,182.05,185.93,188.67,190.06,194.0,191.28,191.2,192.3,190.41,187.38,186.63,189.15,194.4,192.5,188.0,188.53,181.71,181.55,182.56,186.37,184.36,185.94,187.06,190.08,191.44,189.63,190.01,195.19,191.77,190.45,186.67,182.21,187.68,185.17,182.79,183.69,177.25,176.68,179.64,190.09,187.26,186.64,185.08,180.02,172.8,177.67,179.68,181.3,183.19,179.99,179.23,176.85,173.78,186.16,184.1,186.92,190.02,192.17,183.03,182.27,185.42,185.34,187.82,195.16,197.35,193.54,192.07,194.93,191.11,195.46,202.2,206.35,208.02,205.72,208.44,204.47,204.51,194.31,190.0,211.38,209.41,213.3,212.08,214.92,210.38,202.91,201.09,200.98,201.68,205.18,204.97,194.47,194.45,193.99,189.83,193.42,191.76,191.95,190.07,193.49,186.94,189.64,193.43,193.27,193.36,207.8,210.59,207.45,205.98,206.81,199.5,194.85,197.77,201.22,199.29,198.52,196.39,192.45,186.01,191.41,195.58,193.7,199.1,195.14,189.08,194.3,195.88,201.17,204.99,206.81,199.6,202.8,205.47,208.65,205.48,206.01,200.62,198.81,197.76,193.42,192.42,193.64,190.46,188.52,179.16,182.54,183.88,184.75,183.57,194.56,189.66,177.06,185.24,187.38,186.38,187.45,181.63,190.53,182.39,174.87,169.34,172.99,161.37,166.98,169.14,157.54,168.2,172.98,181.85,185.18,175.54,176.49,174.54,165.07,164.44,163.18,165.05,167.5,170.16,169.92,168.89,170.58,168.28,166.21,164.05,164.27,162.18,155.89,162.43,161.83,162.28,164.84,163.85,164.0,159.21,155.5,150.0,147.93,146.76,145.89,145.0,144.82,145.38,143.9,145.05,143.74,146.92,143.6,139.67,141.06,138.85,135.64,134.11,130.19,127.99,127.58,124.73,127.5,127.87,130.14,128.4,128.38,128.03,127.96,121.86,127.12,130.15,128.45,125.28,125.26,125.42,131.19,122.1,129.0,129.99,130.63,128.76,128.25,129.26,127.71,127.94,127.25,127.16,127.19,124.0,122.97,122.39,125.5,131.78,130.85,null,null,null,null,null,null,null,null,null,null,null,null,null,null,null,null,null,null,null,null,null,null,null,null,null,null,null,null,null,null,null,null,null,null,null,null,null,null,null,null,null,null,null,null,null,null,null,null,null,null,null,null,null,null,null,null,null,null,null,null,null,null,null,null,null,null,null,null,null,null,null,null,null,null,null,null,null,null,null,null,null,null,null,null,null,null,null,null,null,null,null,null,null,null,null,null,null,null,null,null,null,null,null,null,null,null,null,null,null,null,null,null,null,null,null,null,null,null,null,null,null,null,null,null,null,null,null,null,null,null,null,null,null,null,null,null,null,null,null,null,null,null,null,null,null,null,null,null,null,null,null,null,null,null,null,null,null,null,null,null,null,null,null,null,null,null,null,null,null,null,null,null,null,null,null,null,null,null,null,null,null,null,null,null,null,null,null,null,null,null,null,null,null,null,null,null,null,null,null,null,null,null,null,null,null,null,null,null,null,null,null,null,null,null,null,null,null,null,null,null,null,null,null,null,null,null,null,null,null,null,null,null,null,null,null,null,null,null,null,null,null,null,null,null,null,null,null,null,null,null,null,null,null,null,null,null,null,null,null,null,null,null,null,null,null,null,null,null,null,null,null,null,null,null,null,null,null,null,null,null,null,null,null,null,null,null,null,null,null,null,null,null,null,null,null,null,null,null,null,null,null,null,null,null,null,null,null,null,null,null,null,null,null,null,null,null,null,null,null,null,null,null,null,null,null,null,null,null,null,null,null,null,null,null,null,null,null,null,null,null,null,null,null,null,null,null,null,null,null,null,null,null,null,null,null,null,null,null,null,null,null,null,null,null,null,null,null,null,null,null,null,null,null,null,null,null,null,null,null,null,null,null,null,null,null,null,null,null,null,null,null,null,null,null,null,null,null,null,null,null,null,null,null,null,null,null,null,null,null,null,null,null,null,null,null,null,null,null,null,null,null,null,null,null,null,null,null,null,null,null,null,null,null,null,null,null,null,null,null,null,null,null,null,null,null,null,null,null,null,null,null,null,null,null,null,null,null,null,null,null,null,null,null,null,null,null,null,null,null,null,null,null,null,null,null,null,null,null,null,null,null,null,null,null,null,null,null,null,null,null,null,null,null,null,null,null,null,null,null,null,null,null,null,null,null,null,null,null,null,null,null,null,null,null,null,null,null,null,null,null,null,null,null,null,null,null,null,null,null,null],\"type\":\"scatter\"}],                        {\"template\":{\"data\":{\"barpolar\":[{\"marker\":{\"line\":{\"color\":\"#E5ECF6\",\"width\":0.5},\"pattern\":{\"fillmode\":\"overlay\",\"size\":10,\"solidity\":0.2}},\"type\":\"barpolar\"}],\"bar\":[{\"error_x\":{\"color\":\"#2a3f5f\"},\"error_y\":{\"color\":\"#2a3f5f\"},\"marker\":{\"line\":{\"color\":\"#E5ECF6\",\"width\":0.5},\"pattern\":{\"fillmode\":\"overlay\",\"size\":10,\"solidity\":0.2}},\"type\":\"bar\"}],\"carpet\":[{\"aaxis\":{\"endlinecolor\":\"#2a3f5f\",\"gridcolor\":\"white\",\"linecolor\":\"white\",\"minorgridcolor\":\"white\",\"startlinecolor\":\"#2a3f5f\"},\"baxis\":{\"endlinecolor\":\"#2a3f5f\",\"gridcolor\":\"white\",\"linecolor\":\"white\",\"minorgridcolor\":\"white\",\"startlinecolor\":\"#2a3f5f\"},\"type\":\"carpet\"}],\"choropleth\":[{\"colorbar\":{\"outlinewidth\":0,\"ticks\":\"\"},\"type\":\"choropleth\"}],\"contourcarpet\":[{\"colorbar\":{\"outlinewidth\":0,\"ticks\":\"\"},\"type\":\"contourcarpet\"}],\"contour\":[{\"colorbar\":{\"outlinewidth\":0,\"ticks\":\"\"},\"colorscale\":[[0.0,\"#0d0887\"],[0.1111111111111111,\"#46039f\"],[0.2222222222222222,\"#7201a8\"],[0.3333333333333333,\"#9c179e\"],[0.4444444444444444,\"#bd3786\"],[0.5555555555555556,\"#d8576b\"],[0.6666666666666666,\"#ed7953\"],[0.7777777777777778,\"#fb9f3a\"],[0.8888888888888888,\"#fdca26\"],[1.0,\"#f0f921\"]],\"type\":\"contour\"}],\"heatmapgl\":[{\"colorbar\":{\"outlinewidth\":0,\"ticks\":\"\"},\"colorscale\":[[0.0,\"#0d0887\"],[0.1111111111111111,\"#46039f\"],[0.2222222222222222,\"#7201a8\"],[0.3333333333333333,\"#9c179e\"],[0.4444444444444444,\"#bd3786\"],[0.5555555555555556,\"#d8576b\"],[0.6666666666666666,\"#ed7953\"],[0.7777777777777778,\"#fb9f3a\"],[0.8888888888888888,\"#fdca26\"],[1.0,\"#f0f921\"]],\"type\":\"heatmapgl\"}],\"heatmap\":[{\"colorbar\":{\"outlinewidth\":0,\"ticks\":\"\"},\"colorscale\":[[0.0,\"#0d0887\"],[0.1111111111111111,\"#46039f\"],[0.2222222222222222,\"#7201a8\"],[0.3333333333333333,\"#9c179e\"],[0.4444444444444444,\"#bd3786\"],[0.5555555555555556,\"#d8576b\"],[0.6666666666666666,\"#ed7953\"],[0.7777777777777778,\"#fb9f3a\"],[0.8888888888888888,\"#fdca26\"],[1.0,\"#f0f921\"]],\"type\":\"heatmap\"}],\"histogram2dcontour\":[{\"colorbar\":{\"outlinewidth\":0,\"ticks\":\"\"},\"colorscale\":[[0.0,\"#0d0887\"],[0.1111111111111111,\"#46039f\"],[0.2222222222222222,\"#7201a8\"],[0.3333333333333333,\"#9c179e\"],[0.4444444444444444,\"#bd3786\"],[0.5555555555555556,\"#d8576b\"],[0.6666666666666666,\"#ed7953\"],[0.7777777777777778,\"#fb9f3a\"],[0.8888888888888888,\"#fdca26\"],[1.0,\"#f0f921\"]],\"type\":\"histogram2dcontour\"}],\"histogram2d\":[{\"colorbar\":{\"outlinewidth\":0,\"ticks\":\"\"},\"colorscale\":[[0.0,\"#0d0887\"],[0.1111111111111111,\"#46039f\"],[0.2222222222222222,\"#7201a8\"],[0.3333333333333333,\"#9c179e\"],[0.4444444444444444,\"#bd3786\"],[0.5555555555555556,\"#d8576b\"],[0.6666666666666666,\"#ed7953\"],[0.7777777777777778,\"#fb9f3a\"],[0.8888888888888888,\"#fdca26\"],[1.0,\"#f0f921\"]],\"type\":\"histogram2d\"}],\"histogram\":[{\"marker\":{\"pattern\":{\"fillmode\":\"overlay\",\"size\":10,\"solidity\":0.2}},\"type\":\"histogram\"}],\"mesh3d\":[{\"colorbar\":{\"outlinewidth\":0,\"ticks\":\"\"},\"type\":\"mesh3d\"}],\"parcoords\":[{\"line\":{\"colorbar\":{\"outlinewidth\":0,\"ticks\":\"\"}},\"type\":\"parcoords\"}],\"pie\":[{\"automargin\":true,\"type\":\"pie\"}],\"scatter3d\":[{\"line\":{\"colorbar\":{\"outlinewidth\":0,\"ticks\":\"\"}},\"marker\":{\"colorbar\":{\"outlinewidth\":0,\"ticks\":\"\"}},\"type\":\"scatter3d\"}],\"scattercarpet\":[{\"marker\":{\"colorbar\":{\"outlinewidth\":0,\"ticks\":\"\"}},\"type\":\"scattercarpet\"}],\"scattergeo\":[{\"marker\":{\"colorbar\":{\"outlinewidth\":0,\"ticks\":\"\"}},\"type\":\"scattergeo\"}],\"scattergl\":[{\"marker\":{\"colorbar\":{\"outlinewidth\":0,\"ticks\":\"\"}},\"type\":\"scattergl\"}],\"scattermapbox\":[{\"marker\":{\"colorbar\":{\"outlinewidth\":0,\"ticks\":\"\"}},\"type\":\"scattermapbox\"}],\"scatterpolargl\":[{\"marker\":{\"colorbar\":{\"outlinewidth\":0,\"ticks\":\"\"}},\"type\":\"scatterpolargl\"}],\"scatterpolar\":[{\"marker\":{\"colorbar\":{\"outlinewidth\":0,\"ticks\":\"\"}},\"type\":\"scatterpolar\"}],\"scatter\":[{\"fillpattern\":{\"fillmode\":\"overlay\",\"size\":10,\"solidity\":0.2},\"type\":\"scatter\"}],\"scatterternary\":[{\"marker\":{\"colorbar\":{\"outlinewidth\":0,\"ticks\":\"\"}},\"type\":\"scatterternary\"}],\"surface\":[{\"colorbar\":{\"outlinewidth\":0,\"ticks\":\"\"},\"colorscale\":[[0.0,\"#0d0887\"],[0.1111111111111111,\"#46039f\"],[0.2222222222222222,\"#7201a8\"],[0.3333333333333333,\"#9c179e\"],[0.4444444444444444,\"#bd3786\"],[0.5555555555555556,\"#d8576b\"],[0.6666666666666666,\"#ed7953\"],[0.7777777777777778,\"#fb9f3a\"],[0.8888888888888888,\"#fdca26\"],[1.0,\"#f0f921\"]],\"type\":\"surface\"}],\"table\":[{\"cells\":{\"fill\":{\"color\":\"#EBF0F8\"},\"line\":{\"color\":\"white\"}},\"header\":{\"fill\":{\"color\":\"#C8D4E3\"},\"line\":{\"color\":\"white\"}},\"type\":\"table\"}]},\"layout\":{\"annotationdefaults\":{\"arrowcolor\":\"#2a3f5f\",\"arrowhead\":0,\"arrowwidth\":1},\"autotypenumbers\":\"strict\",\"coloraxis\":{\"colorbar\":{\"outlinewidth\":0,\"ticks\":\"\"}},\"colorscale\":{\"diverging\":[[0,\"#8e0152\"],[0.1,\"#c51b7d\"],[0.2,\"#de77ae\"],[0.3,\"#f1b6da\"],[0.4,\"#fde0ef\"],[0.5,\"#f7f7f7\"],[0.6,\"#e6f5d0\"],[0.7,\"#b8e186\"],[0.8,\"#7fbc41\"],[0.9,\"#4d9221\"],[1,\"#276419\"]],\"sequential\":[[0.0,\"#0d0887\"],[0.1111111111111111,\"#46039f\"],[0.2222222222222222,\"#7201a8\"],[0.3333333333333333,\"#9c179e\"],[0.4444444444444444,\"#bd3786\"],[0.5555555555555556,\"#d8576b\"],[0.6666666666666666,\"#ed7953\"],[0.7777777777777778,\"#fb9f3a\"],[0.8888888888888888,\"#fdca26\"],[1.0,\"#f0f921\"]],\"sequentialminus\":[[0.0,\"#0d0887\"],[0.1111111111111111,\"#46039f\"],[0.2222222222222222,\"#7201a8\"],[0.3333333333333333,\"#9c179e\"],[0.4444444444444444,\"#bd3786\"],[0.5555555555555556,\"#d8576b\"],[0.6666666666666666,\"#ed7953\"],[0.7777777777777778,\"#fb9f3a\"],[0.8888888888888888,\"#fdca26\"],[1.0,\"#f0f921\"]]},\"colorway\":[\"#636efa\",\"#EF553B\",\"#00cc96\",\"#ab63fa\",\"#FFA15A\",\"#19d3f3\",\"#FF6692\",\"#B6E880\",\"#FF97FF\",\"#FECB52\"],\"font\":{\"color\":\"#2a3f5f\"},\"geo\":{\"bgcolor\":\"white\",\"lakecolor\":\"white\",\"landcolor\":\"#E5ECF6\",\"showlakes\":true,\"showland\":true,\"subunitcolor\":\"white\"},\"hoverlabel\":{\"align\":\"left\"},\"hovermode\":\"closest\",\"mapbox\":{\"style\":\"light\"},\"paper_bgcolor\":\"white\",\"plot_bgcolor\":\"#E5ECF6\",\"polar\":{\"angularaxis\":{\"gridcolor\":\"white\",\"linecolor\":\"white\",\"ticks\":\"\"},\"bgcolor\":\"#E5ECF6\",\"radialaxis\":{\"gridcolor\":\"white\",\"linecolor\":\"white\",\"ticks\":\"\"}},\"scene\":{\"xaxis\":{\"backgroundcolor\":\"#E5ECF6\",\"gridcolor\":\"white\",\"gridwidth\":2,\"linecolor\":\"white\",\"showbackground\":true,\"ticks\":\"\",\"zerolinecolor\":\"white\"},\"yaxis\":{\"backgroundcolor\":\"#E5ECF6\",\"gridcolor\":\"white\",\"gridwidth\":2,\"linecolor\":\"white\",\"showbackground\":true,\"ticks\":\"\",\"zerolinecolor\":\"white\"},\"zaxis\":{\"backgroundcolor\":\"#E5ECF6\",\"gridcolor\":\"white\",\"gridwidth\":2,\"linecolor\":\"white\",\"showbackground\":true,\"ticks\":\"\",\"zerolinecolor\":\"white\"}},\"shapedefaults\":{\"line\":{\"color\":\"#2a3f5f\"}},\"ternary\":{\"aaxis\":{\"gridcolor\":\"white\",\"linecolor\":\"white\",\"ticks\":\"\"},\"baxis\":{\"gridcolor\":\"white\",\"linecolor\":\"white\",\"ticks\":\"\"},\"bgcolor\":\"#E5ECF6\",\"caxis\":{\"gridcolor\":\"white\",\"linecolor\":\"white\",\"ticks\":\"\"}},\"title\":{\"x\":0.05},\"xaxis\":{\"automargin\":true,\"gridcolor\":\"white\",\"linecolor\":\"white\",\"ticks\":\"\",\"title\":{\"standoff\":15},\"zerolinecolor\":\"white\",\"zerolinewidth\":2},\"yaxis\":{\"automargin\":true,\"gridcolor\":\"white\",\"linecolor\":\"white\",\"ticks\":\"\",\"title\":{\"standoff\":15},\"zerolinecolor\":\"white\",\"zerolinewidth\":2}}},\"title\":{\"font\":{\"color\":\"#7f7f7f\",\"family\":\"Courier New, monospace\",\"size\":18},\"text\":\"IBM Stock Prices\"},\"xaxis\":{\"tickformat\":\"%Y-%m-%d\",\"title\":{\"font\":{\"color\":\"#7f7f7f\",\"family\":\"Courier New, monospace\",\"size\":18},\"text\":\"Date\"}},\"yaxis\":{\"title\":{\"font\":{\"color\":\"#7f7f7f\",\"family\":\"Courier New, monospace\",\"size\":18},\"text\":\"Price (USD)\"}}},                        {\"responsive\": true}                    ).then(function(){\n",
              "                            \n",
              "var gd = document.getElementById('b3952fa0-c96a-4a1e-b1a4-ee67ec333078');\n",
              "var x = new MutationObserver(function (mutations, observer) {{\n",
              "        var display = window.getComputedStyle(gd).display;\n",
              "        if (!display || display === 'none') {{\n",
              "            console.log([gd, 'removed!']);\n",
              "            Plotly.purge(gd);\n",
              "            observer.disconnect();\n",
              "        }}\n",
              "}});\n",
              "\n",
              "// Listen for the removal of the full notebook cells\n",
              "var notebookContainer = gd.closest('#notebook-container');\n",
              "if (notebookContainer) {{\n",
              "    x.observe(notebookContainer, {childList: true});\n",
              "}}\n",
              "\n",
              "// Listen for the clearing of the current output cell\n",
              "var outputEl = gd.closest('.output');\n",
              "if (outputEl) {{\n",
              "    x.observe(outputEl, {childList: true});\n",
              "}}\n",
              "\n",
              "                        })                };                });            </script>        </div>"
            ]
          },
          "metadata": {}
        }
      ]
    },
    {
      "cell_type": "code",
      "source": [
        "from sklearn.model_selection import train_test_split\n",
        "from sklearn.preprocessing import MinMaxScaler\n",
        "from sklearn.preprocessing import StandardScaler\n",
        "from keras.models import Sequential\n",
        "from keras.layers import Dense, LSTM\n",
        "from sklearn.metrics import mean_squared_error, r2_score\n"
      ],
      "metadata": {
        "id": "ohucS4T7o66q"
      },
      "execution_count": 52,
      "outputs": []
    },
    {
      "cell_type": "code",
      "source": [
        "#Split the data into train and test sets\n",
        "X = np.array(IBM.index).reshape(-1,1)\n",
        "Y = IBM['close']\n",
        "X_train, X_test, Y_train, Y_test = train_test_split(X, Y, test_size=0.3,random_state=101)"
      ],
      "metadata": {
        "id": "eqVg02nKeZeo"
      },
      "execution_count": 53,
      "outputs": []
    },
    {
      "cell_type": "code",
      "source": [
        "scaler= StandardScaler().fit(X_train)"
      ],
      "metadata": {
        "id": "yvud1u0Yfal3"
      },
      "execution_count": 54,
      "outputs": []
    },
    {
      "cell_type": "code",
      "source": [
        "from sklearn.linear_model import LinearRegression"
      ],
      "metadata": {
        "id": "g-RRDHCBf38H"
      },
      "execution_count": 55,
      "outputs": []
    },
    {
      "cell_type": "code",
      "source": [
        "print(Y_train.isnull().sum())"
      ],
      "metadata": {
        "colab": {
          "base_uri": "https://localhost:8080/"
        },
        "id": "Sx0BcmB1gGpU",
        "outputId": "cb8707b9-ba75-41de-fa86-586dd0075f3f"
      },
      "execution_count": 56,
      "outputs": [
        {
          "output_type": "stream",
          "name": "stdout",
          "text": [
            "385\n"
          ]
        }
      ]
    },
    {
      "cell_type": "code",
      "source": [
        "X_train = X_train[~Y_train.isna()]\n",
        "Y_train = Y_train.dropna()"
      ],
      "metadata": {
        "id": "8QrhH3FTh1BM"
      },
      "execution_count": 57,
      "outputs": []
    },
    {
      "cell_type": "code",
      "source": [
        "from sklearn.impute import SimpleImputer\n",
        "\n",
        "imputer = SimpleImputer(strategy='mean')  # You can use 'median', 'most_frequent', etc.\n",
        "Y_train = imputer.fit_transform(Y_train.values.reshape(-1, 1))"
      ],
      "metadata": {
        "id": "kJ5GfPEQh5zF"
      },
      "execution_count": 58,
      "outputs": []
    },
    {
      "cell_type": "code",
      "source": [
        "lm = LinearRegression()\n",
        "lm.fit(X_train, Y_train)"
      ],
      "metadata": {
        "colab": {
          "base_uri": "https://localhost:8080/",
          "height": 81
        },
        "id": "KsO8cH2XiBso",
        "outputId": "8be740d1-eeee-44a7-ee87-dd6128c481ea"
      },
      "execution_count": 59,
      "outputs": [
        {
          "output_type": "execute_result",
          "data": {
            "text/plain": [
              "LinearRegression()"
            ],
            "text/html": [
              "<style>#sk-container-id-2 {\n",
              "  /* Definition of color scheme common for light and dark mode */\n",
              "  --sklearn-color-text: black;\n",
              "  --sklearn-color-line: gray;\n",
              "  /* Definition of color scheme for unfitted estimators */\n",
              "  --sklearn-color-unfitted-level-0: #fff5e6;\n",
              "  --sklearn-color-unfitted-level-1: #f6e4d2;\n",
              "  --sklearn-color-unfitted-level-2: #ffe0b3;\n",
              "  --sklearn-color-unfitted-level-3: chocolate;\n",
              "  /* Definition of color scheme for fitted estimators */\n",
              "  --sklearn-color-fitted-level-0: #f0f8ff;\n",
              "  --sklearn-color-fitted-level-1: #d4ebff;\n",
              "  --sklearn-color-fitted-level-2: #b3dbfd;\n",
              "  --sklearn-color-fitted-level-3: cornflowerblue;\n",
              "\n",
              "  /* Specific color for light theme */\n",
              "  --sklearn-color-text-on-default-background: var(--sg-text-color, var(--theme-code-foreground, var(--jp-content-font-color1, black)));\n",
              "  --sklearn-color-background: var(--sg-background-color, var(--theme-background, var(--jp-layout-color0, white)));\n",
              "  --sklearn-color-border-box: var(--sg-text-color, var(--theme-code-foreground, var(--jp-content-font-color1, black)));\n",
              "  --sklearn-color-icon: #696969;\n",
              "\n",
              "  @media (prefers-color-scheme: dark) {\n",
              "    /* Redefinition of color scheme for dark theme */\n",
              "    --sklearn-color-text-on-default-background: var(--sg-text-color, var(--theme-code-foreground, var(--jp-content-font-color1, white)));\n",
              "    --sklearn-color-background: var(--sg-background-color, var(--theme-background, var(--jp-layout-color0, #111)));\n",
              "    --sklearn-color-border-box: var(--sg-text-color, var(--theme-code-foreground, var(--jp-content-font-color1, white)));\n",
              "    --sklearn-color-icon: #878787;\n",
              "  }\n",
              "}\n",
              "\n",
              "#sk-container-id-2 {\n",
              "  color: var(--sklearn-color-text);\n",
              "}\n",
              "\n",
              "#sk-container-id-2 pre {\n",
              "  padding: 0;\n",
              "}\n",
              "\n",
              "#sk-container-id-2 input.sk-hidden--visually {\n",
              "  border: 0;\n",
              "  clip: rect(1px 1px 1px 1px);\n",
              "  clip: rect(1px, 1px, 1px, 1px);\n",
              "  height: 1px;\n",
              "  margin: -1px;\n",
              "  overflow: hidden;\n",
              "  padding: 0;\n",
              "  position: absolute;\n",
              "  width: 1px;\n",
              "}\n",
              "\n",
              "#sk-container-id-2 div.sk-dashed-wrapped {\n",
              "  border: 1px dashed var(--sklearn-color-line);\n",
              "  margin: 0 0.4em 0.5em 0.4em;\n",
              "  box-sizing: border-box;\n",
              "  padding-bottom: 0.4em;\n",
              "  background-color: var(--sklearn-color-background);\n",
              "}\n",
              "\n",
              "#sk-container-id-2 div.sk-container {\n",
              "  /* jupyter's `normalize.less` sets `[hidden] { display: none; }`\n",
              "     but bootstrap.min.css set `[hidden] { display: none !important; }`\n",
              "     so we also need the `!important` here to be able to override the\n",
              "     default hidden behavior on the sphinx rendered scikit-learn.org.\n",
              "     See: https://github.com/scikit-learn/scikit-learn/issues/21755 */\n",
              "  display: inline-block !important;\n",
              "  position: relative;\n",
              "}\n",
              "\n",
              "#sk-container-id-2 div.sk-text-repr-fallback {\n",
              "  display: none;\n",
              "}\n",
              "\n",
              "div.sk-parallel-item,\n",
              "div.sk-serial,\n",
              "div.sk-item {\n",
              "  /* draw centered vertical line to link estimators */\n",
              "  background-image: linear-gradient(var(--sklearn-color-text-on-default-background), var(--sklearn-color-text-on-default-background));\n",
              "  background-size: 2px 100%;\n",
              "  background-repeat: no-repeat;\n",
              "  background-position: center center;\n",
              "}\n",
              "\n",
              "/* Parallel-specific style estimator block */\n",
              "\n",
              "#sk-container-id-2 div.sk-parallel-item::after {\n",
              "  content: \"\";\n",
              "  width: 100%;\n",
              "  border-bottom: 2px solid var(--sklearn-color-text-on-default-background);\n",
              "  flex-grow: 1;\n",
              "}\n",
              "\n",
              "#sk-container-id-2 div.sk-parallel {\n",
              "  display: flex;\n",
              "  align-items: stretch;\n",
              "  justify-content: center;\n",
              "  background-color: var(--sklearn-color-background);\n",
              "  position: relative;\n",
              "}\n",
              "\n",
              "#sk-container-id-2 div.sk-parallel-item {\n",
              "  display: flex;\n",
              "  flex-direction: column;\n",
              "}\n",
              "\n",
              "#sk-container-id-2 div.sk-parallel-item:first-child::after {\n",
              "  align-self: flex-end;\n",
              "  width: 50%;\n",
              "}\n",
              "\n",
              "#sk-container-id-2 div.sk-parallel-item:last-child::after {\n",
              "  align-self: flex-start;\n",
              "  width: 50%;\n",
              "}\n",
              "\n",
              "#sk-container-id-2 div.sk-parallel-item:only-child::after {\n",
              "  width: 0;\n",
              "}\n",
              "\n",
              "/* Serial-specific style estimator block */\n",
              "\n",
              "#sk-container-id-2 div.sk-serial {\n",
              "  display: flex;\n",
              "  flex-direction: column;\n",
              "  align-items: center;\n",
              "  background-color: var(--sklearn-color-background);\n",
              "  padding-right: 1em;\n",
              "  padding-left: 1em;\n",
              "}\n",
              "\n",
              "\n",
              "/* Toggleable style: style used for estimator/Pipeline/ColumnTransformer box that is\n",
              "clickable and can be expanded/collapsed.\n",
              "- Pipeline and ColumnTransformer use this feature and define the default style\n",
              "- Estimators will overwrite some part of the style using the `sk-estimator` class\n",
              "*/\n",
              "\n",
              "/* Pipeline and ColumnTransformer style (default) */\n",
              "\n",
              "#sk-container-id-2 div.sk-toggleable {\n",
              "  /* Default theme specific background. It is overwritten whether we have a\n",
              "  specific estimator or a Pipeline/ColumnTransformer */\n",
              "  background-color: var(--sklearn-color-background);\n",
              "}\n",
              "\n",
              "/* Toggleable label */\n",
              "#sk-container-id-2 label.sk-toggleable__label {\n",
              "  cursor: pointer;\n",
              "  display: block;\n",
              "  width: 100%;\n",
              "  margin-bottom: 0;\n",
              "  padding: 0.5em;\n",
              "  box-sizing: border-box;\n",
              "  text-align: center;\n",
              "}\n",
              "\n",
              "#sk-container-id-2 label.sk-toggleable__label-arrow:before {\n",
              "  /* Arrow on the left of the label */\n",
              "  content: \"▸\";\n",
              "  float: left;\n",
              "  margin-right: 0.25em;\n",
              "  color: var(--sklearn-color-icon);\n",
              "}\n",
              "\n",
              "#sk-container-id-2 label.sk-toggleable__label-arrow:hover:before {\n",
              "  color: var(--sklearn-color-text);\n",
              "}\n",
              "\n",
              "/* Toggleable content - dropdown */\n",
              "\n",
              "#sk-container-id-2 div.sk-toggleable__content {\n",
              "  max-height: 0;\n",
              "  max-width: 0;\n",
              "  overflow: hidden;\n",
              "  text-align: left;\n",
              "  /* unfitted */\n",
              "  background-color: var(--sklearn-color-unfitted-level-0);\n",
              "}\n",
              "\n",
              "#sk-container-id-2 div.sk-toggleable__content.fitted {\n",
              "  /* fitted */\n",
              "  background-color: var(--sklearn-color-fitted-level-0);\n",
              "}\n",
              "\n",
              "#sk-container-id-2 div.sk-toggleable__content pre {\n",
              "  margin: 0.2em;\n",
              "  border-radius: 0.25em;\n",
              "  color: var(--sklearn-color-text);\n",
              "  /* unfitted */\n",
              "  background-color: var(--sklearn-color-unfitted-level-0);\n",
              "}\n",
              "\n",
              "#sk-container-id-2 div.sk-toggleable__content.fitted pre {\n",
              "  /* unfitted */\n",
              "  background-color: var(--sklearn-color-fitted-level-0);\n",
              "}\n",
              "\n",
              "#sk-container-id-2 input.sk-toggleable__control:checked~div.sk-toggleable__content {\n",
              "  /* Expand drop-down */\n",
              "  max-height: 200px;\n",
              "  max-width: 100%;\n",
              "  overflow: auto;\n",
              "}\n",
              "\n",
              "#sk-container-id-2 input.sk-toggleable__control:checked~label.sk-toggleable__label-arrow:before {\n",
              "  content: \"▾\";\n",
              "}\n",
              "\n",
              "/* Pipeline/ColumnTransformer-specific style */\n",
              "\n",
              "#sk-container-id-2 div.sk-label input.sk-toggleable__control:checked~label.sk-toggleable__label {\n",
              "  color: var(--sklearn-color-text);\n",
              "  background-color: var(--sklearn-color-unfitted-level-2);\n",
              "}\n",
              "\n",
              "#sk-container-id-2 div.sk-label.fitted input.sk-toggleable__control:checked~label.sk-toggleable__label {\n",
              "  background-color: var(--sklearn-color-fitted-level-2);\n",
              "}\n",
              "\n",
              "/* Estimator-specific style */\n",
              "\n",
              "/* Colorize estimator box */\n",
              "#sk-container-id-2 div.sk-estimator input.sk-toggleable__control:checked~label.sk-toggleable__label {\n",
              "  /* unfitted */\n",
              "  background-color: var(--sklearn-color-unfitted-level-2);\n",
              "}\n",
              "\n",
              "#sk-container-id-2 div.sk-estimator.fitted input.sk-toggleable__control:checked~label.sk-toggleable__label {\n",
              "  /* fitted */\n",
              "  background-color: var(--sklearn-color-fitted-level-2);\n",
              "}\n",
              "\n",
              "#sk-container-id-2 div.sk-label label.sk-toggleable__label,\n",
              "#sk-container-id-2 div.sk-label label {\n",
              "  /* The background is the default theme color */\n",
              "  color: var(--sklearn-color-text-on-default-background);\n",
              "}\n",
              "\n",
              "/* On hover, darken the color of the background */\n",
              "#sk-container-id-2 div.sk-label:hover label.sk-toggleable__label {\n",
              "  color: var(--sklearn-color-text);\n",
              "  background-color: var(--sklearn-color-unfitted-level-2);\n",
              "}\n",
              "\n",
              "/* Label box, darken color on hover, fitted */\n",
              "#sk-container-id-2 div.sk-label.fitted:hover label.sk-toggleable__label.fitted {\n",
              "  color: var(--sklearn-color-text);\n",
              "  background-color: var(--sklearn-color-fitted-level-2);\n",
              "}\n",
              "\n",
              "/* Estimator label */\n",
              "\n",
              "#sk-container-id-2 div.sk-label label {\n",
              "  font-family: monospace;\n",
              "  font-weight: bold;\n",
              "  display: inline-block;\n",
              "  line-height: 1.2em;\n",
              "}\n",
              "\n",
              "#sk-container-id-2 div.sk-label-container {\n",
              "  text-align: center;\n",
              "}\n",
              "\n",
              "/* Estimator-specific */\n",
              "#sk-container-id-2 div.sk-estimator {\n",
              "  font-family: monospace;\n",
              "  border: 1px dotted var(--sklearn-color-border-box);\n",
              "  border-radius: 0.25em;\n",
              "  box-sizing: border-box;\n",
              "  margin-bottom: 0.5em;\n",
              "  /* unfitted */\n",
              "  background-color: var(--sklearn-color-unfitted-level-0);\n",
              "}\n",
              "\n",
              "#sk-container-id-2 div.sk-estimator.fitted {\n",
              "  /* fitted */\n",
              "  background-color: var(--sklearn-color-fitted-level-0);\n",
              "}\n",
              "\n",
              "/* on hover */\n",
              "#sk-container-id-2 div.sk-estimator:hover {\n",
              "  /* unfitted */\n",
              "  background-color: var(--sklearn-color-unfitted-level-2);\n",
              "}\n",
              "\n",
              "#sk-container-id-2 div.sk-estimator.fitted:hover {\n",
              "  /* fitted */\n",
              "  background-color: var(--sklearn-color-fitted-level-2);\n",
              "}\n",
              "\n",
              "/* Specification for estimator info (e.g. \"i\" and \"?\") */\n",
              "\n",
              "/* Common style for \"i\" and \"?\" */\n",
              "\n",
              ".sk-estimator-doc-link,\n",
              "a:link.sk-estimator-doc-link,\n",
              "a:visited.sk-estimator-doc-link {\n",
              "  float: right;\n",
              "  font-size: smaller;\n",
              "  line-height: 1em;\n",
              "  font-family: monospace;\n",
              "  background-color: var(--sklearn-color-background);\n",
              "  border-radius: 1em;\n",
              "  height: 1em;\n",
              "  width: 1em;\n",
              "  text-decoration: none !important;\n",
              "  margin-left: 1ex;\n",
              "  /* unfitted */\n",
              "  border: var(--sklearn-color-unfitted-level-1) 1pt solid;\n",
              "  color: var(--sklearn-color-unfitted-level-1);\n",
              "}\n",
              "\n",
              ".sk-estimator-doc-link.fitted,\n",
              "a:link.sk-estimator-doc-link.fitted,\n",
              "a:visited.sk-estimator-doc-link.fitted {\n",
              "  /* fitted */\n",
              "  border: var(--sklearn-color-fitted-level-1) 1pt solid;\n",
              "  color: var(--sklearn-color-fitted-level-1);\n",
              "}\n",
              "\n",
              "/* On hover */\n",
              "div.sk-estimator:hover .sk-estimator-doc-link:hover,\n",
              ".sk-estimator-doc-link:hover,\n",
              "div.sk-label-container:hover .sk-estimator-doc-link:hover,\n",
              ".sk-estimator-doc-link:hover {\n",
              "  /* unfitted */\n",
              "  background-color: var(--sklearn-color-unfitted-level-3);\n",
              "  color: var(--sklearn-color-background);\n",
              "  text-decoration: none;\n",
              "}\n",
              "\n",
              "div.sk-estimator.fitted:hover .sk-estimator-doc-link.fitted:hover,\n",
              ".sk-estimator-doc-link.fitted:hover,\n",
              "div.sk-label-container:hover .sk-estimator-doc-link.fitted:hover,\n",
              ".sk-estimator-doc-link.fitted:hover {\n",
              "  /* fitted */\n",
              "  background-color: var(--sklearn-color-fitted-level-3);\n",
              "  color: var(--sklearn-color-background);\n",
              "  text-decoration: none;\n",
              "}\n",
              "\n",
              "/* Span, style for the box shown on hovering the info icon */\n",
              ".sk-estimator-doc-link span {\n",
              "  display: none;\n",
              "  z-index: 9999;\n",
              "  position: relative;\n",
              "  font-weight: normal;\n",
              "  right: .2ex;\n",
              "  padding: .5ex;\n",
              "  margin: .5ex;\n",
              "  width: min-content;\n",
              "  min-width: 20ex;\n",
              "  max-width: 50ex;\n",
              "  color: var(--sklearn-color-text);\n",
              "  box-shadow: 2pt 2pt 4pt #999;\n",
              "  /* unfitted */\n",
              "  background: var(--sklearn-color-unfitted-level-0);\n",
              "  border: .5pt solid var(--sklearn-color-unfitted-level-3);\n",
              "}\n",
              "\n",
              ".sk-estimator-doc-link.fitted span {\n",
              "  /* fitted */\n",
              "  background: var(--sklearn-color-fitted-level-0);\n",
              "  border: var(--sklearn-color-fitted-level-3);\n",
              "}\n",
              "\n",
              ".sk-estimator-doc-link:hover span {\n",
              "  display: block;\n",
              "}\n",
              "\n",
              "/* \"?\"-specific style due to the `<a>` HTML tag */\n",
              "\n",
              "#sk-container-id-2 a.estimator_doc_link {\n",
              "  float: right;\n",
              "  font-size: 1rem;\n",
              "  line-height: 1em;\n",
              "  font-family: monospace;\n",
              "  background-color: var(--sklearn-color-background);\n",
              "  border-radius: 1rem;\n",
              "  height: 1rem;\n",
              "  width: 1rem;\n",
              "  text-decoration: none;\n",
              "  /* unfitted */\n",
              "  color: var(--sklearn-color-unfitted-level-1);\n",
              "  border: var(--sklearn-color-unfitted-level-1) 1pt solid;\n",
              "}\n",
              "\n",
              "#sk-container-id-2 a.estimator_doc_link.fitted {\n",
              "  /* fitted */\n",
              "  border: var(--sklearn-color-fitted-level-1) 1pt solid;\n",
              "  color: var(--sklearn-color-fitted-level-1);\n",
              "}\n",
              "\n",
              "/* On hover */\n",
              "#sk-container-id-2 a.estimator_doc_link:hover {\n",
              "  /* unfitted */\n",
              "  background-color: var(--sklearn-color-unfitted-level-3);\n",
              "  color: var(--sklearn-color-background);\n",
              "  text-decoration: none;\n",
              "}\n",
              "\n",
              "#sk-container-id-2 a.estimator_doc_link.fitted:hover {\n",
              "  /* fitted */\n",
              "  background-color: var(--sklearn-color-fitted-level-3);\n",
              "}\n",
              "</style><div id=\"sk-container-id-2\" class=\"sk-top-container\"><div class=\"sk-text-repr-fallback\"><pre>LinearRegression()</pre><b>In a Jupyter environment, please rerun this cell to show the HTML representation or trust the notebook. <br />On GitHub, the HTML representation is unable to render, please try loading this page with nbviewer.org.</b></div><div class=\"sk-container\" hidden><div class=\"sk-item\"><div class=\"sk-estimator fitted sk-toggleable\"><input class=\"sk-toggleable__control sk-hidden--visually\" id=\"sk-estimator-id-2\" type=\"checkbox\" checked><label for=\"sk-estimator-id-2\" class=\"sk-toggleable__label fitted sk-toggleable__label-arrow fitted\">&nbsp;&nbsp;LinearRegression<a class=\"sk-estimator-doc-link fitted\" rel=\"noreferrer\" target=\"_blank\" href=\"https://scikit-learn.org/1.5/modules/generated/sklearn.linear_model.LinearRegression.html\">?<span>Documentation for LinearRegression</span></a><span class=\"sk-estimator-doc-link fitted\">i<span>Fitted</span></span></label><div class=\"sk-toggleable__content fitted\"><pre>LinearRegression()</pre></div> </div></div></div></div>"
            ]
          },
          "metadata": {},
          "execution_count": 59
        }
      ]
    },
    {
      "cell_type": "code",
      "source": [
        "# Plot actual values (scatter plot)\n",
        "trace0 = go.Scatter(\n",
        "    x = X_train.T[0],  # corrected 'X' to 'x' and added a comma\n",
        "    y = Y_train,\n",
        "    mode = 'markers',\n",
        "    name = 'Actual'  # corrected 'Name' to 'name'\n",
        ")\n",
        "\n",
        "# Plot predicted values (line plot)\n",
        "trace1 = go.Scatter(\n",
        "    x = X_train.T[0],  # corrected 'X' to 'x' and added a comma\n",
        "    y = lm.predict(X_train),  # Use the model's predictions\n",
        "    mode = 'lines',\n",
        "    name = 'Predicted'  # corrected 'Name' to 'name'\n",
        ")\n",
        "\n",
        "# Combine both traces\n",
        "IBM_data = [trace0, trace1]\n",
        "\n",
        "# Create the layout\n",
        "layout = go.Layout(\n",
        "    title='Actual vs Predicted Values',\n",
        "    xaxis=dict(title='Day'),  # corrected axis title\n",
        "    yaxis=dict(title='Price')\n",
        ")\n",
        "\n",
        "# Plot the figure\n",
        "plot2 = go.Figure(data=IBM_data, layout=layout)\n",
        "plot2.show()"
      ],
      "metadata": {
        "colab": {
          "base_uri": "https://localhost:8080/",
          "height": 542
        },
        "id": "YL5eIVesiGn1",
        "outputId": "89f6a344-8699-4bc3-a7b1-a9a9c3e3cec5"
      },
      "execution_count": 60,
      "outputs": [
        {
          "output_type": "display_data",
          "data": {
            "application/vnd.plotly.v1+json": {
              "data": [
                {
                  "mode": "markers",
                  "name": "Actual",
                  "x": [
                    548,
                    670,
                    579,
                    625,
                    678,
                    65,
                    42,
                    16,
                    650,
                    628,
                    500,
                    108,
                    686,
                    651,
                    126,
                    174,
                    381,
                    212,
                    510,
                    723,
                    48,
                    497,
                    151,
                    327,
                    241,
                    331,
                    559,
                    107,
                    544,
                    665,
                    713,
                    598,
                    432,
                    138,
                    298,
                    62,
                    400,
                    231,
                    610,
                    98,
                    63,
                    399,
                    482,
                    415,
                    564,
                    515,
                    765,
                    225,
                    739,
                    346,
                    106,
                    9,
                    180,
                    446,
                    420,
                    306,
                    408,
                    171,
                    204,
                    390,
                    468,
                    586,
                    607,
                    551,
                    417,
                    602,
                    464,
                    412,
                    8,
                    366,
                    488,
                    228,
                    281,
                    463,
                    413,
                    335,
                    376,
                    552,
                    265,
                    435,
                    186,
                    690,
                    423,
                    608,
                    660,
                    491,
                    755,
                    205,
                    722,
                    403,
                    130,
                    445,
                    626,
                    680,
                    341,
                    587,
                    455,
                    601,
                    155,
                    517,
                    767,
                    308,
                    154,
                    94,
                    148,
                    448,
                    522,
                    715,
                    213,
                    202,
                    753,
                    113,
                    443,
                    27,
                    506,
                    619,
                    370,
                    433,
                    737,
                    167,
                    523,
                    595,
                    388,
                    227,
                    461,
                    310,
                    425,
                    250,
                    646,
                    288,
                    294,
                    556,
                    730,
                    368,
                    84,
                    536,
                    613,
                    659,
                    89,
                    363,
                    196,
                    83,
                    258,
                    234,
                    747,
                    473,
                    768,
                    514,
                    679,
                    562,
                    476,
                    39,
                    516,
                    749,
                    434,
                    321,
                    391,
                    481,
                    769,
                    322,
                    266,
                    64,
                    571,
                    695,
                    188,
                    29,
                    557,
                    279,
                    119,
                    530,
                    326,
                    4,
                    314,
                    69,
                    702,
                    572,
                    206,
                    642,
                    560,
                    146,
                    15,
                    406,
                    529,
                    173,
                    102,
                    584,
                    58,
                    272,
                    80,
                    248,
                    233,
                    574,
                    490,
                    725,
                    442,
                    264,
                    338,
                    582,
                    728,
                    53,
                    392,
                    86,
                    441,
                    620,
                    462,
                    724,
                    176,
                    565,
                    117,
                    328,
                    124,
                    38,
                    525,
                    424,
                    727,
                    120,
                    466,
                    685,
                    293,
                    41,
                    164,
                    350,
                    131,
                    54,
                    458,
                    667,
                    687,
                    150,
                    66,
                    261,
                    263,
                    160,
                    259,
                    738,
                    332,
                    438,
                    428,
                    386,
                    474,
                    764,
                    485,
                    364,
                    550,
                    616,
                    278,
                    178,
                    401,
                    503,
                    748,
                    761,
                    547,
                    397,
                    57,
                    159,
                    422,
                    344,
                    317,
                    736,
                    538,
                    255,
                    617,
                    624,
                    447,
                    717,
                    385,
                    19,
                    603,
                    351,
                    655,
                    342,
                    656,
                    156,
                    673,
                    763,
                    345,
                    577,
                    282,
                    301,
                    712,
                    286,
                    369,
                    450,
                    165,
                    312,
                    472,
                    372,
                    414,
                    166,
                    277,
                    324,
                    283,
                    526,
                    181,
                    78,
                    382,
                    427,
                    95,
                    349,
                    633,
                    152,
                    681,
                    600,
                    701,
                    756,
                    170,
                    527,
                    383,
                    637,
                    691,
                    91,
                    276,
                    604,
                    492,
                    581,
                    707,
                    200,
                    553,
                    70,
                    578,
                    43,
                    292,
                    731,
                    199,
                    302,
                    549,
                    426,
                    296,
                    143,
                    675,
                    440,
                    751,
                    677,
                    133,
                    329,
                    51,
                    644,
                    44,
                    377,
                    315,
                    627,
                    243,
                    666,
                    411,
                    645,
                    504,
                    674,
                    193,
                    222,
                    220,
                    271,
                    710,
                    13,
                    431,
                    744,
                    743,
                    211,
                    672,
                    17,
                    153,
                    14,
                    73,
                    93,
                    76,
                    223,
                    215,
                    521,
                    396,
                    387,
                    480,
                    511,
                    297,
                    494,
                    746,
                    169,
                    409,
                    1,
                    112,
                    398,
                    638,
                    496,
                    590,
                    380,
                    437,
                    541,
                    697,
                    238,
                    430,
                    158,
                    289,
                    718,
                    453,
                    502,
                    606,
                    588,
                    251,
                    594,
                    444,
                    402,
                    580,
                    245,
                    145,
                    611,
                    478,
                    221,
                    311,
                    671,
                    177,
                    684,
                    35,
                    546,
                    634,
                    358,
                    101,
                    662,
                    207,
                    11,
                    456,
                    163,
                    359,
                    192,
                    733,
                    208,
                    110,
                    97,
                    244,
                    22,
                    554,
                    348,
                    591,
                    88,
                    592,
                    705,
                    657,
                    566,
                    232,
                    469,
                    663,
                    487,
                    235,
                    96,
                    190,
                    10,
                    144,
                    558,
                    270,
                    658,
                    484,
                    79,
                    129,
                    67,
                    649,
                    609,
                    219,
                    309,
                    404,
                    280,
                    253,
                    52,
                    561,
                    654,
                    696,
                    589,
                    82,
                    703,
                    217,
                    305,
                    5,
                    539,
                    711,
                    356,
                    535,
                    465,
                    21,
                    508,
                    46,
                    451,
                    226,
                    357,
                    71,
                    229,
                    262,
                    632,
                    197,
                    505,
                    709,
                    340,
                    3,
                    540,
                    394,
                    507,
                    92,
                    214,
                    741,
                    47,
                    378,
                    499,
                    542,
                    419,
                    498,
                    676,
                    203,
                    760,
                    273,
                    362,
                    512,
                    615,
                    750,
                    436,
                    519,
                    239,
                    105,
                    343,
                    275,
                    59,
                    371,
                    136,
                    623,
                    49,
                    40,
                    477,
                    732,
                    316,
                    575,
                    75,
                    599
                  ],
                  "y": [
                    [
                      191.77
                    ],
                    [
                      189.66
                    ],
                    [
                      182.27
                    ],
                    [
                      207.8
                    ],
                    [
                      182.39
                    ],
                    [
                      132.08
                    ],
                    [
                      162.23
                    ],
                    [
                      169.21
                    ],
                    [
                      199.6
                    ],
                    [
                      205.98
                    ],
                    [
                      158.5
                    ],
                    [
                      129.19
                    ],
                    [
                      168.2
                    ],
                    [
                      202.8
                    ],
                    [
                      137.67
                    ],
                    [
                      147.42
                    ],
                    [
                      155.38
                    ],
                    [
                      121.46
                    ],
                    [
                      162.34
                    ],
                    [
                      143.9
                    ],
                    [
                      147.9
                    ],
                    [
                      160.4
                    ],
                    [
                      118.96
                    ],
                    [
                      139.7
                    ],
                    [
                      149.84
                    ],
                    [
                      141.95
                    ],
                    [
                      190.09
                    ],
                    [
                      127.27
                    ],
                    [
                      191.44
                    ],
                    [
                      182.54
                    ],
                    [
                      164
                    ],
                    [
                      190
                    ],
                    [
                      146.59
                    ],
                    [
                      132.69
                    ],
                    [
                      123.82
                    ],
                    [
                      143.45
                    ],
                    [
                      175.82
                    ],
                    [
                      121.87
                    ],
                    [
                      204.97
                    ],
                    [
                      147.64
                    ],
                    [
                      138.94
                    ],
                    [
                      178.68
                    ],
                    [
                      166.95
                    ],
                    [
                      149.63
                    ],
                    [
                      172.8
                    ],
                    [
                      160.92
                    ],
                    [
                      122.97
                    ],
                    [
                      121.91
                    ],
                    [
                      130.14
                    ],
                    [
                      156.18
                    ],
                    [
                      122.71
                    ],
                    [
                      189.12
                    ],
                    [
                      142.43
                    ],
                    [
                      147.09
                    ],
                    [
                      153.84
                    ],
                    [
                      117.19
                    ],
                    [
                      166.52
                    ],
                    [
                      146.84
                    ],
                    [
                      114.04
                    ],
                    [
                      169.53
                    ],
                    [
                      150.39
                    ],
                    [
                      192.07
                    ],
                    [
                      200.98
                    ],
                    [
                      182.21
                    ],
                    [
                      155.67
                    ],
                    [
                      212.08
                    ],
                    [
                      131.75
                    ],
                    [
                      161.27
                    ],
                    [
                      191.45
                    ],
                    [
                      145.08
                    ],
                    [
                      169.65
                    ],
                    [
                      118.39
                    ],
                    [
                      134.32
                    ],
                    [
                      138.5
                    ],
                    [
                      152.43
                    ],
                    [
                      143.91
                    ],
                    [
                      147.08
                    ],
                    [
                      187.68
                    ],
                    [
                      140.57
                    ],
                    [
                      152.89
                    ],
                    [
                      127.61
                    ],
                    [
                      175.54
                    ],
                    [
                      158.32
                    ],
                    [
                      201.68
                    ],
                    [
                      192.42
                    ],
                    [
                      172.68
                    ],
                    [
                      130.63
                    ],
                    [
                      111.66
                    ],
                    [
                      145.38
                    ],
                    [
                      167.34
                    ],
                    [
                      127.73
                    ],
                    [
                      147.95
                    ],
                    [
                      210.59
                    ],
                    [
                      169.34
                    ],
                    [
                      148.89
                    ],
                    [
                      194.93
                    ],
                    [
                      130.03
                    ],
                    [
                      213.3
                    ],
                    [
                      144.61
                    ],
                    [
                      162.07
                    ],
                    [
                      125.5
                    ],
                    [
                      123.54
                    ],
                    [
                      127.88
                    ],
                    [
                      140.16
                    ],
                    [
                      118.84
                    ],
                    [
                      137.8
                    ],
                    [
                      188.67
                    ],
                    [
                      155.5
                    ],
                    [
                      122.3
                    ],
                    [
                      116.94
                    ],
                    [
                      129
                    ],
                    [
                      132.48
                    ],
                    [
                      149.35
                    ],
                    [
                      190.96
                    ],
                    [
                      155.87
                    ],
                    [
                      193.49
                    ],
                    [
                      144.08
                    ],
                    [
                      151.99
                    ],
                    [
                      127.5
                    ],
                    [
                      141.34
                    ],
                    [
                      190.06
                    ],
                    [
                      204.47
                    ],
                    [
                      160.29
                    ],
                    [
                      124.9
                    ],
                    [
                      140.43
                    ],
                    [
                      124.79
                    ],
                    [
                      161.95
                    ],
                    [
                      135.59
                    ],
                    [
                      195.88
                    ],
                    [
                      141.1
                    ],
                    [
                      138.03
                    ],
                    [
                      177.25
                    ],
                    [
                      138.85
                    ],
                    [
                      144.82
                    ],
                    [
                      130.57
                    ],
                    [
                      181.71
                    ],
                    [
                      193.99
                    ],
                    [
                      193.42
                    ],
                    [
                      141.2
                    ],
                    [
                      162.07
                    ],
                    [
                      125.88
                    ],
                    [
                      129.64
                    ],
                    [
                      135.44
                    ],
                    [
                      121.5
                    ],
                    [
                      128.45
                    ],
                    [
                      147.37
                    ],
                    [
                      131.78
                    ],
                    [
                      162.17
                    ],
                    [
                      174.87
                    ],
                    [
                      185.08
                    ],
                    [
                      148.85
                    ],
                    [
                      159.16
                    ],
                    [
                      164.16
                    ],
                    [
                      125.26
                    ],
                    [
                      152.37
                    ],
                    [
                      144.48
                    ],
                    [
                      172.14
                    ],
                    [
                      172.51
                    ],
                    [
                      130.85
                    ],
                    [
                      147.7
                    ],
                    [
                      135.53
                    ],
                    [
                      133.4
                    ],
                    [
                      176.85
                    ],
                    [
                      163.18
                    ],
                    [
                      118.93
                    ],
                    [
                      191.07
                    ],
                    [
                      176.68
                    ],
                    [
                      126.99
                    ],
                    [
                      142.06
                    ],
                    [
                      186.63
                    ],
                    [
                      142.48
                    ],
                    [
                      200.74
                    ],
                    [
                      151.21
                    ],
                    [
                      135.3
                    ],
                    [
                      168.28
                    ],
                    [
                      173.78
                    ],
                    [
                      116
                    ],
                    [
                      199.1
                    ],
                    [
                      187.26
                    ],
                    [
                      127.4
                    ],
                    [
                      172.46
                    ],
                    [
                      166.71
                    ],
                    [
                      187.38
                    ],
                    [
                      151.28
                    ],
                    [
                      129.9
                    ],
                    [
                      197.35
                    ],
                    [
                      145.35
                    ],
                    [
                      149.68
                    ],
                    [
                      125.29
                    ],
                    [
                      134.34
                    ],
                    [
                      120.12
                    ],
                    [
                      184.1
                    ],
                    [
                      173.26
                    ],
                    [
                      143.74
                    ],
                    [
                      151.72
                    ],
                    [
                      143.67
                    ],
                    [
                      156.71
                    ],
                    [
                      187.82
                    ],
                    [
                      139.67
                    ],
                    [
                      140.3
                    ],
                    [
                      174.14
                    ],
                    [
                      135.6
                    ],
                    [
                      148.5
                    ],
                    [
                      186.94
                    ],
                    [
                      138.46
                    ],
                    [
                      145.05
                    ],
                    [
                      144.74
                    ],
                    [
                      177.67
                    ],
                    [
                      140.47
                    ],
                    [
                      141.28
                    ],
                    [
                      128.48
                    ],
                    [
                      165.8
                    ],
                    [
                      191.28
                    ],
                    [
                      160.04
                    ],
                    [
                      143.6
                    ],
                    [
                      135.02
                    ],
                    [
                      140.08
                    ],
                    [
                      157.54
                    ],
                    [
                      139.25
                    ],
                    [
                      162.14
                    ],
                    [
                      143.18
                    ],
                    [
                      162.37
                    ],
                    [
                      130.15
                    ],
                    [
                      146.91
                    ],
                    [
                      138.25
                    ],
                    [
                      184.75
                    ],
                    [
                      172.98
                    ],
                    [
                      116.05
                    ],
                    [
                      133.81
                    ],
                    [
                      142.99
                    ],
                    [
                      141.88
                    ],
                    [
                      137.02
                    ],
                    [
                      134.09
                    ],
                    [
                      127.87
                    ],
                    [
                      143.64
                    ],
                    [
                      147.72
                    ],
                    [
                      162.07
                    ],
                    [
                      150.37
                    ],
                    [
                      143.7
                    ],
                    [
                      124
                    ],
                    [
                      166.99
                    ],
                    [
                      147.1
                    ],
                    [
                      186.67
                    ],
                    [
                      191.76
                    ],
                    [
                      133.31
                    ],
                    [
                      145.46
                    ],
                    [
                      177.3
                    ],
                    [
                      160.4
                    ],
                    [
                      125.28
                    ],
                    [
                      127.25
                    ],
                    [
                      195.19
                    ],
                    [
                      181.35
                    ],
                    [
                      147.94
                    ],
                    [
                      135.23
                    ],
                    [
                      159.55
                    ],
                    [
                      154.49
                    ],
                    [
                      145.45
                    ],
                    [
                      124.73
                    ],
                    [
                      182.56
                    ],
                    [
                      134.4
                    ],
                    [
                      191.95
                    ],
                    [
                      193.36
                    ],
                    [
                      142.36
                    ],
                    [
                      147.93
                    ],
                    [
                      151.98
                    ],
                    [
                      170.89
                    ],
                    [
                      214.92
                    ],
                    [
                      163.14
                    ],
                    [
                      206.01
                    ],
                    [
                      160.26
                    ],
                    [
                      200.62
                    ],
                    [
                      143.22
                    ],
                    [
                      187.38
                    ],
                    [
                      127.19
                    ],
                    [
                      155.52
                    ],
                    [
                      192.17
                    ],
                    [
                      135.32
                    ],
                    [
                      113.03
                    ],
                    [
                      163.85
                    ],
                    [
                      144.35
                    ],
                    [
                      142.45
                    ],
                    [
                      133.08
                    ],
                    [
                      144.09
                    ],
                    [
                      140.85
                    ],
                    [
                      144.51
                    ],
                    [
                      139.7
                    ],
                    [
                      152.61
                    ],
                    [
                      140.96
                    ],
                    [
                      135.15
                    ],
                    [
                      146.35
                    ],
                    [
                      140.25
                    ],
                    [
                      191.2
                    ],
                    [
                      133.59
                    ],
                    [
                      130.5
                    ],
                    [
                      154.1
                    ],
                    [
                      160.62
                    ],
                    [
                      147.05
                    ],
                    [
                      167.34
                    ],
                    [
                      201.22
                    ],
                    [
                      123.61
                    ],
                    [
                      172.99
                    ],
                    [
                      209.41
                    ],
                    [
                      170.58
                    ],
                    [
                      128.76
                    ],
                    [
                      140.02
                    ],
                    [
                      192.3
                    ],
                    [
                      152.05
                    ],
                    [
                      192.45
                    ],
                    [
                      176.49
                    ],
                    [
                      143.7
                    ],
                    [
                      139.2
                    ],
                    [
                      210.38
                    ],
                    [
                      173.67
                    ],
                    [
                      185.34
                    ],
                    [
                      155.89
                    ],
                    [
                      127.2
                    ],
                    [
                      185.17
                    ],
                    [
                      132.42
                    ],
                    [
                      183.03
                    ],
                    [
                      161.96
                    ],
                    [
                      139.2
                    ],
                    [
                      135.64
                    ],
                    [
                      124.27
                    ],
                    [
                      110.94
                    ],
                    [
                      190.45
                    ],
                    [
                      163.5
                    ],
                    [
                      134.1
                    ],
                    [
                      134.83
                    ],
                    [
                      187.45
                    ],
                    [
                      145.94
                    ],
                    [
                      131.19
                    ],
                    [
                      190.53
                    ],
                    [
                      128.76
                    ],
                    [
                      145.39
                    ],
                    [
                      138.46
                    ],
                    [
                      189.08
                    ],
                    [
                      160.55
                    ],
                    [
                      154.24
                    ],
                    [
                      151.35
                    ],
                    [
                      207.45
                    ],
                    [
                      153.41
                    ],
                    [
                      183.88
                    ],
                    [
                      160.39
                    ],
                    [
                      194.3
                    ],
                    [
                      156.72
                    ],
                    [
                      186.38
                    ],
                    [
                      118.61
                    ],
                    [
                      119.7
                    ],
                    [
                      125.11
                    ],
                    [
                      151.36
                    ],
                    [
                      162.28
                    ],
                    [
                      176.02
                    ],
                    [
                      152.35
                    ],
                    [
                      121.86
                    ],
                    [
                      127.96
                    ],
                    [
                      122.76
                    ],
                    [
                      185.24
                    ],
                    [
                      170.01
                    ],
                    [
                      125.1
                    ],
                    [
                      172.95
                    ],
                    [
                      122.84
                    ],
                    [
                      141.65
                    ],
                    [
                      125.73
                    ],
                    [
                      117.19
                    ],
                    [
                      123.16
                    ],
                    [
                      185.93
                    ],
                    [
                      180.05
                    ],
                    [
                      155.05
                    ],
                    [
                      159.75
                    ],
                    [
                      158.51
                    ],
                    [
                      133.97
                    ],
                    [
                      160.67
                    ],
                    [
                      130.15
                    ],
                    [
                      141.52
                    ],
                    [
                      160.02
                    ],
                    [
                      220.84
                    ],
                    [
                      134.01
                    ],
                    [
                      180.67
                    ],
                    [
                      186.01
                    ],
                    [
                      160.45
                    ],
                    [
                      202.2
                    ],
                    [
                      154.11
                    ],
                    [
                      147.25
                    ],
                    [
                      185.94
                    ],
                    [
                      167.5
                    ],
                    [
                      107.95
                    ],
                    [
                      154.46
                    ],
                    [
                      137.49
                    ],
                    [
                      139.45
                    ],
                    [
                      146.76
                    ],
                    [
                      124.79
                    ],
                    [
                      163.65
                    ],
                    [
                      201.09
                    ],
                    [
                      191.11
                    ],
                    [
                      134.21
                    ],
                    [
                      208.44
                    ],
                    [
                      152.52
                    ],
                    [
                      170.55
                    ],
                    [
                      185.42
                    ],
                    [
                      140.56
                    ],
                    [
                      130.63
                    ],
                    [
                      194.47
                    ],
                    [
                      155.12
                    ],
                    [
                      118.35
                    ],
                    [
                      129.1
                    ],
                    [
                      177.06
                    ],
                    [
                      144.68
                    ],
                    [
                      169.14
                    ],
                    [
                      185.79
                    ],
                    [
                      190.01
                    ],
                    [
                      199.29
                    ],
                    [
                      151.84
                    ],
                    [
                      138.51
                    ],
                    [
                      190.46
                    ],
                    [
                      125.93
                    ],
                    [
                      183.25
                    ],
                    [
                      131.63
                    ],
                    [
                      139.11
                    ],
                    [
                      148.97
                    ],
                    [
                      119.11
                    ],
                    [
                      130.19
                    ],
                    [
                      127.79
                    ],
                    [
                      130.38
                    ],
                    [
                      148.37
                    ],
                    [
                      143.73
                    ],
                    [
                      165.71
                    ],
                    [
                      182.79
                    ],
                    [
                      159.03
                    ],
                    [
                      206.35
                    ],
                    [
                      134.39
                    ],
                    [
                      208.02
                    ],
                    [
                      164.27
                    ],
                    [
                      198.81
                    ],
                    [
                      179.68
                    ],
                    [
                      124.72
                    ],
                    [
                      152.39
                    ],
                    [
                      188.52
                    ],
                    [
                      167.4
                    ],
                    [
                      106.34
                    ],
                    [
                      148.67
                    ],
                    [
                      120.8
                    ],
                    [
                      191.75
                    ],
                    [
                      133.66
                    ],
                    [
                      179.64
                    ],
                    [
                      147.25
                    ],
                    [
                      197.76
                    ],
                    [
                      165.46
                    ],
                    [
                      131.09
                    ],
                    [
                      126.56
                    ],
                    [
                      129.43
                    ],
                    [
                      206.81
                    ],
                    [
                      205.18
                    ],
                    [
                      125.79
                    ],
                    [
                      115.67
                    ],
                    [
                      169.53
                    ],
                    [
                      132.28
                    ],
                    [
                      134.45
                    ],
                    [
                      142.03
                    ],
                    [
                      186.64
                    ],
                    [
                      205.48
                    ],
                    [
                      165.05
                    ],
                    [
                      195.46
                    ],
                    [
                      125.45
                    ],
                    [
                      166.21
                    ],
                    [
                      124.96
                    ],
                    [
                      124.27
                    ],
                    [
                      202.13
                    ],
                    [
                      186.37
                    ],
                    [
                      164.84
                    ],
                    [
                      154.81
                    ],
                    [
                      188.53
                    ],
                    [
                      138.25
                    ],
                    [
                      167.15
                    ],
                    [
                      159.11
                    ],
                    [
                      152.89
                    ],
                    [
                      121.04
                    ],
                    [
                      132.06
                    ],
                    [
                      154.76
                    ],
                    [
                      128.89
                    ],
                    [
                      116.98
                    ],
                    [
                      143.24
                    ],
                    [
                      197.77
                    ],
                    [
                      124.69
                    ],
                    [
                      153.31
                    ],
                    [
                      161.83
                    ],
                    [
                      153.43
                    ],
                    [
                      214.79
                    ],
                    [
                      184.36
                    ],
                    [
                      175.65
                    ],
                    [
                      157.14
                    ],
                    [
                      140.89
                    ],
                    [
                      125.07
                    ],
                    [
                      128.38
                    ],
                    [
                      149.02
                    ],
                    [
                      152.94
                    ],
                    [
                      154.28
                    ],
                    [
                      187.06
                    ],
                    [
                      154.98
                    ],
                    [
                      162.88
                    ],
                    [
                      181.63
                    ],
                    [
                      116.85
                    ],
                    [
                      127.94
                    ],
                    [
                      142.74
                    ],
                    [
                      153.68
                    ],
                    [
                      155.38
                    ],
                    [
                      193.42
                    ],
                    [
                      125.42
                    ],
                    [
                      152.84
                    ],
                    [
                      162.08
                    ],
                    [
                      127.73
                    ],
                    [
                      118.81
                    ],
                    [
                      159.31
                    ],
                    [
                      137.9
                    ],
                    [
                      141.41
                    ],
                    [
                      143.74
                    ],
                    [
                      124.18
                    ],
                    [
                      193.27
                    ],
                    [
                      142.52
                    ],
                    [
                      163.55
                    ],
                    [
                      155.75
                    ],
                    [
                      134.11
                    ],
                    [
                      148.33
                    ],
                    [
                      186.92
                    ],
                    [
                      126.41
                    ],
                    [
                      211.38
                    ]
                  ],
                  "type": "scatter"
                },
                {
                  "mode": "lines",
                  "name": "Predicted",
                  "x": [
                    548,
                    670,
                    579,
                    625,
                    678,
                    65,
                    42,
                    16,
                    650,
                    628,
                    500,
                    108,
                    686,
                    651,
                    126,
                    174,
                    381,
                    212,
                    510,
                    723,
                    48,
                    497,
                    151,
                    327,
                    241,
                    331,
                    559,
                    107,
                    544,
                    665,
                    713,
                    598,
                    432,
                    138,
                    298,
                    62,
                    400,
                    231,
                    610,
                    98,
                    63,
                    399,
                    482,
                    415,
                    564,
                    515,
                    765,
                    225,
                    739,
                    346,
                    106,
                    9,
                    180,
                    446,
                    420,
                    306,
                    408,
                    171,
                    204,
                    390,
                    468,
                    586,
                    607,
                    551,
                    417,
                    602,
                    464,
                    412,
                    8,
                    366,
                    488,
                    228,
                    281,
                    463,
                    413,
                    335,
                    376,
                    552,
                    265,
                    435,
                    186,
                    690,
                    423,
                    608,
                    660,
                    491,
                    755,
                    205,
                    722,
                    403,
                    130,
                    445,
                    626,
                    680,
                    341,
                    587,
                    455,
                    601,
                    155,
                    517,
                    767,
                    308,
                    154,
                    94,
                    148,
                    448,
                    522,
                    715,
                    213,
                    202,
                    753,
                    113,
                    443,
                    27,
                    506,
                    619,
                    370,
                    433,
                    737,
                    167,
                    523,
                    595,
                    388,
                    227,
                    461,
                    310,
                    425,
                    250,
                    646,
                    288,
                    294,
                    556,
                    730,
                    368,
                    84,
                    536,
                    613,
                    659,
                    89,
                    363,
                    196,
                    83,
                    258,
                    234,
                    747,
                    473,
                    768,
                    514,
                    679,
                    562,
                    476,
                    39,
                    516,
                    749,
                    434,
                    321,
                    391,
                    481,
                    769,
                    322,
                    266,
                    64,
                    571,
                    695,
                    188,
                    29,
                    557,
                    279,
                    119,
                    530,
                    326,
                    4,
                    314,
                    69,
                    702,
                    572,
                    206,
                    642,
                    560,
                    146,
                    15,
                    406,
                    529,
                    173,
                    102,
                    584,
                    58,
                    272,
                    80,
                    248,
                    233,
                    574,
                    490,
                    725,
                    442,
                    264,
                    338,
                    582,
                    728,
                    53,
                    392,
                    86,
                    441,
                    620,
                    462,
                    724,
                    176,
                    565,
                    117,
                    328,
                    124,
                    38,
                    525,
                    424,
                    727,
                    120,
                    466,
                    685,
                    293,
                    41,
                    164,
                    350,
                    131,
                    54,
                    458,
                    667,
                    687,
                    150,
                    66,
                    261,
                    263,
                    160,
                    259,
                    738,
                    332,
                    438,
                    428,
                    386,
                    474,
                    764,
                    485,
                    364,
                    550,
                    616,
                    278,
                    178,
                    401,
                    503,
                    748,
                    761,
                    547,
                    397,
                    57,
                    159,
                    422,
                    344,
                    317,
                    736,
                    538,
                    255,
                    617,
                    624,
                    447,
                    717,
                    385,
                    19,
                    603,
                    351,
                    655,
                    342,
                    656,
                    156,
                    673,
                    763,
                    345,
                    577,
                    282,
                    301,
                    712,
                    286,
                    369,
                    450,
                    165,
                    312,
                    472,
                    372,
                    414,
                    166,
                    277,
                    324,
                    283,
                    526,
                    181,
                    78,
                    382,
                    427,
                    95,
                    349,
                    633,
                    152,
                    681,
                    600,
                    701,
                    756,
                    170,
                    527,
                    383,
                    637,
                    691,
                    91,
                    276,
                    604,
                    492,
                    581,
                    707,
                    200,
                    553,
                    70,
                    578,
                    43,
                    292,
                    731,
                    199,
                    302,
                    549,
                    426,
                    296,
                    143,
                    675,
                    440,
                    751,
                    677,
                    133,
                    329,
                    51,
                    644,
                    44,
                    377,
                    315,
                    627,
                    243,
                    666,
                    411,
                    645,
                    504,
                    674,
                    193,
                    222,
                    220,
                    271,
                    710,
                    13,
                    431,
                    744,
                    743,
                    211,
                    672,
                    17,
                    153,
                    14,
                    73,
                    93,
                    76,
                    223,
                    215,
                    521,
                    396,
                    387,
                    480,
                    511,
                    297,
                    494,
                    746,
                    169,
                    409,
                    1,
                    112,
                    398,
                    638,
                    496,
                    590,
                    380,
                    437,
                    541,
                    697,
                    238,
                    430,
                    158,
                    289,
                    718,
                    453,
                    502,
                    606,
                    588,
                    251,
                    594,
                    444,
                    402,
                    580,
                    245,
                    145,
                    611,
                    478,
                    221,
                    311,
                    671,
                    177,
                    684,
                    35,
                    546,
                    634,
                    358,
                    101,
                    662,
                    207,
                    11,
                    456,
                    163,
                    359,
                    192,
                    733,
                    208,
                    110,
                    97,
                    244,
                    22,
                    554,
                    348,
                    591,
                    88,
                    592,
                    705,
                    657,
                    566,
                    232,
                    469,
                    663,
                    487,
                    235,
                    96,
                    190,
                    10,
                    144,
                    558,
                    270,
                    658,
                    484,
                    79,
                    129,
                    67,
                    649,
                    609,
                    219,
                    309,
                    404,
                    280,
                    253,
                    52,
                    561,
                    654,
                    696,
                    589,
                    82,
                    703,
                    217,
                    305,
                    5,
                    539,
                    711,
                    356,
                    535,
                    465,
                    21,
                    508,
                    46,
                    451,
                    226,
                    357,
                    71,
                    229,
                    262,
                    632,
                    197,
                    505,
                    709,
                    340,
                    3,
                    540,
                    394,
                    507,
                    92,
                    214,
                    741,
                    47,
                    378,
                    499,
                    542,
                    419,
                    498,
                    676,
                    203,
                    760,
                    273,
                    362,
                    512,
                    615,
                    750,
                    436,
                    519,
                    239,
                    105,
                    343,
                    275,
                    59,
                    371,
                    136,
                    623,
                    49,
                    40,
                    477,
                    732,
                    316,
                    575,
                    75,
                    599
                  ],
                  "y": [
                    [
                      163.45018726302982
                    ],
                    [
                      169.61381384640157
                    ],
                    [
                      165.01635467355868
                    ],
                    [
                      167.34034502466608
                    ],
                    [
                      170.01798608137676
                    ],
                    [
                      139.0482885764023
                    ],
                    [
                      137.88629340084861
                    ],
                    [
                      136.57273363717923
                    ],
                    [
                      168.60338325896356
                    ],
                    [
                      167.49190961278177
                    ],
                    [
                      161.02515385317864
                    ],
                    [
                      141.220714339394
                    ],
                    [
                      170.42215831635195
                    ],
                    [
                      168.65390478833547
                    ],
                    [
                      142.1301018680882
                    ],
                    [
                      144.55513527793937
                    ],
                    [
                      155.01309185792257
                    ],
                    [
                      146.47495339407155
                    ],
                    [
                      161.5303691468976
                    ],
                    [
                      172.29145490311222
                    ],
                    [
                      138.18942257708002
                    ],
                    [
                      160.87358926506295
                    ],
                    [
                      143.39314010238567
                    ],
                    [
                      152.28492927184
                    ],
                    [
                      147.94007774585663
                    ],
                    [
                      152.4870153893276
                    ],
                    [
                      164.0059240861207
                    ],
                    [
                      141.1701928100221
                    ],
                    [
                      163.24810114554222
                    ],
                    [
                      169.36120619954207
                    ],
                    [
                      171.78623960939325
                    ],
                    [
                      165.97626373162478
                    ],
                    [
                      157.58968985588945
                    ],
                    [
                      142.73636022055098
                    ],
                    [
                      150.8198049200549
                    ],
                    [
                      138.89672398828662
                    ],
                    [
                      155.97300091598868
                    ],
                    [
                      147.43486245213765
                    ],
                    [
                      166.58252208408757
                    ],
                    [
                      140.715499045675
                    ],
                    [
                      138.9472455176585
                    ],
                    [
                      155.92247938661677
                    ],
                    [
                      160.11576632448444
                    ],
                    [
                      156.73082385656716
                    ],
                    [
                      164.2585317329802
                    ],
                    [
                      161.78297679375711
                    ],
                    [
                      174.41335913673203
                    ],
                    [
                      147.13173327590624
                    ],
                    [
                      173.09979937306264
                    ],
                    [
                      153.2448383299061
                    ],
                    [
                      141.1196712806502
                    ],
                    [
                      136.21908293157594
                    ],
                    [
                      144.85826445417075
                    ],
                    [
                      158.29699126709605
                    ],
                    [
                      156.98343150342666
                    ],
                    [
                      151.22397715503013
                    ],
                    [
                      156.37717315096387
                    ],
                    [
                      144.40357068982368
                    ],
                    [
                      146.07078115909636
                    ],
                    [
                      155.46778562226967
                    ],
                    [
                      159.40846491327784
                    ],
                    [
                      165.370005379162
                    ],
                    [
                      166.43095749597188
                    ],
                    [
                      163.6017518511455
                    ],
                    [
                      156.83186691531097
                    ],
                    [
                      166.17834984911238
                    ],
                    [
                      159.20637879579024
                    ],
                    [
                      156.57925926845147
                    ],
                    [
                      136.16856140220403
                    ],
                    [
                      154.2552689173441
                    ],
                    [
                      160.41889550071585
                    ],
                    [
                      147.28329786402193
                    ],
                    [
                      149.96093892073262
                    ],
                    [
                      159.15585726641834
                    ],
                    [
                      156.62978079782337
                    ],
                    [
                      152.6891015068152
                    ],
                    [
                      154.76048421106307
                    ],
                    [
                      163.6522733805174
                    ],
                    [
                      149.15259445078223
                    ],
                    [
                      157.74125444400516
                    ],
                    [
                      145.16139363040216
                    ],
                    [
                      170.62424443383955
                    ],
                    [
                      157.13499609154235
                    ],
                    [
                      166.4814790253438
                    ],
                    [
                      169.10859855268257
                    ],
                    [
                      160.57046008883154
                    ],
                    [
                      173.90814384301302
                    ],
                    [
                      146.12130268846826
                    ],
                    [
                      172.24093337374035
                    ],
                    [
                      156.12456550410437
                    ],
                    [
                      142.33218798557579
                    ],
                    [
                      158.24646973772417
                    ],
                    [
                      167.39086655403798
                    ],
                    [
                      170.11902914012055
                    ],
                    [
                      152.99223068304659
                    ],
                    [
                      165.4205269085339
                    ],
                    [
                      158.75168503144315
                    ],
                    [
                      166.1278283197405
                    ],
                    [
                      143.59522621987327
                    ],
                    [
                      161.88401985250093
                    ],
                    [
                      174.5144021954758
                    ],
                    [
                      151.3250202137739
                    ],
                    [
                      143.54470469050136
                    ],
                    [
                      140.5134129281874
                    ],
                    [
                      143.24157551426998
                    ],
                    [
                      158.39803432583986
                    ],
                    [
                      162.13662749936043
                    ],
                    [
                      171.88728266813703
                    ],
                    [
                      146.52547492344345
                    ],
                    [
                      145.96973810035254
                    ],
                    [
                      173.8071007842692
                    ],
                    [
                      141.4733219862535
                    ],
                    [
                      158.14542667898036
                    ],
                    [
                      137.12847046027014
                    ],
                    [
                      161.32828302941002
                    ],
                    [
                      167.03721584843467
                    ],
                    [
                      154.4573550348317
                    ],
                    [
                      157.64021138526135
                    ],
                    [
                      172.99875631431883
                    ],
                    [
                      144.20148457233608
                    ],
                    [
                      162.18714902873234
                    ],
                    [
                      165.8246991435091
                    ],
                    [
                      155.3667425635259
                    ],
                    [
                      147.23277633465005
                    ],
                    [
                      159.05481420767455
                    ],
                    [
                      151.42606327251772
                    ],
                    [
                      157.23603915028616
                    ],
                    [
                      148.39477151020373
                    ],
                    [
                      168.40129714147596
                    ],
                    [
                      150.31458962633593
                    ],
                    [
                      150.6177188025673
                    ],
                    [
                      163.854359498005
                    ],
                    [
                      172.64510560871554
                    ],
                    [
                      154.35631197608788
                    ],
                    [
                      140.00819763446842
                    ],
                    [
                      162.843928910567
                    ],
                    [
                      166.7340866722033
                    ],
                    [
                      169.05807702331066
                    ],
                    [
                      140.26080528132792
                    ],
                    [
                      154.10370432922838
                    ],
                    [
                      145.66660892412116
                    ],
                    [
                      139.9576761050965
                    ],
                    [
                      148.79894374517895
                    ],
                    [
                      147.58642704025334
                    ],
                    [
                      173.50397160803783
                    ],
                    [
                      159.66107256013734
                    ],
                    [
                      174.56492372484772
                    ],
                    [
                      161.73245526438524
                    ],
                    [
                      170.06850761074867
                    ],
                    [
                      164.1574886742364
                    ],
                    [
                      159.81263714825303
                    ],
                    [
                      137.73472881273293
                    ],
                    [
                      161.83349832312902
                    ],
                    [
                      173.60501466678164
                    ],
                    [
                      157.69073291463326
                    ],
                    [
                      151.9818000956086
                    ],
                    [
                      155.51830715164158
                    ],
                    [
                      160.06524479511253
                    ],
                    [
                      174.61544525421962
                    ],
                    [
                      152.0323216249805
                    ],
                    [
                      149.20311598015414
                    ],
                    [
                      138.9977670470304
                    ],
                    [
                      164.6121824385835
                    ],
                    [
                      170.87685208069905
                    ],
                    [
                      145.26243668914597
                    ],
                    [
                      137.22951351901392
                    ],
                    [
                      163.90488102737692
                    ],
                    [
                      149.85989586198883
                    ],
                    [
                      141.7764511624849
                    ],
                    [
                      162.54079973433562
                    ],
                    [
                      152.2344077424681
                    ],
                    [
                      135.96647528471644
                    ],
                    [
                      151.62814939000532
                    ],
                    [
                      139.2503746938899
                    ],
                    [
                      171.23050278630234
                    ],
                    [
                      164.6627039679554
                    ],
                    [
                      146.17182421784014
                    ],
                    [
                      168.19921102398837
                    ],
                    [
                      164.0564456154926
                    ],
                    [
                      143.14053245552617
                    ],
                    [
                      136.52221210780735
                    ],
                    [
                      156.27613009222006
                    ],
                    [
                      162.49027820496372
                    ],
                    [
                      144.50461374856746
                    ],
                    [
                      140.91758516316258
                    ],
                    [
                      165.26896232041818
                    ],
                    [
                      138.69463787079903
                    ],
                    [
                      149.50624515638552
                    ],
                    [
                      139.80611151698082
                    ],
                    [
                      148.29372845145994
                    ],
                    [
                      147.53590551088143
                    ],
                    [
                      164.7637470266992
                    ],
                    [
                      160.51993855945963
                    ],
                    [
                      172.39249796185604
                    ],
                    [
                      158.09490514960845
                    ],
                    [
                      149.10207292141033
                    ],
                    [
                      152.8406660949309
                    ],
                    [
                      165.1679192616744
                    ],
                    [
                      172.54406254997173
                    ],
                    [
                      138.44203022393953
                    ],
                    [
                      155.56882868101349
                    ],
                    [
                      140.1092406932122
                    ],
                    [
                      158.04438362023654
                    ],
                    [
                      167.08773737780658
                    ],
                    [
                      159.10533573704646
                    ],
                    [
                      172.34197643248413
                    ],
                    [
                      144.65617833668315
                    ],
                    [
                      164.3090532623521
                    ],
                    [
                      141.6754081037411
                    ],
                    [
                      152.3354508012119
                    ],
                    [
                      142.02905880934438
                    ],
                    [
                      137.68420728336102
                    ],
                    [
                      162.28819208747612
                    ],
                    [
                      157.18551762091425
                    ],
                    [
                      172.49354102059982
                    ],
                    [
                      141.82697269185678
                    ],
                    [
                      159.30742185453406
                    ],
                    [
                      170.37163678698005
                    ],
                    [
                      150.5671972731954
                    ],
                    [
                      137.83577187147674
                    ],
                    [
                      144.04991998422037
                    ],
                    [
                      153.44692444739368
                    ],
                    [
                      142.3827095149477
                    ],
                    [
                      138.49255175331143
                    ],
                    [
                      158.90324961955884
                    ],
                    [
                      169.46224925828585
                    ],
                    [
                      170.47267984572386
                    ],
                    [
                      143.34261857301377
                    ],
                    [
                      139.09881010577422
                    ],
                    [
                      148.95050833329464
                    ],
                    [
                      149.05155139203842
                    ],
                    [
                      143.84783386673277
                    ],
                    [
                      148.84946527455082
                    ],
                    [
                      173.04927784369073
                    ],
                    [
                      152.53753691869952
                    ],
                    [
                      157.89281903212085
                    ],
                    [
                      157.38760373840185
                    ],
                    [
                      155.26569950478208
                    ],
                    [
                      159.71159408950925
                    ],
                    [
                      174.36283760736012
                    ],
                    [
                      160.26733091260013
                    ],
                    [
                      154.15422585860028
                    ],
                    [
                      163.5512303217736
                    ],
                    [
                      166.88565126031898
                    ],
                    [
                      149.80937433261693
                    ],
                    [
                      144.75722139542697
                    ],
                    [
                      156.02352244536058
                    ],
                    [
                      161.17671844129433
                    ],
                    [
                      173.55449313740974
                    ],
                    [
                      174.2112730192444
                    ],
                    [
                      163.3996657336579
                    ],
                    [
                      155.82143632787296
                    ],
                    [
                      138.64411634142712
                    ],
                    [
                      143.79731233736086
                    ],
                    [
                      157.08447456217047
                    ],
                    [
                      153.1437952711623
                    ],
                    [
                      151.779713978121
                    ],
                    [
                      172.94823478494692
                    ],
                    [
                      162.9449719693108
                    ],
                    [
                      148.64737915706323
                    ],
                    [
                      166.9361727896909
                    ],
                    [
                      167.28982349529417
                    ],
                    [
                      158.34751279646795
                    ],
                    [
                      171.98832572688084
                    ],
                    [
                      155.21517797541017
                    ],
                    [
                      136.72429822529494
                    ],
                    [
                      166.22887137848429
                    ],
                    [
                      153.4974459767656
                    ],
                    [
                      168.85599090582306
                    ],
                    [
                      153.0427522124185
                    ],
                    [
                      168.90651243519497
                    ],
                    [
                      143.64574774924517
                    ],
                    [
                      169.76537843451726
                    ],
                    [
                      174.3123160779882
                    ],
                    [
                      153.19431680053418
                    ],
                    [
                      164.9153116148149
                    ],
                    [
                      150.01146045010452
                    ],
                    [
                      150.97136950817062
                    ],
                    [
                      171.73571808002134
                    ],
                    [
                      150.21354656759212
                    ],
                    [
                      154.4068335054598
                    ],
                    [
                      158.49907738458364
                    ],
                    [
                      144.10044151359227
                    ],
                    [
                      151.5271063312615
                    ],
                    [
                      159.61055103076544
                    ],
                    [
                      154.55839809357548
                    ],
                    [
                      156.68030232719528
                    ],
                    [
                      144.15096304296418
                    ],
                    [
                      149.75885280324502
                    ],
                    [
                      152.1333646837243
                    ],
                    [
                      150.06198197947643
                    ],
                    [
                      162.33871361684803
                    ],
                    [
                      144.90878598354266
                    ],
                    [
                      139.705068458237
                    ],
                    [
                      155.06361338729448
                    ],
                    [
                      157.33708220902997
                    ],
                    [
                      140.5639344575593
                    ],
                    [
                      153.3964029180218
                    ],
                    [
                      167.74451725964127
                    ],
                    [
                      143.44366163175758
                    ],
                    [
                      170.16955066949245
                    ],
                    [
                      166.0773067903686
                    ],
                    [
                      171.17998125693043
                    ],
                    [
                      173.95866537238493
                    ],
                    [
                      144.35304916045177
                    ],
                    [
                      162.3892351462199
                    ],
                    [
                      155.1141349166664
                    ],
                    [
                      167.94660337712887
                    ],
                    [
                      170.67476596321146
                    ],
                    [
                      140.3618483400717
                    ],
                    [
                      149.7083312738731
                    ],
                    [
                      166.2793929078562
                    ],
                    [
                      160.62098161820344
                    ],
                    [
                      165.1173977323025
                    ],
                    [
                      171.48311043316184
                    ],
                    [
                      145.86869504160876
                    ],
                    [
                      163.7027949098893
                    ],
                    [
                      139.30089622326182
                    ],
                    [
                      164.9658331441868
                    ],
                    [
                      137.93681493022052
                    ],
                    [
                      150.51667574382353
                    ],
                    [
                      172.69562713808745
                    ],
                    [
                      145.81817351223685
                    ],
                    [
                      151.0218910375425
                    ],
                    [
                      163.50070879240172
                    ],
                    [
                      157.28656067965807
                    ],
                    [
                      150.71876186131112
                    ],
                    [
                      142.98896786741048
                    ],
                    [
                      169.86642149326104
                    ],
                    [
                      157.99386209086467
                    ],
                    [
                      173.70605772552543
                    ],
                    [
                      169.96746455200486
                    ],
                    [
                      142.48375257369148
                    ],
                    [
                      152.3859723305838
                    ],
                    [
                      138.3409871651957
                    ],
                    [
                      168.30025408273218
                    ],
                    [
                      137.98733645959243
                    ],
                    [
                      154.81100574043498
                    ],
                    [
                      151.6786709193772
                    ],
                    [
                      167.4413880834099
                    ],
                    [
                      148.04112080460044
                    ],
                    [
                      169.41172772891395
                    ],
                    [
                      156.52873773907956
                    ],
                    [
                      168.35077561210406
                    ],
                    [
                      161.22723997066623
                    ],
                    [
                      169.81589996388917
                    ],
                    [
                      145.51504433600547
                    ],
                    [
                      146.98016868779055
                    ],
                    [
                      146.87912562904674
                    ],
                    [
                      149.45572362701364
                    ],
                    [
                      171.63467502127753
                    ],
                    [
                      136.42116904906354
                    ],
                    [
                      157.53916832651757
                    ],
                    [
                      173.3524070199221
                    ],
                    [
                      173.30188549055023
                    ],
                    [
                      146.42443186469964
                    ],
                    [
                      169.71485690514535
                    ],
                    [
                      136.62325516655113
                    ],
                    [
                      143.49418316112948
                    ],
                    [
                      136.47169057843544
                    ],
                    [
                      139.4524608113775
                    ],
                    [
                      140.46289139881551
                    ],
                    [
                      139.6040253994932
                    ],
                    [
                      147.03069021716246
                    ],
                    [
                      146.62651798218724
                    ],
                    [
                      162.08610596998852
                    ],
                    [
                      155.77091479850108
                    ],
                    [
                      155.31622103415398
                    ],
                    [
                      160.01472326574063
                    ],
                    [
                      161.58089067626952
                    ],
                    [
                      150.76928339068303
                    ],
                    [
                      160.72202467694723
                    ],
                    [
                      173.45345007866592
                    ],
                    [
                      144.30252763107987
                    ],
                    [
                      156.42769468033578
                    ],
                    [
                      135.81491069660075
                    ],
                    [
                      141.4228004568816
                    ],
                    [
                      155.87195785724487
                    ],
                    [
                      167.99712490650077
                    ],
                    [
                      160.82306773569104
                    ],
                    [
                      165.5720914966496
                    ],
                    [
                      154.96257032855067
                    ],
                    [
                      157.84229750274895
                    ],
                    [
                      163.0965365574265
                    ],
                    [
                      170.97789513944284
                    ],
                    [
                      147.78851315774094
                    ],
                    [
                      157.48864679714566
                    ],
                    [
                      143.746790807989
                    ],
                    [
                      150.3651111557078
                    ],
                    [
                      172.03884725625272
                    ],
                    [
                      158.65064197269936
                    ],
                    [
                      161.12619691192242
                    ],
                    [
                      166.38043596659998
                    ],
                    [
                      165.47104843790578
                    ],
                    [
                      148.44529303957563
                    ],
                    [
                      165.7741776141372
                    ],
                    [
                      158.19594820835226
                    ],
                    [
                      156.07404397473246
                    ],
                    [
                      165.0668762029306
                    ],
                    [
                      148.14216386334425
                    ],
                    [
                      143.0900109261543
                    ],
                    [
                      166.63304361345948
                    ],
                    [
                      159.91368020699684
                    ],
                    [
                      146.92964715841865
                    ],
                    [
                      151.4765848018896
                    ],
                    [
                      169.66433537577345
                    ],
                    [
                      144.70669986605506
                    ],
                    [
                      170.32111525760814
                    ],
                    [
                      137.53264269524533
                    ],
                    [
                      163.349144204286
                    ],
                    [
                      167.79503878901318
                    ],
                    [
                      153.8510966823689
                    ],
                    [
                      140.8670636337907
                    ],
                    [
                      169.20964161142638
                    ],
                    [
                      146.22234574721205
                    ],
                    [
                      136.32012599031972
                    ],
                    [
                      158.80220656081505
                    ],
                    [
                      143.99939845484846
                    ],
                    [
                      153.90161821174078
                    ],
                    [
                      145.46452280663357
                    ],
                    [
                      172.79667019683123
                    ],
                    [
                      146.27286727658395
                    ],
                    [
                      141.3217573981378
                    ],
                    [
                      140.6649775163031
                    ],
                    [
                      148.09164233397235
                    ],
                    [
                      136.87586281341063
                    ],
                    [
                      163.7533164392612
                    ],
                    [
                      153.3458813886499
                    ],
                    [
                      165.6226130260215
                    ],
                    [
                      140.210283751956
                    ],
                    [
                      165.6731345553934
                    ],
                    [
                      171.38206737441806
                    ],
                    [
                      168.95703396456685
                    ],
                    [
                      164.35957479172401
                    ],
                    [
                      147.48538398150953
                    ],
                    [
                      159.45898644264975
                    ],
                    [
                      169.26016314079826
                    ],
                    [
                      160.36837397134394
                    ],
                    [
                      147.63694856962525
                    ],
                    [
                      140.6144559869312
                    ],
                    [
                      145.36347974788976
                    ],
                    [
                      136.26960446094785
                    ],
                    [
                      143.0394893967824
                    ],
                    [
                      163.9554025567488
                    ],
                    [
                      149.40520209764173
                    ],
                    [
                      169.00755549393875
                    ],
                    [
                      160.21680938322822
                    ],
                    [
                      139.75558998760891
                    ],
                    [
                      142.28166645620388
                    ],
                    [
                      139.14933163514613
                    ],
                    [
                      168.55286172959165
                    ],
                    [
                      166.5320005547157
                    ],
                    [
                      146.82860409967486
                    ],
                    [
                      151.37554174314582
                    ],
                    [
                      156.17508703347627
                    ],
                    [
                      149.91041739136074
                    ],
                    [
                      148.54633609831944
                    ],
                    [
                      138.39150869456762
                    ],
                    [
                      164.1069671448645
                    ],
                    [
                      168.80546937645116
                    ],
                    [
                      170.92737361007096
                    ],
                    [
                      165.52156996727769
                    ],
                    [
                      139.9071545757246
                    ],
                    [
                      171.28102431567424
                    ],
                    [
                      146.72756104093105
                    ],
                    [
                      151.17345562565822
                    ],
                    [
                      136.01699681408834
                    ],
                    [
                      162.99549349868272
                    ],
                    [
                      171.68519655064944
                    ],
                    [
                      153.7500536236251
                    ],
                    [
                      162.79340738119512
                    ],
                    [
                      159.25690032516215
                    ],
                    [
                      136.82534128403873
                    ],
                    [
                      161.42932608815383
                    ],
                    [
                      138.0883795183362
                    ],
                    [
                      158.54959891395555
                    ],
                    [
                      147.18225480527815
                    ],
                    [
                      153.800575152997
                    ],
                    [
                      139.35141775263372
                    ],
                    [
                      147.33381939339384
                    ],
                    [
                      149.00102986266654
                    ],
                    [
                      167.69399573026936
                    ],
                    [
                      145.71713045349307
                    ],
                    [
                      161.27776150003814
                    ],
                    [
                      171.58415349190562
                    ],
                    [
                      152.9417091536747
                    ],
                    [
                      135.91595375534453
                    ],
                    [
                      163.04601502805463
                    ],
                    [
                      155.66987173975727
                    ],
                    [
                      161.37880455878192
                    ],
                    [
                      140.4123698694436
                    ],
                    [
                      146.57599645281536
                    ],
                    [
                      173.20084243180642
                    ],
                    [
                      138.13890104770812
                    ],
                    [
                      154.86152726980688
                    ],
                    [
                      160.97463232380673
                    ],
                    [
                      163.1470580867984
                    ],
                    [
                      156.93290997405475
                    ],
                    [
                      160.92411079443482
                    ],
                    [
                      169.91694302263295
                    ],
                    [
                      146.02025962972445
                    ],
                    [
                      174.16075148987252
                    ],
                    [
                      149.55676668575742
                    ],
                    [
                      154.0531827998565
                    ],
                    [
                      161.63141220564142
                    ],
                    [
                      166.83512973094707
                    ],
                    [
                      173.65553619615352
                    ],
                    [
                      157.79177597337707
                    ],
                    [
                      161.9850629112447
                    ],
                    [
                      147.83903468711284
                    ],
                    [
                      141.0691497512783
                    ],
                    [
                      153.0932737417904
                    ],
                    [
                      149.65780974450124
                    ],
                    [
                      138.7451594001709
                    ],
                    [
                      154.50787656420357
                    ],
                    [
                      142.6353171618072
                    ],
                    [
                      167.23930196592227
                    ],
                    [
                      138.23994410645193
                    ],
                    [
                      137.78525034210483
                    ],
                    [
                      159.86315867762494
                    ],
                    [
                      172.74614866745932
                    ],
                    [
                      151.7291924487491
                    ],
                    [
                      164.8142685560711
                    ],
                    [
                      139.55350387012132
                    ],
                    [
                      166.0267852609967
                    ]
                  ],
                  "type": "scatter"
                }
              ],
              "layout": {
                "title": {
                  "text": "Actual vs Predicted Values"
                },
                "xaxis": {
                  "title": {
                    "text": "Day"
                  }
                },
                "yaxis": {
                  "title": {
                    "text": "Price"
                  }
                },
                "template": {
                  "data": {
                    "histogram2dcontour": [
                      {
                        "type": "histogram2dcontour",
                        "colorbar": {
                          "outlinewidth": 0,
                          "ticks": ""
                        },
                        "colorscale": [
                          [
                            0,
                            "#0d0887"
                          ],
                          [
                            0.1111111111111111,
                            "#46039f"
                          ],
                          [
                            0.2222222222222222,
                            "#7201a8"
                          ],
                          [
                            0.3333333333333333,
                            "#9c179e"
                          ],
                          [
                            0.4444444444444444,
                            "#bd3786"
                          ],
                          [
                            0.5555555555555556,
                            "#d8576b"
                          ],
                          [
                            0.6666666666666666,
                            "#ed7953"
                          ],
                          [
                            0.7777777777777778,
                            "#fb9f3a"
                          ],
                          [
                            0.8888888888888888,
                            "#fdca26"
                          ],
                          [
                            1,
                            "#f0f921"
                          ]
                        ]
                      }
                    ],
                    "choropleth": [
                      {
                        "type": "choropleth",
                        "colorbar": {
                          "outlinewidth": 0,
                          "ticks": ""
                        }
                      }
                    ],
                    "histogram2d": [
                      {
                        "type": "histogram2d",
                        "colorbar": {
                          "outlinewidth": 0,
                          "ticks": ""
                        },
                        "colorscale": [
                          [
                            0,
                            "#0d0887"
                          ],
                          [
                            0.1111111111111111,
                            "#46039f"
                          ],
                          [
                            0.2222222222222222,
                            "#7201a8"
                          ],
                          [
                            0.3333333333333333,
                            "#9c179e"
                          ],
                          [
                            0.4444444444444444,
                            "#bd3786"
                          ],
                          [
                            0.5555555555555556,
                            "#d8576b"
                          ],
                          [
                            0.6666666666666666,
                            "#ed7953"
                          ],
                          [
                            0.7777777777777778,
                            "#fb9f3a"
                          ],
                          [
                            0.8888888888888888,
                            "#fdca26"
                          ],
                          [
                            1,
                            "#f0f921"
                          ]
                        ]
                      }
                    ],
                    "heatmap": [
                      {
                        "type": "heatmap",
                        "colorbar": {
                          "outlinewidth": 0,
                          "ticks": ""
                        },
                        "colorscale": [
                          [
                            0,
                            "#0d0887"
                          ],
                          [
                            0.1111111111111111,
                            "#46039f"
                          ],
                          [
                            0.2222222222222222,
                            "#7201a8"
                          ],
                          [
                            0.3333333333333333,
                            "#9c179e"
                          ],
                          [
                            0.4444444444444444,
                            "#bd3786"
                          ],
                          [
                            0.5555555555555556,
                            "#d8576b"
                          ],
                          [
                            0.6666666666666666,
                            "#ed7953"
                          ],
                          [
                            0.7777777777777778,
                            "#fb9f3a"
                          ],
                          [
                            0.8888888888888888,
                            "#fdca26"
                          ],
                          [
                            1,
                            "#f0f921"
                          ]
                        ]
                      }
                    ],
                    "heatmapgl": [
                      {
                        "type": "heatmapgl",
                        "colorbar": {
                          "outlinewidth": 0,
                          "ticks": ""
                        },
                        "colorscale": [
                          [
                            0,
                            "#0d0887"
                          ],
                          [
                            0.1111111111111111,
                            "#46039f"
                          ],
                          [
                            0.2222222222222222,
                            "#7201a8"
                          ],
                          [
                            0.3333333333333333,
                            "#9c179e"
                          ],
                          [
                            0.4444444444444444,
                            "#bd3786"
                          ],
                          [
                            0.5555555555555556,
                            "#d8576b"
                          ],
                          [
                            0.6666666666666666,
                            "#ed7953"
                          ],
                          [
                            0.7777777777777778,
                            "#fb9f3a"
                          ],
                          [
                            0.8888888888888888,
                            "#fdca26"
                          ],
                          [
                            1,
                            "#f0f921"
                          ]
                        ]
                      }
                    ],
                    "contourcarpet": [
                      {
                        "type": "contourcarpet",
                        "colorbar": {
                          "outlinewidth": 0,
                          "ticks": ""
                        }
                      }
                    ],
                    "contour": [
                      {
                        "type": "contour",
                        "colorbar": {
                          "outlinewidth": 0,
                          "ticks": ""
                        },
                        "colorscale": [
                          [
                            0,
                            "#0d0887"
                          ],
                          [
                            0.1111111111111111,
                            "#46039f"
                          ],
                          [
                            0.2222222222222222,
                            "#7201a8"
                          ],
                          [
                            0.3333333333333333,
                            "#9c179e"
                          ],
                          [
                            0.4444444444444444,
                            "#bd3786"
                          ],
                          [
                            0.5555555555555556,
                            "#d8576b"
                          ],
                          [
                            0.6666666666666666,
                            "#ed7953"
                          ],
                          [
                            0.7777777777777778,
                            "#fb9f3a"
                          ],
                          [
                            0.8888888888888888,
                            "#fdca26"
                          ],
                          [
                            1,
                            "#f0f921"
                          ]
                        ]
                      }
                    ],
                    "surface": [
                      {
                        "type": "surface",
                        "colorbar": {
                          "outlinewidth": 0,
                          "ticks": ""
                        },
                        "colorscale": [
                          [
                            0,
                            "#0d0887"
                          ],
                          [
                            0.1111111111111111,
                            "#46039f"
                          ],
                          [
                            0.2222222222222222,
                            "#7201a8"
                          ],
                          [
                            0.3333333333333333,
                            "#9c179e"
                          ],
                          [
                            0.4444444444444444,
                            "#bd3786"
                          ],
                          [
                            0.5555555555555556,
                            "#d8576b"
                          ],
                          [
                            0.6666666666666666,
                            "#ed7953"
                          ],
                          [
                            0.7777777777777778,
                            "#fb9f3a"
                          ],
                          [
                            0.8888888888888888,
                            "#fdca26"
                          ],
                          [
                            1,
                            "#f0f921"
                          ]
                        ]
                      }
                    ],
                    "mesh3d": [
                      {
                        "type": "mesh3d",
                        "colorbar": {
                          "outlinewidth": 0,
                          "ticks": ""
                        }
                      }
                    ],
                    "scatter": [
                      {
                        "fillpattern": {
                          "fillmode": "overlay",
                          "size": 10,
                          "solidity": 0.2
                        },
                        "type": "scatter"
                      }
                    ],
                    "parcoords": [
                      {
                        "type": "parcoords",
                        "line": {
                          "colorbar": {
                            "outlinewidth": 0,
                            "ticks": ""
                          }
                        }
                      }
                    ],
                    "scatterpolargl": [
                      {
                        "type": "scatterpolargl",
                        "marker": {
                          "colorbar": {
                            "outlinewidth": 0,
                            "ticks": ""
                          }
                        }
                      }
                    ],
                    "bar": [
                      {
                        "error_x": {
                          "color": "#2a3f5f"
                        },
                        "error_y": {
                          "color": "#2a3f5f"
                        },
                        "marker": {
                          "line": {
                            "color": "#E5ECF6",
                            "width": 0.5
                          },
                          "pattern": {
                            "fillmode": "overlay",
                            "size": 10,
                            "solidity": 0.2
                          }
                        },
                        "type": "bar"
                      }
                    ],
                    "scattergeo": [
                      {
                        "type": "scattergeo",
                        "marker": {
                          "colorbar": {
                            "outlinewidth": 0,
                            "ticks": ""
                          }
                        }
                      }
                    ],
                    "scatterpolar": [
                      {
                        "type": "scatterpolar",
                        "marker": {
                          "colorbar": {
                            "outlinewidth": 0,
                            "ticks": ""
                          }
                        }
                      }
                    ],
                    "histogram": [
                      {
                        "marker": {
                          "pattern": {
                            "fillmode": "overlay",
                            "size": 10,
                            "solidity": 0.2
                          }
                        },
                        "type": "histogram"
                      }
                    ],
                    "scattergl": [
                      {
                        "type": "scattergl",
                        "marker": {
                          "colorbar": {
                            "outlinewidth": 0,
                            "ticks": ""
                          }
                        }
                      }
                    ],
                    "scatter3d": [
                      {
                        "type": "scatter3d",
                        "line": {
                          "colorbar": {
                            "outlinewidth": 0,
                            "ticks": ""
                          }
                        },
                        "marker": {
                          "colorbar": {
                            "outlinewidth": 0,
                            "ticks": ""
                          }
                        }
                      }
                    ],
                    "scattermapbox": [
                      {
                        "type": "scattermapbox",
                        "marker": {
                          "colorbar": {
                            "outlinewidth": 0,
                            "ticks": ""
                          }
                        }
                      }
                    ],
                    "scatterternary": [
                      {
                        "type": "scatterternary",
                        "marker": {
                          "colorbar": {
                            "outlinewidth": 0,
                            "ticks": ""
                          }
                        }
                      }
                    ],
                    "scattercarpet": [
                      {
                        "type": "scattercarpet",
                        "marker": {
                          "colorbar": {
                            "outlinewidth": 0,
                            "ticks": ""
                          }
                        }
                      }
                    ],
                    "carpet": [
                      {
                        "aaxis": {
                          "endlinecolor": "#2a3f5f",
                          "gridcolor": "white",
                          "linecolor": "white",
                          "minorgridcolor": "white",
                          "startlinecolor": "#2a3f5f"
                        },
                        "baxis": {
                          "endlinecolor": "#2a3f5f",
                          "gridcolor": "white",
                          "linecolor": "white",
                          "minorgridcolor": "white",
                          "startlinecolor": "#2a3f5f"
                        },
                        "type": "carpet"
                      }
                    ],
                    "table": [
                      {
                        "cells": {
                          "fill": {
                            "color": "#EBF0F8"
                          },
                          "line": {
                            "color": "white"
                          }
                        },
                        "header": {
                          "fill": {
                            "color": "#C8D4E3"
                          },
                          "line": {
                            "color": "white"
                          }
                        },
                        "type": "table"
                      }
                    ],
                    "barpolar": [
                      {
                        "marker": {
                          "line": {
                            "color": "#E5ECF6",
                            "width": 0.5
                          },
                          "pattern": {
                            "fillmode": "overlay",
                            "size": 10,
                            "solidity": 0.2
                          }
                        },
                        "type": "barpolar"
                      }
                    ],
                    "pie": [
                      {
                        "automargin": true,
                        "type": "pie"
                      }
                    ]
                  },
                  "layout": {
                    "autotypenumbers": "strict",
                    "colorway": [
                      "#636efa",
                      "#EF553B",
                      "#00cc96",
                      "#ab63fa",
                      "#FFA15A",
                      "#19d3f3",
                      "#FF6692",
                      "#B6E880",
                      "#FF97FF",
                      "#FECB52"
                    ],
                    "font": {
                      "color": "#2a3f5f"
                    },
                    "hovermode": "closest",
                    "hoverlabel": {
                      "align": "left"
                    },
                    "paper_bgcolor": "white",
                    "plot_bgcolor": "#E5ECF6",
                    "polar": {
                      "bgcolor": "#E5ECF6",
                      "angularaxis": {
                        "gridcolor": "white",
                        "linecolor": "white",
                        "ticks": ""
                      },
                      "radialaxis": {
                        "gridcolor": "white",
                        "linecolor": "white",
                        "ticks": ""
                      }
                    },
                    "ternary": {
                      "bgcolor": "#E5ECF6",
                      "aaxis": {
                        "gridcolor": "white",
                        "linecolor": "white",
                        "ticks": ""
                      },
                      "baxis": {
                        "gridcolor": "white",
                        "linecolor": "white",
                        "ticks": ""
                      },
                      "caxis": {
                        "gridcolor": "white",
                        "linecolor": "white",
                        "ticks": ""
                      }
                    },
                    "coloraxis": {
                      "colorbar": {
                        "outlinewidth": 0,
                        "ticks": ""
                      }
                    },
                    "colorscale": {
                      "sequential": [
                        [
                          0,
                          "#0d0887"
                        ],
                        [
                          0.1111111111111111,
                          "#46039f"
                        ],
                        [
                          0.2222222222222222,
                          "#7201a8"
                        ],
                        [
                          0.3333333333333333,
                          "#9c179e"
                        ],
                        [
                          0.4444444444444444,
                          "#bd3786"
                        ],
                        [
                          0.5555555555555556,
                          "#d8576b"
                        ],
                        [
                          0.6666666666666666,
                          "#ed7953"
                        ],
                        [
                          0.7777777777777778,
                          "#fb9f3a"
                        ],
                        [
                          0.8888888888888888,
                          "#fdca26"
                        ],
                        [
                          1,
                          "#f0f921"
                        ]
                      ],
                      "sequentialminus": [
                        [
                          0,
                          "#0d0887"
                        ],
                        [
                          0.1111111111111111,
                          "#46039f"
                        ],
                        [
                          0.2222222222222222,
                          "#7201a8"
                        ],
                        [
                          0.3333333333333333,
                          "#9c179e"
                        ],
                        [
                          0.4444444444444444,
                          "#bd3786"
                        ],
                        [
                          0.5555555555555556,
                          "#d8576b"
                        ],
                        [
                          0.6666666666666666,
                          "#ed7953"
                        ],
                        [
                          0.7777777777777778,
                          "#fb9f3a"
                        ],
                        [
                          0.8888888888888888,
                          "#fdca26"
                        ],
                        [
                          1,
                          "#f0f921"
                        ]
                      ],
                      "diverging": [
                        [
                          0,
                          "#8e0152"
                        ],
                        [
                          0.1,
                          "#c51b7d"
                        ],
                        [
                          0.2,
                          "#de77ae"
                        ],
                        [
                          0.3,
                          "#f1b6da"
                        ],
                        [
                          0.4,
                          "#fde0ef"
                        ],
                        [
                          0.5,
                          "#f7f7f7"
                        ],
                        [
                          0.6,
                          "#e6f5d0"
                        ],
                        [
                          0.7,
                          "#b8e186"
                        ],
                        [
                          0.8,
                          "#7fbc41"
                        ],
                        [
                          0.9,
                          "#4d9221"
                        ],
                        [
                          1,
                          "#276419"
                        ]
                      ]
                    },
                    "xaxis": {
                      "gridcolor": "white",
                      "linecolor": "white",
                      "ticks": "",
                      "title": {
                        "standoff": 15
                      },
                      "zerolinecolor": "white",
                      "automargin": true,
                      "zerolinewidth": 2
                    },
                    "yaxis": {
                      "gridcolor": "white",
                      "linecolor": "white",
                      "ticks": "",
                      "title": {
                        "standoff": 15
                      },
                      "zerolinecolor": "white",
                      "automargin": true,
                      "zerolinewidth": 2
                    },
                    "scene": {
                      "xaxis": {
                        "backgroundcolor": "#E5ECF6",
                        "gridcolor": "white",
                        "linecolor": "white",
                        "showbackground": true,
                        "ticks": "",
                        "zerolinecolor": "white",
                        "gridwidth": 2
                      },
                      "yaxis": {
                        "backgroundcolor": "#E5ECF6",
                        "gridcolor": "white",
                        "linecolor": "white",
                        "showbackground": true,
                        "ticks": "",
                        "zerolinecolor": "white",
                        "gridwidth": 2
                      },
                      "zaxis": {
                        "backgroundcolor": "#E5ECF6",
                        "gridcolor": "white",
                        "linecolor": "white",
                        "showbackground": true,
                        "ticks": "",
                        "zerolinecolor": "white",
                        "gridwidth": 2
                      }
                    },
                    "shapedefaults": {
                      "line": {
                        "color": "#2a3f5f"
                      }
                    },
                    "annotationdefaults": {
                      "arrowcolor": "#2a3f5f",
                      "arrowhead": 0,
                      "arrowwidth": 1
                    },
                    "geo": {
                      "bgcolor": "white",
                      "landcolor": "#E5ECF6",
                      "subunitcolor": "white",
                      "showland": true,
                      "showlakes": true,
                      "lakecolor": "white"
                    },
                    "title": {
                      "x": 0.05
                    },
                    "mapbox": {
                      "style": "light"
                    }
                  }
                }
              },
              "config": {
                "plotlyServerURL": "https://plot.ly"
              }
            },
            "text/html": [
              "<div>                            <div id=\"2bbe4f83-e4d2-43df-ae03-17276120df91\" class=\"plotly-graph-div\" style=\"height:525px; width:100%;\"></div>            <script type=\"text/javascript\">                require([\"plotly\"], function(Plotly) {                    window.PLOTLYENV=window.PLOTLYENV || {};                                    if (document.getElementById(\"2bbe4f83-e4d2-43df-ae03-17276120df91\")) {                    Plotly.newPlot(                        \"2bbe4f83-e4d2-43df-ae03-17276120df91\",                        [{\"mode\":\"markers\",\"name\":\"Actual\",\"x\":[548,670,579,625,678,65,42,16,650,628,500,108,686,651,126,174,381,212,510,723,48,497,151,327,241,331,559,107,544,665,713,598,432,138,298,62,400,231,610,98,63,399,482,415,564,515,765,225,739,346,106,9,180,446,420,306,408,171,204,390,468,586,607,551,417,602,464,412,8,366,488,228,281,463,413,335,376,552,265,435,186,690,423,608,660,491,755,205,722,403,130,445,626,680,341,587,455,601,155,517,767,308,154,94,148,448,522,715,213,202,753,113,443,27,506,619,370,433,737,167,523,595,388,227,461,310,425,250,646,288,294,556,730,368,84,536,613,659,89,363,196,83,258,234,747,473,768,514,679,562,476,39,516,749,434,321,391,481,769,322,266,64,571,695,188,29,557,279,119,530,326,4,314,69,702,572,206,642,560,146,15,406,529,173,102,584,58,272,80,248,233,574,490,725,442,264,338,582,728,53,392,86,441,620,462,724,176,565,117,328,124,38,525,424,727,120,466,685,293,41,164,350,131,54,458,667,687,150,66,261,263,160,259,738,332,438,428,386,474,764,485,364,550,616,278,178,401,503,748,761,547,397,57,159,422,344,317,736,538,255,617,624,447,717,385,19,603,351,655,342,656,156,673,763,345,577,282,301,712,286,369,450,165,312,472,372,414,166,277,324,283,526,181,78,382,427,95,349,633,152,681,600,701,756,170,527,383,637,691,91,276,604,492,581,707,200,553,70,578,43,292,731,199,302,549,426,296,143,675,440,751,677,133,329,51,644,44,377,315,627,243,666,411,645,504,674,193,222,220,271,710,13,431,744,743,211,672,17,153,14,73,93,76,223,215,521,396,387,480,511,297,494,746,169,409,1,112,398,638,496,590,380,437,541,697,238,430,158,289,718,453,502,606,588,251,594,444,402,580,245,145,611,478,221,311,671,177,684,35,546,634,358,101,662,207,11,456,163,359,192,733,208,110,97,244,22,554,348,591,88,592,705,657,566,232,469,663,487,235,96,190,10,144,558,270,658,484,79,129,67,649,609,219,309,404,280,253,52,561,654,696,589,82,703,217,305,5,539,711,356,535,465,21,508,46,451,226,357,71,229,262,632,197,505,709,340,3,540,394,507,92,214,741,47,378,499,542,419,498,676,203,760,273,362,512,615,750,436,519,239,105,343,275,59,371,136,623,49,40,477,732,316,575,75,599],\"y\":[[191.77],[189.66],[182.27],[207.8],[182.39],[132.08],[162.23],[169.21],[199.6],[205.98],[158.5],[129.19],[168.2],[202.8],[137.67],[147.42],[155.38],[121.46],[162.34],[143.9],[147.9],[160.4],[118.96],[139.7],[149.84],[141.95],[190.09],[127.27],[191.44],[182.54],[164.0],[190.0],[146.59],[132.69],[123.82],[143.45],[175.82],[121.87],[204.97],[147.64],[138.94],[178.68],[166.95],[149.63],[172.8],[160.92],[122.97],[121.91],[130.14],[156.18],[122.71],[189.12],[142.43],[147.09],[153.84],[117.19],[166.52],[146.84],[114.04],[169.53],[150.39],[192.07],[200.98],[182.21],[155.67],[212.08],[131.75],[161.27],[191.45],[145.08],[169.65],[118.39],[134.32],[138.5],[152.43],[143.91],[147.08],[187.68],[140.57],[152.89],[127.61],[175.54],[158.32],[201.68],[192.42],[172.68],[130.63],[111.66],[145.38],[167.34],[127.73],[147.95],[210.59],[169.34],[148.89],[194.93],[130.03],[213.3],[144.61],[162.07],[125.5],[123.54],[127.88],[140.16],[118.84],[137.8],[188.67],[155.5],[122.3],[116.94],[129.0],[132.48],[149.35],[190.96],[155.87],[193.49],[144.08],[151.99],[127.5],[141.34],[190.06],[204.47],[160.29],[124.9],[140.43],[124.79],[161.95],[135.59],[195.88],[141.1],[138.03],[177.25],[138.85],[144.82],[130.57],[181.71],[193.99],[193.42],[141.2],[162.07],[125.88],[129.64],[135.44],[121.5],[128.45],[147.37],[131.78],[162.17],[174.87],[185.08],[148.85],[159.16],[164.16],[125.26],[152.37],[144.48],[172.14],[172.51],[130.85],[147.7],[135.53],[133.4],[176.85],[163.18],[118.93],[191.07],[176.68],[126.99],[142.06],[186.63],[142.48],[200.74],[151.21],[135.3],[168.28],[173.78],[116.0],[199.1],[187.26],[127.4],[172.46],[166.71],[187.38],[151.28],[129.9],[197.35],[145.35],[149.68],[125.29],[134.34],[120.12],[184.1],[173.26],[143.74],[151.72],[143.67],[156.71],[187.82],[139.67],[140.3],[174.14],[135.6],[148.5],[186.94],[138.46],[145.05],[144.74],[177.67],[140.47],[141.28],[128.48],[165.8],[191.28],[160.04],[143.6],[135.02],[140.08],[157.54],[139.25],[162.14],[143.18],[162.37],[130.15],[146.91],[138.25],[184.75],[172.98],[116.05],[133.81],[142.99],[141.88],[137.02],[134.09],[127.87],[143.64],[147.72],[162.07],[150.37],[143.7],[124.0],[166.99],[147.1],[186.67],[191.76],[133.31],[145.46],[177.3],[160.4],[125.28],[127.25],[195.19],[181.35],[147.94],[135.23],[159.55],[154.49],[145.45],[124.73],[182.56],[134.4],[191.95],[193.36],[142.36],[147.93],[151.98],[170.89],[214.92],[163.14],[206.01],[160.26],[200.62],[143.22],[187.38],[127.19],[155.52],[192.17],[135.32],[113.03],[163.85],[144.35],[142.45],[133.08],[144.09],[140.85],[144.51],[139.7],[152.61],[140.96],[135.15],[146.35],[140.25],[191.2],[133.59],[130.5],[154.1],[160.62],[147.05],[167.34],[201.22],[123.61],[172.99],[209.41],[170.58],[128.76],[140.02],[192.3],[152.05],[192.45],[176.49],[143.7],[139.2],[210.38],[173.67],[185.34],[155.89],[127.2],[185.17],[132.42],[183.03],[161.96],[139.2],[135.64],[124.27],[110.94],[190.45],[163.5],[134.1],[134.83],[187.45],[145.94],[131.19],[190.53],[128.76],[145.39],[138.46],[189.08],[160.55],[154.24],[151.35],[207.45],[153.41],[183.88],[160.39],[194.3],[156.72],[186.38],[118.61],[119.7],[125.11],[151.36],[162.28],[176.02],[152.35],[121.86],[127.96],[122.76],[185.24],[170.01],[125.1],[172.95],[122.84],[141.65],[125.73],[117.19],[123.16],[185.93],[180.05],[155.05],[159.75],[158.51],[133.97],[160.67],[130.15],[141.52],[160.02],[220.84],[134.01],[180.67],[186.01],[160.45],[202.2],[154.11],[147.25],[185.94],[167.5],[107.95],[154.46],[137.49],[139.45],[146.76],[124.79],[163.65],[201.09],[191.11],[134.21],[208.44],[152.52],[170.55],[185.42],[140.56],[130.63],[194.47],[155.12],[118.35],[129.1],[177.06],[144.68],[169.14],[185.79],[190.01],[199.29],[151.84],[138.51],[190.46],[125.93],[183.25],[131.63],[139.11],[148.97],[119.11],[130.19],[127.79],[130.38],[148.37],[143.73],[165.71],[182.79],[159.03],[206.35],[134.39],[208.02],[164.27],[198.81],[179.68],[124.72],[152.39],[188.52],[167.4],[106.34],[148.67],[120.8],[191.75],[133.66],[179.64],[147.25],[197.76],[165.46],[131.09],[126.56],[129.43],[206.81],[205.18],[125.79],[115.67],[169.53],[132.28],[134.45],[142.03],[186.64],[205.48],[165.05],[195.46],[125.45],[166.21],[124.96],[124.27],[202.13],[186.37],[164.84],[154.81],[188.53],[138.25],[167.15],[159.11],[152.89],[121.04],[132.06],[154.76],[128.89],[116.98],[143.24],[197.77],[124.69],[153.31],[161.83],[153.43],[214.79],[184.36],[175.65],[157.14],[140.89],[125.07],[128.38],[149.02],[152.94],[154.28],[187.06],[154.98],[162.88],[181.63],[116.85],[127.94],[142.74],[153.68],[155.38],[193.42],[125.42],[152.84],[162.08],[127.73],[118.81],[159.31],[137.9],[141.41],[143.74],[124.18],[193.27],[142.52],[163.55],[155.75],[134.11],[148.33],[186.92],[126.41],[211.38]],\"type\":\"scatter\"},{\"mode\":\"lines\",\"name\":\"Predicted\",\"x\":[548,670,579,625,678,65,42,16,650,628,500,108,686,651,126,174,381,212,510,723,48,497,151,327,241,331,559,107,544,665,713,598,432,138,298,62,400,231,610,98,63,399,482,415,564,515,765,225,739,346,106,9,180,446,420,306,408,171,204,390,468,586,607,551,417,602,464,412,8,366,488,228,281,463,413,335,376,552,265,435,186,690,423,608,660,491,755,205,722,403,130,445,626,680,341,587,455,601,155,517,767,308,154,94,148,448,522,715,213,202,753,113,443,27,506,619,370,433,737,167,523,595,388,227,461,310,425,250,646,288,294,556,730,368,84,536,613,659,89,363,196,83,258,234,747,473,768,514,679,562,476,39,516,749,434,321,391,481,769,322,266,64,571,695,188,29,557,279,119,530,326,4,314,69,702,572,206,642,560,146,15,406,529,173,102,584,58,272,80,248,233,574,490,725,442,264,338,582,728,53,392,86,441,620,462,724,176,565,117,328,124,38,525,424,727,120,466,685,293,41,164,350,131,54,458,667,687,150,66,261,263,160,259,738,332,438,428,386,474,764,485,364,550,616,278,178,401,503,748,761,547,397,57,159,422,344,317,736,538,255,617,624,447,717,385,19,603,351,655,342,656,156,673,763,345,577,282,301,712,286,369,450,165,312,472,372,414,166,277,324,283,526,181,78,382,427,95,349,633,152,681,600,701,756,170,527,383,637,691,91,276,604,492,581,707,200,553,70,578,43,292,731,199,302,549,426,296,143,675,440,751,677,133,329,51,644,44,377,315,627,243,666,411,645,504,674,193,222,220,271,710,13,431,744,743,211,672,17,153,14,73,93,76,223,215,521,396,387,480,511,297,494,746,169,409,1,112,398,638,496,590,380,437,541,697,238,430,158,289,718,453,502,606,588,251,594,444,402,580,245,145,611,478,221,311,671,177,684,35,546,634,358,101,662,207,11,456,163,359,192,733,208,110,97,244,22,554,348,591,88,592,705,657,566,232,469,663,487,235,96,190,10,144,558,270,658,484,79,129,67,649,609,219,309,404,280,253,52,561,654,696,589,82,703,217,305,5,539,711,356,535,465,21,508,46,451,226,357,71,229,262,632,197,505,709,340,3,540,394,507,92,214,741,47,378,499,542,419,498,676,203,760,273,362,512,615,750,436,519,239,105,343,275,59,371,136,623,49,40,477,732,316,575,75,599],\"y\":[[163.45018726302982],[169.61381384640157],[165.01635467355868],[167.34034502466608],[170.01798608137676],[139.0482885764023],[137.88629340084861],[136.57273363717923],[168.60338325896356],[167.49190961278177],[161.02515385317864],[141.220714339394],[170.42215831635195],[168.65390478833547],[142.1301018680882],[144.55513527793937],[155.01309185792257],[146.47495339407155],[161.5303691468976],[172.29145490311222],[138.18942257708002],[160.87358926506295],[143.39314010238567],[152.28492927184],[147.94007774585663],[152.4870153893276],[164.0059240861207],[141.1701928100221],[163.24810114554222],[169.36120619954207],[171.78623960939325],[165.97626373162478],[157.58968985588945],[142.73636022055098],[150.8198049200549],[138.89672398828662],[155.97300091598868],[147.43486245213765],[166.58252208408757],[140.715499045675],[138.9472455176585],[155.92247938661677],[160.11576632448444],[156.73082385656716],[164.2585317329802],[161.78297679375711],[174.41335913673203],[147.13173327590624],[173.09979937306264],[153.2448383299061],[141.1196712806502],[136.21908293157594],[144.85826445417075],[158.29699126709605],[156.98343150342666],[151.22397715503013],[156.37717315096387],[144.40357068982368],[146.07078115909636],[155.46778562226967],[159.40846491327784],[165.370005379162],[166.43095749597188],[163.6017518511455],[156.83186691531097],[166.17834984911238],[159.20637879579024],[156.57925926845147],[136.16856140220403],[154.2552689173441],[160.41889550071585],[147.28329786402193],[149.96093892073262],[159.15585726641834],[156.62978079782337],[152.6891015068152],[154.76048421106307],[163.6522733805174],[149.15259445078223],[157.74125444400516],[145.16139363040216],[170.62424443383955],[157.13499609154235],[166.4814790253438],[169.10859855268257],[160.57046008883154],[173.90814384301302],[146.12130268846826],[172.24093337374035],[156.12456550410437],[142.33218798557579],[158.24646973772417],[167.39086655403798],[170.11902914012055],[152.99223068304659],[165.4205269085339],[158.75168503144315],[166.1278283197405],[143.59522621987327],[161.88401985250093],[174.5144021954758],[151.3250202137739],[143.54470469050136],[140.5134129281874],[143.24157551426998],[158.39803432583986],[162.13662749936043],[171.88728266813703],[146.52547492344345],[145.96973810035254],[173.8071007842692],[141.4733219862535],[158.14542667898036],[137.12847046027014],[161.32828302941002],[167.03721584843467],[154.4573550348317],[157.64021138526135],[172.99875631431883],[144.20148457233608],[162.18714902873234],[165.8246991435091],[155.3667425635259],[147.23277633465005],[159.05481420767455],[151.42606327251772],[157.23603915028616],[148.39477151020373],[168.40129714147596],[150.31458962633593],[150.6177188025673],[163.854359498005],[172.64510560871554],[154.35631197608788],[140.00819763446842],[162.843928910567],[166.7340866722033],[169.05807702331066],[140.26080528132792],[154.10370432922838],[145.66660892412116],[139.9576761050965],[148.79894374517895],[147.58642704025334],[173.50397160803783],[159.66107256013734],[174.56492372484772],[161.73245526438524],[170.06850761074867],[164.1574886742364],[159.81263714825303],[137.73472881273293],[161.83349832312902],[173.60501466678164],[157.69073291463326],[151.9818000956086],[155.51830715164158],[160.06524479511253],[174.61544525421962],[152.0323216249805],[149.20311598015414],[138.9977670470304],[164.6121824385835],[170.87685208069905],[145.26243668914597],[137.22951351901392],[163.90488102737692],[149.85989586198883],[141.7764511624849],[162.54079973433562],[152.2344077424681],[135.96647528471644],[151.62814939000532],[139.2503746938899],[171.23050278630234],[164.6627039679554],[146.17182421784014],[168.19921102398837],[164.0564456154926],[143.14053245552617],[136.52221210780735],[156.27613009222006],[162.49027820496372],[144.50461374856746],[140.91758516316258],[165.26896232041818],[138.69463787079903],[149.50624515638552],[139.80611151698082],[148.29372845145994],[147.53590551088143],[164.7637470266992],[160.51993855945963],[172.39249796185604],[158.09490514960845],[149.10207292141033],[152.8406660949309],[165.1679192616744],[172.54406254997173],[138.44203022393953],[155.56882868101349],[140.1092406932122],[158.04438362023654],[167.08773737780658],[159.10533573704646],[172.34197643248413],[144.65617833668315],[164.3090532623521],[141.6754081037411],[152.3354508012119],[142.02905880934438],[137.68420728336102],[162.28819208747612],[157.18551762091425],[172.49354102059982],[141.82697269185678],[159.30742185453406],[170.37163678698005],[150.5671972731954],[137.83577187147674],[144.04991998422037],[153.44692444739368],[142.3827095149477],[138.49255175331143],[158.90324961955884],[169.46224925828585],[170.47267984572386],[143.34261857301377],[139.09881010577422],[148.95050833329464],[149.05155139203842],[143.84783386673277],[148.84946527455082],[173.04927784369073],[152.53753691869952],[157.89281903212085],[157.38760373840185],[155.26569950478208],[159.71159408950925],[174.36283760736012],[160.26733091260013],[154.15422585860028],[163.5512303217736],[166.88565126031898],[149.80937433261693],[144.75722139542697],[156.02352244536058],[161.17671844129433],[173.55449313740974],[174.2112730192444],[163.3996657336579],[155.82143632787296],[138.64411634142712],[143.79731233736086],[157.08447456217047],[153.1437952711623],[151.779713978121],[172.94823478494692],[162.9449719693108],[148.64737915706323],[166.9361727896909],[167.28982349529417],[158.34751279646795],[171.98832572688084],[155.21517797541017],[136.72429822529494],[166.22887137848429],[153.4974459767656],[168.85599090582306],[153.0427522124185],[168.90651243519497],[143.64574774924517],[169.76537843451726],[174.3123160779882],[153.19431680053418],[164.9153116148149],[150.01146045010452],[150.97136950817062],[171.73571808002134],[150.21354656759212],[154.4068335054598],[158.49907738458364],[144.10044151359227],[151.5271063312615],[159.61055103076544],[154.55839809357548],[156.68030232719528],[144.15096304296418],[149.75885280324502],[152.1333646837243],[150.06198197947643],[162.33871361684803],[144.90878598354266],[139.705068458237],[155.06361338729448],[157.33708220902997],[140.5639344575593],[153.3964029180218],[167.74451725964127],[143.44366163175758],[170.16955066949245],[166.0773067903686],[171.17998125693043],[173.95866537238493],[144.35304916045177],[162.3892351462199],[155.1141349166664],[167.94660337712887],[170.67476596321146],[140.3618483400717],[149.7083312738731],[166.2793929078562],[160.62098161820344],[165.1173977323025],[171.48311043316184],[145.86869504160876],[163.7027949098893],[139.30089622326182],[164.9658331441868],[137.93681493022052],[150.51667574382353],[172.69562713808745],[145.81817351223685],[151.0218910375425],[163.50070879240172],[157.28656067965807],[150.71876186131112],[142.98896786741048],[169.86642149326104],[157.99386209086467],[173.70605772552543],[169.96746455200486],[142.48375257369148],[152.3859723305838],[138.3409871651957],[168.30025408273218],[137.98733645959243],[154.81100574043498],[151.6786709193772],[167.4413880834099],[148.04112080460044],[169.41172772891395],[156.52873773907956],[168.35077561210406],[161.22723997066623],[169.81589996388917],[145.51504433600547],[146.98016868779055],[146.87912562904674],[149.45572362701364],[171.63467502127753],[136.42116904906354],[157.53916832651757],[173.3524070199221],[173.30188549055023],[146.42443186469964],[169.71485690514535],[136.62325516655113],[143.49418316112948],[136.47169057843544],[139.4524608113775],[140.46289139881551],[139.6040253994932],[147.03069021716246],[146.62651798218724],[162.08610596998852],[155.77091479850108],[155.31622103415398],[160.01472326574063],[161.58089067626952],[150.76928339068303],[160.72202467694723],[173.45345007866592],[144.30252763107987],[156.42769468033578],[135.81491069660075],[141.4228004568816],[155.87195785724487],[167.99712490650077],[160.82306773569104],[165.5720914966496],[154.96257032855067],[157.84229750274895],[163.0965365574265],[170.97789513944284],[147.78851315774094],[157.48864679714566],[143.746790807989],[150.3651111557078],[172.03884725625272],[158.65064197269936],[161.12619691192242],[166.38043596659998],[165.47104843790578],[148.44529303957563],[165.7741776141372],[158.19594820835226],[156.07404397473246],[165.0668762029306],[148.14216386334425],[143.0900109261543],[166.63304361345948],[159.91368020699684],[146.92964715841865],[151.4765848018896],[169.66433537577345],[144.70669986605506],[170.32111525760814],[137.53264269524533],[163.349144204286],[167.79503878901318],[153.8510966823689],[140.8670636337907],[169.20964161142638],[146.22234574721205],[136.32012599031972],[158.80220656081505],[143.99939845484846],[153.90161821174078],[145.46452280663357],[172.79667019683123],[146.27286727658395],[141.3217573981378],[140.6649775163031],[148.09164233397235],[136.87586281341063],[163.7533164392612],[153.3458813886499],[165.6226130260215],[140.210283751956],[165.6731345553934],[171.38206737441806],[168.95703396456685],[164.35957479172401],[147.48538398150953],[159.45898644264975],[169.26016314079826],[160.36837397134394],[147.63694856962525],[140.6144559869312],[145.36347974788976],[136.26960446094785],[143.0394893967824],[163.9554025567488],[149.40520209764173],[169.00755549393875],[160.21680938322822],[139.75558998760891],[142.28166645620388],[139.14933163514613],[168.55286172959165],[166.5320005547157],[146.82860409967486],[151.37554174314582],[156.17508703347627],[149.91041739136074],[148.54633609831944],[138.39150869456762],[164.1069671448645],[168.80546937645116],[170.92737361007096],[165.52156996727769],[139.9071545757246],[171.28102431567424],[146.72756104093105],[151.17345562565822],[136.01699681408834],[162.99549349868272],[171.68519655064944],[153.7500536236251],[162.79340738119512],[159.25690032516215],[136.82534128403873],[161.42932608815383],[138.0883795183362],[158.54959891395555],[147.18225480527815],[153.800575152997],[139.35141775263372],[147.33381939339384],[149.00102986266654],[167.69399573026936],[145.71713045349307],[161.27776150003814],[171.58415349190562],[152.9417091536747],[135.91595375534453],[163.04601502805463],[155.66987173975727],[161.37880455878192],[140.4123698694436],[146.57599645281536],[173.20084243180642],[138.13890104770812],[154.86152726980688],[160.97463232380673],[163.1470580867984],[156.93290997405475],[160.92411079443482],[169.91694302263295],[146.02025962972445],[174.16075148987252],[149.55676668575742],[154.0531827998565],[161.63141220564142],[166.83512973094707],[173.65553619615352],[157.79177597337707],[161.9850629112447],[147.83903468711284],[141.0691497512783],[153.0932737417904],[149.65780974450124],[138.7451594001709],[154.50787656420357],[142.6353171618072],[167.23930196592227],[138.23994410645193],[137.78525034210483],[159.86315867762494],[172.74614866745932],[151.7291924487491],[164.8142685560711],[139.55350387012132],[166.0267852609967]],\"type\":\"scatter\"}],                        {\"title\":{\"text\":\"Actual vs Predicted Values\"},\"xaxis\":{\"title\":{\"text\":\"Day\"}},\"yaxis\":{\"title\":{\"text\":\"Price\"}},\"template\":{\"data\":{\"histogram2dcontour\":[{\"type\":\"histogram2dcontour\",\"colorbar\":{\"outlinewidth\":0,\"ticks\":\"\"},\"colorscale\":[[0.0,\"#0d0887\"],[0.1111111111111111,\"#46039f\"],[0.2222222222222222,\"#7201a8\"],[0.3333333333333333,\"#9c179e\"],[0.4444444444444444,\"#bd3786\"],[0.5555555555555556,\"#d8576b\"],[0.6666666666666666,\"#ed7953\"],[0.7777777777777778,\"#fb9f3a\"],[0.8888888888888888,\"#fdca26\"],[1.0,\"#f0f921\"]]}],\"choropleth\":[{\"type\":\"choropleth\",\"colorbar\":{\"outlinewidth\":0,\"ticks\":\"\"}}],\"histogram2d\":[{\"type\":\"histogram2d\",\"colorbar\":{\"outlinewidth\":0,\"ticks\":\"\"},\"colorscale\":[[0.0,\"#0d0887\"],[0.1111111111111111,\"#46039f\"],[0.2222222222222222,\"#7201a8\"],[0.3333333333333333,\"#9c179e\"],[0.4444444444444444,\"#bd3786\"],[0.5555555555555556,\"#d8576b\"],[0.6666666666666666,\"#ed7953\"],[0.7777777777777778,\"#fb9f3a\"],[0.8888888888888888,\"#fdca26\"],[1.0,\"#f0f921\"]]}],\"heatmap\":[{\"type\":\"heatmap\",\"colorbar\":{\"outlinewidth\":0,\"ticks\":\"\"},\"colorscale\":[[0.0,\"#0d0887\"],[0.1111111111111111,\"#46039f\"],[0.2222222222222222,\"#7201a8\"],[0.3333333333333333,\"#9c179e\"],[0.4444444444444444,\"#bd3786\"],[0.5555555555555556,\"#d8576b\"],[0.6666666666666666,\"#ed7953\"],[0.7777777777777778,\"#fb9f3a\"],[0.8888888888888888,\"#fdca26\"],[1.0,\"#f0f921\"]]}],\"heatmapgl\":[{\"type\":\"heatmapgl\",\"colorbar\":{\"outlinewidth\":0,\"ticks\":\"\"},\"colorscale\":[[0.0,\"#0d0887\"],[0.1111111111111111,\"#46039f\"],[0.2222222222222222,\"#7201a8\"],[0.3333333333333333,\"#9c179e\"],[0.4444444444444444,\"#bd3786\"],[0.5555555555555556,\"#d8576b\"],[0.6666666666666666,\"#ed7953\"],[0.7777777777777778,\"#fb9f3a\"],[0.8888888888888888,\"#fdca26\"],[1.0,\"#f0f921\"]]}],\"contourcarpet\":[{\"type\":\"contourcarpet\",\"colorbar\":{\"outlinewidth\":0,\"ticks\":\"\"}}],\"contour\":[{\"type\":\"contour\",\"colorbar\":{\"outlinewidth\":0,\"ticks\":\"\"},\"colorscale\":[[0.0,\"#0d0887\"],[0.1111111111111111,\"#46039f\"],[0.2222222222222222,\"#7201a8\"],[0.3333333333333333,\"#9c179e\"],[0.4444444444444444,\"#bd3786\"],[0.5555555555555556,\"#d8576b\"],[0.6666666666666666,\"#ed7953\"],[0.7777777777777778,\"#fb9f3a\"],[0.8888888888888888,\"#fdca26\"],[1.0,\"#f0f921\"]]}],\"surface\":[{\"type\":\"surface\",\"colorbar\":{\"outlinewidth\":0,\"ticks\":\"\"},\"colorscale\":[[0.0,\"#0d0887\"],[0.1111111111111111,\"#46039f\"],[0.2222222222222222,\"#7201a8\"],[0.3333333333333333,\"#9c179e\"],[0.4444444444444444,\"#bd3786\"],[0.5555555555555556,\"#d8576b\"],[0.6666666666666666,\"#ed7953\"],[0.7777777777777778,\"#fb9f3a\"],[0.8888888888888888,\"#fdca26\"],[1.0,\"#f0f921\"]]}],\"mesh3d\":[{\"type\":\"mesh3d\",\"colorbar\":{\"outlinewidth\":0,\"ticks\":\"\"}}],\"scatter\":[{\"fillpattern\":{\"fillmode\":\"overlay\",\"size\":10,\"solidity\":0.2},\"type\":\"scatter\"}],\"parcoords\":[{\"type\":\"parcoords\",\"line\":{\"colorbar\":{\"outlinewidth\":0,\"ticks\":\"\"}}}],\"scatterpolargl\":[{\"type\":\"scatterpolargl\",\"marker\":{\"colorbar\":{\"outlinewidth\":0,\"ticks\":\"\"}}}],\"bar\":[{\"error_x\":{\"color\":\"#2a3f5f\"},\"error_y\":{\"color\":\"#2a3f5f\"},\"marker\":{\"line\":{\"color\":\"#E5ECF6\",\"width\":0.5},\"pattern\":{\"fillmode\":\"overlay\",\"size\":10,\"solidity\":0.2}},\"type\":\"bar\"}],\"scattergeo\":[{\"type\":\"scattergeo\",\"marker\":{\"colorbar\":{\"outlinewidth\":0,\"ticks\":\"\"}}}],\"scatterpolar\":[{\"type\":\"scatterpolar\",\"marker\":{\"colorbar\":{\"outlinewidth\":0,\"ticks\":\"\"}}}],\"histogram\":[{\"marker\":{\"pattern\":{\"fillmode\":\"overlay\",\"size\":10,\"solidity\":0.2}},\"type\":\"histogram\"}],\"scattergl\":[{\"type\":\"scattergl\",\"marker\":{\"colorbar\":{\"outlinewidth\":0,\"ticks\":\"\"}}}],\"scatter3d\":[{\"type\":\"scatter3d\",\"line\":{\"colorbar\":{\"outlinewidth\":0,\"ticks\":\"\"}},\"marker\":{\"colorbar\":{\"outlinewidth\":0,\"ticks\":\"\"}}}],\"scattermapbox\":[{\"type\":\"scattermapbox\",\"marker\":{\"colorbar\":{\"outlinewidth\":0,\"ticks\":\"\"}}}],\"scatterternary\":[{\"type\":\"scatterternary\",\"marker\":{\"colorbar\":{\"outlinewidth\":0,\"ticks\":\"\"}}}],\"scattercarpet\":[{\"type\":\"scattercarpet\",\"marker\":{\"colorbar\":{\"outlinewidth\":0,\"ticks\":\"\"}}}],\"carpet\":[{\"aaxis\":{\"endlinecolor\":\"#2a3f5f\",\"gridcolor\":\"white\",\"linecolor\":\"white\",\"minorgridcolor\":\"white\",\"startlinecolor\":\"#2a3f5f\"},\"baxis\":{\"endlinecolor\":\"#2a3f5f\",\"gridcolor\":\"white\",\"linecolor\":\"white\",\"minorgridcolor\":\"white\",\"startlinecolor\":\"#2a3f5f\"},\"type\":\"carpet\"}],\"table\":[{\"cells\":{\"fill\":{\"color\":\"#EBF0F8\"},\"line\":{\"color\":\"white\"}},\"header\":{\"fill\":{\"color\":\"#C8D4E3\"},\"line\":{\"color\":\"white\"}},\"type\":\"table\"}],\"barpolar\":[{\"marker\":{\"line\":{\"color\":\"#E5ECF6\",\"width\":0.5},\"pattern\":{\"fillmode\":\"overlay\",\"size\":10,\"solidity\":0.2}},\"type\":\"barpolar\"}],\"pie\":[{\"automargin\":true,\"type\":\"pie\"}]},\"layout\":{\"autotypenumbers\":\"strict\",\"colorway\":[\"#636efa\",\"#EF553B\",\"#00cc96\",\"#ab63fa\",\"#FFA15A\",\"#19d3f3\",\"#FF6692\",\"#B6E880\",\"#FF97FF\",\"#FECB52\"],\"font\":{\"color\":\"#2a3f5f\"},\"hovermode\":\"closest\",\"hoverlabel\":{\"align\":\"left\"},\"paper_bgcolor\":\"white\",\"plot_bgcolor\":\"#E5ECF6\",\"polar\":{\"bgcolor\":\"#E5ECF6\",\"angularaxis\":{\"gridcolor\":\"white\",\"linecolor\":\"white\",\"ticks\":\"\"},\"radialaxis\":{\"gridcolor\":\"white\",\"linecolor\":\"white\",\"ticks\":\"\"}},\"ternary\":{\"bgcolor\":\"#E5ECF6\",\"aaxis\":{\"gridcolor\":\"white\",\"linecolor\":\"white\",\"ticks\":\"\"},\"baxis\":{\"gridcolor\":\"white\",\"linecolor\":\"white\",\"ticks\":\"\"},\"caxis\":{\"gridcolor\":\"white\",\"linecolor\":\"white\",\"ticks\":\"\"}},\"coloraxis\":{\"colorbar\":{\"outlinewidth\":0,\"ticks\":\"\"}},\"colorscale\":{\"sequential\":[[0.0,\"#0d0887\"],[0.1111111111111111,\"#46039f\"],[0.2222222222222222,\"#7201a8\"],[0.3333333333333333,\"#9c179e\"],[0.4444444444444444,\"#bd3786\"],[0.5555555555555556,\"#d8576b\"],[0.6666666666666666,\"#ed7953\"],[0.7777777777777778,\"#fb9f3a\"],[0.8888888888888888,\"#fdca26\"],[1.0,\"#f0f921\"]],\"sequentialminus\":[[0.0,\"#0d0887\"],[0.1111111111111111,\"#46039f\"],[0.2222222222222222,\"#7201a8\"],[0.3333333333333333,\"#9c179e\"],[0.4444444444444444,\"#bd3786\"],[0.5555555555555556,\"#d8576b\"],[0.6666666666666666,\"#ed7953\"],[0.7777777777777778,\"#fb9f3a\"],[0.8888888888888888,\"#fdca26\"],[1.0,\"#f0f921\"]],\"diverging\":[[0,\"#8e0152\"],[0.1,\"#c51b7d\"],[0.2,\"#de77ae\"],[0.3,\"#f1b6da\"],[0.4,\"#fde0ef\"],[0.5,\"#f7f7f7\"],[0.6,\"#e6f5d0\"],[0.7,\"#b8e186\"],[0.8,\"#7fbc41\"],[0.9,\"#4d9221\"],[1,\"#276419\"]]},\"xaxis\":{\"gridcolor\":\"white\",\"linecolor\":\"white\",\"ticks\":\"\",\"title\":{\"standoff\":15},\"zerolinecolor\":\"white\",\"automargin\":true,\"zerolinewidth\":2},\"yaxis\":{\"gridcolor\":\"white\",\"linecolor\":\"white\",\"ticks\":\"\",\"title\":{\"standoff\":15},\"zerolinecolor\":\"white\",\"automargin\":true,\"zerolinewidth\":2},\"scene\":{\"xaxis\":{\"backgroundcolor\":\"#E5ECF6\",\"gridcolor\":\"white\",\"linecolor\":\"white\",\"showbackground\":true,\"ticks\":\"\",\"zerolinecolor\":\"white\",\"gridwidth\":2},\"yaxis\":{\"backgroundcolor\":\"#E5ECF6\",\"gridcolor\":\"white\",\"linecolor\":\"white\",\"showbackground\":true,\"ticks\":\"\",\"zerolinecolor\":\"white\",\"gridwidth\":2},\"zaxis\":{\"backgroundcolor\":\"#E5ECF6\",\"gridcolor\":\"white\",\"linecolor\":\"white\",\"showbackground\":true,\"ticks\":\"\",\"zerolinecolor\":\"white\",\"gridwidth\":2}},\"shapedefaults\":{\"line\":{\"color\":\"#2a3f5f\"}},\"annotationdefaults\":{\"arrowcolor\":\"#2a3f5f\",\"arrowhead\":0,\"arrowwidth\":1},\"geo\":{\"bgcolor\":\"white\",\"landcolor\":\"#E5ECF6\",\"subunitcolor\":\"white\",\"showland\":true,\"showlakes\":true,\"lakecolor\":\"white\"},\"title\":{\"x\":0.05},\"mapbox\":{\"style\":\"light\"}}}},                        {\"responsive\": true}                    ).then(function(){\n",
              "                            \n",
              "var gd = document.getElementById('2bbe4f83-e4d2-43df-ae03-17276120df91');\n",
              "var x = new MutationObserver(function (mutations, observer) {{\n",
              "        var display = window.getComputedStyle(gd).display;\n",
              "        if (!display || display === 'none') {{\n",
              "            console.log([gd, 'removed!']);\n",
              "            Plotly.purge(gd);\n",
              "            observer.disconnect();\n",
              "        }}\n",
              "}});\n",
              "\n",
              "// Listen for the removal of the full notebook cells\n",
              "var notebookContainer = gd.closest('#notebook-container');\n",
              "if (notebookContainer) {{\n",
              "    x.observe(notebookContainer, {childList: true});\n",
              "}}\n",
              "\n",
              "// Listen for the clearing of the current output cell\n",
              "var outputEl = gd.closest('.output');\n",
              "if (outputEl) {{\n",
              "    x.observe(outputEl, {childList: true});\n",
              "}}\n",
              "\n",
              "                        })                };                });            </script>        </div>"
            ]
          },
          "metadata": {}
        }
      ]
    },
    {
      "cell_type": "code",
      "source": [
        "print(np.isnan(X_test).sum())  # Count of NaN values in X_test\n",
        "print(np.isnan(Y_test).sum())  # Count of NaN values in Y_test"
      ],
      "metadata": {
        "colab": {
          "base_uri": "https://localhost:8080/"
        },
        "id": "iWmTvRoplM7C",
        "outputId": "4d246f4b-fea1-42de-ad77-146eb3cee0a3"
      },
      "execution_count": 61,
      "outputs": [
        {
          "output_type": "stream",
          "name": "stdout",
          "text": [
            "0\n",
            "145\n"
          ]
        }
      ]
    },
    {
      "cell_type": "code",
      "source": [
        "import numpy as np\n",
        "\n",
        "# Remove rows with NaN in either X_test or Y_test\n",
        "mask = ~np.isnan(X_test).any(axis=1) & ~np.isnan(Y_test)\n",
        "\n",
        "X_test_clean = X_test[mask]\n",
        "Y_test_clean = Y_test[mask]\n"
      ],
      "metadata": {
        "id": "pDn0I4xm0dgX"
      },
      "execution_count": 62,
      "outputs": []
    },
    {
      "cell_type": "code",
      "source": [
        "from sklearn.impute import SimpleImputer\n",
        "\n",
        "imputer = SimpleImputer(strategy='mean')  # or 'median', 'most_frequent'\n",
        "X_test = imputer.fit_transform(X_test)\n",
        "Y_test = imputer.transform(Y_test.values.reshape(-1, 1))"
      ],
      "metadata": {
        "id": "frqynGuE0_2-"
      },
      "execution_count": 63,
      "outputs": []
    },
    {
      "cell_type": "code",
      "source": [
        "from sklearn.metrics import r2_score, mean_squared_error\n",
        "\n",
        "# Calculate the scores for train and test datasets\n",
        "train_r2 = r2_score(Y_train, lm.predict(X_train))\n",
        "test_r2 = r2_score(Y_test, lm.predict(X_test))\n",
        "train_mse = mean_squared_error(Y_train, lm.predict(X_train))\n",
        "test_mse = mean_squared_error(Y_test, lm.predict(X_test))\n",
        "\n",
        "# Format and display the scores\n",
        "Scores = f'''\n",
        "{'Metric'.ljust(10)}{'Train'.center(20)}{'Test'.center(20)}\n",
        "{'R2 Score'.ljust(10)}{str(train_r2).center(20)}{str(test_r2).center(20)}\n",
        "{'MSE'.ljust(10)}{str(train_mse).center(20)}{str(test_mse).center(20)}\n",
        "'''\n",
        "\n",
        "print(Scores)"
      ],
      "metadata": {
        "colab": {
          "base_uri": "https://localhost:8080/"
        },
        "id": "CnELLyR61KpT",
        "outputId": "2a8a8513-802b-4dcc-caf5-310d4e866228"
      },
      "execution_count": 64,
      "outputs": [
        {
          "output_type": "stream",
          "name": "stdout",
          "text": [
            "\n",
            "Metric           Train                Test        \n",
            "R2 Score  0.18687876745441168 -0.3657663633278867 \n",
            "MSE        528.5642505841016    68492.2268611716  \n",
            "\n"
          ]
        }
      ]
    },
    {
      "cell_type": "code",
      "source": [
        "# Convert 'Date' column to datetime and set as index\n",
        "IBM['timestamp'] = pd.to_datetime(IBM['timestamp'])\n",
        "IBM.set_index('timestamp', inplace=True)"
      ],
      "metadata": {
        "id": "DaJsF_sFu011"
      },
      "execution_count": 65,
      "outputs": []
    },
    {
      "cell_type": "code",
      "source": [
        "Data = IBM[['close']]"
      ],
      "metadata": {
        "id": "3eT7VfDrpfNc"
      },
      "execution_count": 66,
      "outputs": []
    },
    {
      "cell_type": "code",
      "source": [
        "# Preprocessing: Scale the data to the range (0, 1)\n",
        "scaler = MinMaxScaler(feature_range=(0, 1))\n",
        "scaled_data = scaler.fit_transform(Data)"
      ],
      "metadata": {
        "id": "mS-wpOyuvO3t"
      },
      "execution_count": 67,
      "outputs": []
    },
    {
      "cell_type": "code",
      "source": [
        "# Create training and test sets (80% training, 20% test)\n",
        "train_size = int(len(scaled_data) * 0.8)\n",
        "train_data = scaled_data[:train_size]\n",
        "test_data = scaled_data[train_size:]"
      ],
      "metadata": {
        "id": "v3OmdNU_vf26"
      },
      "execution_count": 68,
      "outputs": []
    },
    {
      "cell_type": "code",
      "source": [
        "# Function to create the dataset for LSTM model (with look_back window)\n",
        "def create_dataset(dataset, look_back=1):\n",
        "    X, Y = [], []\n",
        "    for i in range(len(dataset) - look_back - 1):\n",
        "        X.append(dataset[i:(i + look_back), 0])\n",
        "        Y.append(dataset[i + look_back, 0])\n",
        "    return np.array(X), np.array(Y)"
      ],
      "metadata": {
        "id": "hE2WYFSSvkuW"
      },
      "execution_count": 69,
      "outputs": []
    },
    {
      "cell_type": "code",
      "source": [
        "# Hyperparameter: Look-back window\n",
        "look_back = 60"
      ],
      "metadata": {
        "id": "bhdWjpkUvt6F"
      },
      "execution_count": 70,
      "outputs": []
    },
    {
      "cell_type": "code",
      "source": [
        "# Create train and test datasets\n",
        "X_train, Y_train = create_dataset(train_data, look_back)\n",
        "X_test, Y_test = create_dataset(test_data, look_back)"
      ],
      "metadata": {
        "id": "EMgWi0f6vzIW"
      },
      "execution_count": 71,
      "outputs": []
    },
    {
      "cell_type": "code",
      "source": [
        "# Reshape data for LSTM model (samples, time steps, features)\n",
        "X_train = np.reshape(X_train, (X_train.shape[0], X_train.shape[1], 1))\n",
        "X_test = np.reshape(X_test, (X_test.shape[0], X_test.shape[1], 1))"
      ],
      "metadata": {
        "id": "5yY-677vv25t"
      },
      "execution_count": 72,
      "outputs": []
    },
    {
      "cell_type": "code",
      "source": [
        "# Build LSTM model\n",
        "model = Sequential()\n",
        "model.add(LSTM(units=50, return_sequences=True, input_shape=(look_back, 1)))\n",
        "model.add(LSTM(units=50))\n",
        "model.add(Dense(1))"
      ],
      "metadata": {
        "colab": {
          "base_uri": "https://localhost:8080/"
        },
        "id": "ga5TOhRev8e4",
        "outputId": "c6e2e5f8-9d3b-4e07-81e2-1a0e13f3786b"
      },
      "execution_count": 73,
      "outputs": [
        {
          "output_type": "stream",
          "name": "stderr",
          "text": [
            "/usr/local/lib/python3.10/dist-packages/keras/src/layers/rnn/rnn.py:204: UserWarning:\n",
            "\n",
            "Do not pass an `input_shape`/`input_dim` argument to a layer. When using Sequential models, prefer using an `Input(shape)` object as the first layer in the model instead.\n",
            "\n"
          ]
        }
      ]
    },
    {
      "cell_type": "code",
      "source": [
        "# Compile the model\n",
        "model.compile(optimizer='adam', loss='mean_squared_error')"
      ],
      "metadata": {
        "id": "pyH9FzSnwBqQ"
      },
      "execution_count": 74,
      "outputs": []
    },
    {
      "cell_type": "code",
      "source": [
        "# Train the model\n",
        "model.fit(X_train, Y_train, epochs=10, batch_size=64)"
      ],
      "metadata": {
        "colab": {
          "base_uri": "https://localhost:8080/"
        },
        "id": "6GVNKyXcwKIn",
        "outputId": "61a183af-f5c0-4af7-bb10-02b99a15763f"
      },
      "execution_count": 75,
      "outputs": [
        {
          "output_type": "stream",
          "name": "stdout",
          "text": [
            "Epoch 1/10\n",
            "\u001b[1m16/16\u001b[0m \u001b[32m━━━━━━━━━━━━━━━━━━━━\u001b[0m\u001b[37m\u001b[0m \u001b[1m4s\u001b[0m 64ms/step - loss: nan\n",
            "Epoch 2/10\n",
            "\u001b[1m16/16\u001b[0m \u001b[32m━━━━━━━━━━━━━━━━━━━━\u001b[0m\u001b[37m\u001b[0m \u001b[1m1s\u001b[0m 85ms/step - loss: nan\n",
            "Epoch 3/10\n",
            "\u001b[1m16/16\u001b[0m \u001b[32m━━━━━━━━━━━━━━━━━━━━\u001b[0m\u001b[37m\u001b[0m \u001b[1m3s\u001b[0m 85ms/step - loss: nan\n",
            "Epoch 4/10\n",
            "\u001b[1m16/16\u001b[0m \u001b[32m━━━━━━━━━━━━━━━━━━━━\u001b[0m\u001b[37m\u001b[0m \u001b[1m1s\u001b[0m 67ms/step - loss: nan\n",
            "Epoch 5/10\n",
            "\u001b[1m16/16\u001b[0m \u001b[32m━━━━━━━━━━━━━━━━━━━━\u001b[0m\u001b[37m\u001b[0m \u001b[1m1s\u001b[0m 64ms/step - loss: nan\n",
            "Epoch 6/10\n",
            "\u001b[1m16/16\u001b[0m \u001b[32m━━━━━━━━━━━━━━━━━━━━\u001b[0m\u001b[37m\u001b[0m \u001b[1m1s\u001b[0m 64ms/step - loss: nan\n",
            "Epoch 7/10\n",
            "\u001b[1m16/16\u001b[0m \u001b[32m━━━━━━━━━━━━━━━━━━━━\u001b[0m\u001b[37m\u001b[0m \u001b[1m1s\u001b[0m 62ms/step - loss: nan\n",
            "Epoch 8/10\n",
            "\u001b[1m16/16\u001b[0m \u001b[32m━━━━━━━━━━━━━━━━━━━━\u001b[0m\u001b[37m\u001b[0m \u001b[1m1s\u001b[0m 64ms/step - loss: nan\n",
            "Epoch 9/10\n",
            "\u001b[1m16/16\u001b[0m \u001b[32m━━━━━━━━━━━━━━━━━━━━\u001b[0m\u001b[37m\u001b[0m \u001b[1m1s\u001b[0m 62ms/step - loss: nan\n",
            "Epoch 10/10\n",
            "\u001b[1m16/16\u001b[0m \u001b[32m━━━━━━━━━━━━━━━━━━━━\u001b[0m\u001b[37m\u001b[0m \u001b[1m1s\u001b[0m 62ms/step - loss: nan\n"
          ]
        },
        {
          "output_type": "execute_result",
          "data": {
            "text/plain": [
              "<keras.src.callbacks.history.History at 0x7ba001c7a3b0>"
            ]
          },
          "metadata": {},
          "execution_count": 75
        }
      ]
    },
    {
      "cell_type": "code",
      "source": [
        "# Make predictions\n",
        "train_predict = model.predict(X_train)\n",
        "test_predict = model.predict(X_test)"
      ],
      "metadata": {
        "colab": {
          "base_uri": "https://localhost:8080/"
        },
        "id": "J-4ijD0dwTO8",
        "outputId": "526f0b89-d10f-4e25-e23e-06a9d86d9f8c"
      },
      "execution_count": 76,
      "outputs": [
        {
          "output_type": "stream",
          "name": "stdout",
          "text": [
            "\u001b[1m31/31\u001b[0m \u001b[32m━━━━━━━━━━━━━━━━━━━━\u001b[0m\u001b[37m\u001b[0m \u001b[1m1s\u001b[0m 27ms/step\n",
            "\u001b[1m7/7\u001b[0m \u001b[32m━━━━━━━━━━━━━━━━━━━━\u001b[0m\u001b[37m\u001b[0m \u001b[1m0s\u001b[0m 17ms/step\n"
          ]
        }
      ]
    },
    {
      "cell_type": "code",
      "source": [
        "# Inverse transform the scaled data back to original values\n",
        "train_predict = scaler.inverse_transform(train_predict)\n",
        "test_predict = scaler.inverse_transform(test_predict)"
      ],
      "metadata": {
        "id": "uk5UJvTXwX38"
      },
      "execution_count": 77,
      "outputs": []
    },
    {
      "cell_type": "code",
      "source": [
        "import numpy as np\n",
        "import pandas as pd\n",
        "import matplotlib.pyplot as plt\n",
        "from sklearn.preprocessing import MinMaxScaler\n",
        "from keras.models import Sequential\n",
        "from keras.layers import Dense, LSTM, Dropout\n",
        "from sklearn.metrics import mean_squared_error, r2_score\n"
      ],
      "metadata": {
        "id": "yhWItGzhxGKi"
      },
      "execution_count": 78,
      "outputs": []
    },
    {
      "cell_type": "code",
      "source": [
        "df = pd.read_csv('/content/weekly_adjusted_IBM.csv')"
      ],
      "metadata": {
        "id": "gCXM_fJc3zdD"
      },
      "execution_count": 79,
      "outputs": []
    },
    {
      "cell_type": "code",
      "source": [
        "df['timestamp'] = pd.to_datetime(df['timestamp'])"
      ],
      "metadata": {
        "id": "HPGb6NLQ4GhS"
      },
      "execution_count": 80,
      "outputs": []
    },
    {
      "cell_type": "code",
      "source": [
        "df.set_index('timestamp', inplace=True)"
      ],
      "metadata": {
        "id": "hlP2qdvc4Tpf"
      },
      "execution_count": 81,
      "outputs": []
    },
    {
      "cell_type": "code",
      "source": [
        "data = df[['close']]"
      ],
      "metadata": {
        "id": "U-gOLXB74kxI"
      },
      "execution_count": 82,
      "outputs": []
    },
    {
      "cell_type": "code",
      "source": [
        "scaler = MinMaxScaler(feature_range=(0, 1))\n",
        "scaled_data = scaler.fit_transform(data)"
      ],
      "metadata": {
        "id": "9CbJQXND4qnn"
      },
      "execution_count": 83,
      "outputs": []
    },
    {
      "cell_type": "code",
      "source": [
        "# Create the training dataset\n",
        "train_size = int(len(scaled_data) * 0.8)\n",
        "train_data = scaled_data[:train_size]\n",
        "test_data = scaled_data[train_size:]"
      ],
      "metadata": {
        "id": "j7eQn_tu4xJv"
      },
      "execution_count": 84,
      "outputs": []
    },
    {
      "cell_type": "code",
      "source": [
        "# Function to create X and Y for LSTM\n",
        "def create_dataset(dataset, look_back=60):\n",
        "    X, Y = [], []\n",
        "    for i in range(look_back, len(dataset)):\n",
        "        X.append(dataset[i - look_back:i, 0])\n",
        "        Y.append(dataset[i, 0])\n",
        "    return np.array(X), np.array(Y)\n",
        "look_back = 60  # Try experimenting with other values like 30, 100\n",
        "X_train, Y_train = create_dataset(train_data, look_back)\n",
        "X_test, Y_test = create_dataset(test_data, look_back)"
      ],
      "metadata": {
        "id": "qg9OnDc042vz"
      },
      "execution_count": 85,
      "outputs": []
    },
    {
      "cell_type": "code",
      "source": [
        "# Reshape X to be [samples, time steps, features]\n",
        "X_train = np.reshape(X_train, (X_train.shape[0], X_train.shape[1], 1))\n",
        "X_test = np.reshape(X_test, (X_test.shape[0], X_test.shape[1], 1))"
      ],
      "metadata": {
        "id": "eEDA1mDW47AR"
      },
      "execution_count": 86,
      "outputs": []
    },
    {
      "cell_type": "code",
      "source": [
        "# Build the LSTM model with Dropout to avoid overfitting\n",
        "model = Sequential()\n",
        "model.add(LSTM(units=50, return_sequences=True, input_shape=(X_train.shape[1], 1)))\n",
        "model.add(Dropout(0.2))  # Dropout layer to reduce overfitting\n",
        "model.add(LSTM(units=50, return_sequences=False))\n",
        "model.add(Dropout(0.2))  # Another Dropout layer\n",
        "model.add(Dense(units=25))  # Dense layer\n",
        "model.add(Dense(units=1))  # Output layer for prediction\n"
      ],
      "metadata": {
        "colab": {
          "base_uri": "https://localhost:8080/"
        },
        "id": "XVQREcTo5DxL",
        "outputId": "7995e1c6-e5bf-4861-9720-b2d48f2b3d54"
      },
      "execution_count": 87,
      "outputs": [
        {
          "output_type": "stream",
          "name": "stderr",
          "text": [
            "/usr/local/lib/python3.10/dist-packages/keras/src/layers/rnn/rnn.py:204: UserWarning:\n",
            "\n",
            "Do not pass an `input_shape`/`input_dim` argument to a layer. When using Sequential models, prefer using an `Input(shape)` object as the first layer in the model instead.\n",
            "\n"
          ]
        }
      ]
    },
    {
      "cell_type": "code",
      "source": [
        "# Compile the model\n",
        "model.compile(optimizer='adam', loss='mean_squared_error')"
      ],
      "metadata": {
        "id": "-YkNEQbC5Ihz"
      },
      "execution_count": 88,
      "outputs": []
    },
    {
      "cell_type": "code",
      "source": [
        "# Train the model\n",
        "history = model.fit(X_train, Y_train, epochs=15, batch_size=32, validation_data=(X_test, Y_test))"
      ],
      "metadata": {
        "colab": {
          "base_uri": "https://localhost:8080/"
        },
        "id": "LarBl2c75OR7",
        "outputId": "47b5c8ab-10d9-49f1-d8d9-56000ecf8123"
      },
      "execution_count": 89,
      "outputs": [
        {
          "output_type": "stream",
          "name": "stdout",
          "text": [
            "Epoch 1/15\n",
            "\u001b[1m31/31\u001b[0m \u001b[32m━━━━━━━━━━━━━━━━━━━━\u001b[0m\u001b[37m\u001b[0m \u001b[1m7s\u001b[0m 73ms/step - loss: nan - val_loss: nan\n",
            "Epoch 2/15\n",
            "\u001b[1m31/31\u001b[0m \u001b[32m━━━━━━━━━━━━━━━━━━━━\u001b[0m\u001b[37m\u001b[0m \u001b[1m3s\u001b[0m 89ms/step - loss: nan - val_loss: nan\n",
            "Epoch 3/15\n",
            "\u001b[1m31/31\u001b[0m \u001b[32m━━━━━━━━━━━━━━━━━━━━\u001b[0m\u001b[37m\u001b[0m \u001b[1m5s\u001b[0m 76ms/step - loss: nan - val_loss: nan\n",
            "Epoch 4/15\n",
            "\u001b[1m31/31\u001b[0m \u001b[32m━━━━━━━━━━━━━━━━━━━━\u001b[0m\u001b[37m\u001b[0m \u001b[1m3s\u001b[0m 96ms/step - loss: nan - val_loss: nan\n",
            "Epoch 5/15\n",
            "\u001b[1m31/31\u001b[0m \u001b[32m━━━━━━━━━━━━━━━━━━━━\u001b[0m\u001b[37m\u001b[0m \u001b[1m2s\u001b[0m 59ms/step - loss: nan - val_loss: nan\n",
            "Epoch 6/15\n",
            "\u001b[1m31/31\u001b[0m \u001b[32m━━━━━━━━━━━━━━━━━━━━\u001b[0m\u001b[37m\u001b[0m \u001b[1m3s\u001b[0m 58ms/step - loss: nan - val_loss: nan\n",
            "Epoch 7/15\n",
            "\u001b[1m31/31\u001b[0m \u001b[32m━━━━━━━━━━━━━━━━━━━━\u001b[0m\u001b[37m\u001b[0m \u001b[1m2s\u001b[0m 58ms/step - loss: nan - val_loss: nan\n",
            "Epoch 8/15\n",
            "\u001b[1m31/31\u001b[0m \u001b[32m━━━━━━━━━━━━━━━━━━━━\u001b[0m\u001b[37m\u001b[0m \u001b[1m2s\u001b[0m 58ms/step - loss: nan - val_loss: nan\n",
            "Epoch 9/15\n",
            "\u001b[1m31/31\u001b[0m \u001b[32m━━━━━━━━━━━━━━━━━━━━\u001b[0m\u001b[37m\u001b[0m \u001b[1m2s\u001b[0m 59ms/step - loss: nan - val_loss: nan\n",
            "Epoch 10/15\n",
            "\u001b[1m31/31\u001b[0m \u001b[32m━━━━━━━━━━━━━━━━━━━━\u001b[0m\u001b[37m\u001b[0m \u001b[1m3s\u001b[0m 94ms/step - loss: nan - val_loss: nan\n",
            "Epoch 11/15\n",
            "\u001b[1m31/31\u001b[0m \u001b[32m━━━━━━━━━━━━━━━━━━━━\u001b[0m\u001b[37m\u001b[0m \u001b[1m4s\u001b[0m 57ms/step - loss: nan - val_loss: nan\n",
            "Epoch 12/15\n",
            "\u001b[1m31/31\u001b[0m \u001b[32m━━━━━━━━━━━━━━━━━━━━\u001b[0m\u001b[37m\u001b[0m \u001b[1m2s\u001b[0m 58ms/step - loss: nan - val_loss: nan\n",
            "Epoch 13/15\n",
            "\u001b[1m31/31\u001b[0m \u001b[32m━━━━━━━━━━━━━━━━━━━━\u001b[0m\u001b[37m\u001b[0m \u001b[1m2s\u001b[0m 59ms/step - loss: nan - val_loss: nan\n",
            "Epoch 14/15\n",
            "\u001b[1m31/31\u001b[0m \u001b[32m━━━━━━━━━━━━━━━━━━━━\u001b[0m\u001b[37m\u001b[0m \u001b[1m3s\u001b[0m 58ms/step - loss: nan - val_loss: nan\n",
            "Epoch 15/15\n",
            "\u001b[1m31/31\u001b[0m \u001b[32m━━━━━━━━━━━━━━━━━━━━\u001b[0m\u001b[37m\u001b[0m \u001b[1m3s\u001b[0m 90ms/step - loss: nan - val_loss: nan\n"
          ]
        }
      ]
    },
    {
      "cell_type": "code",
      "source": [
        "# Predictions\n",
        "train_predict = model.predict(X_train)\n",
        "test_predict = model.predict(X_test)"
      ],
      "metadata": {
        "colab": {
          "base_uri": "https://localhost:8080/"
        },
        "id": "urRV21mY5dZP",
        "outputId": "6904fb8c-2400-484b-f705-c006ba19e02a"
      },
      "execution_count": 90,
      "outputs": [
        {
          "output_type": "stream",
          "name": "stdout",
          "text": [
            "\u001b[1m31/31\u001b[0m \u001b[32m━━━━━━━━━━━━━━━━━━━━\u001b[0m\u001b[37m\u001b[0m \u001b[1m2s\u001b[0m 37ms/step\n",
            "\u001b[1m7/7\u001b[0m \u001b[32m━━━━━━━━━━━━━━━━━━━━\u001b[0m\u001b[37m\u001b[0m \u001b[1m0s\u001b[0m 16ms/step\n"
          ]
        }
      ]
    },
    {
      "cell_type": "code",
      "source": [
        "# Predictions\n",
        "train_predict = model.predict(X_train)\n",
        "test_predict = model.predict(X_test)"
      ],
      "metadata": {
        "colab": {
          "base_uri": "https://localhost:8080/"
        },
        "id": "TooDBhso5iLa",
        "outputId": "399ab320-4cb4-479e-e7a6-05ae3926145a"
      },
      "execution_count": 91,
      "outputs": [
        {
          "output_type": "stream",
          "name": "stdout",
          "text": [
            "\u001b[1m31/31\u001b[0m \u001b[32m━━━━━━━━━━━━━━━━━━━━\u001b[0m\u001b[37m\u001b[0m \u001b[1m1s\u001b[0m 16ms/step\n",
            "\u001b[1m7/7\u001b[0m \u001b[32m━━━━━━━━━━━━━━━━━━━━\u001b[0m\u001b[37m\u001b[0m \u001b[1m0s\u001b[0m 17ms/step\n"
          ]
        }
      ]
    },
    {
      "cell_type": "code",
      "source": [
        "# Inverse scale Y_train and Y_test\n",
        "Y_train = scaler.inverse_transform([Y_train])\n",
        "Y_test = scaler.inverse_transform([Y_test])"
      ],
      "metadata": {
        "id": "AT6vcLmF5mBk"
      },
      "execution_count": 92,
      "outputs": []
    },
    {
      "cell_type": "code",
      "source": [
        "# Plot the results\n",
        "plt.figure(figsize=(12, 6))\n",
        "plt.plot(df.index[look_back:train_size], Y_train.flatten(), label='Training True')\n",
        "plt.plot(df.index[train_size + look_back:], Y_test.flatten(), label='Testing True')\n",
        "plt.plot(df.index[look_back:train_size], train_predict.flatten(), label='Training Predicted')\n",
        "plt.plot(df.index[train_size + look_back:], test_predict.flatten(), label='Testing Predicted')\n",
        "plt.title('LSTM Stock Price Prediction')\n",
        "plt.xlabel('Date')\n",
        "plt.ylabel('Price (USD)')\n",
        "plt.legend()\n",
        "plt.show()"
      ],
      "metadata": {
        "colab": {
          "base_uri": "https://localhost:8080/",
          "height": 564
        },
        "id": "rUdK9v9s5qDg",
        "outputId": "706bd1a7-cf65-447e-ca1c-34f9ab77c50c"
      },
      "execution_count": 93,
      "outputs": [
        {
          "output_type": "display_data",
          "data": {
            "text/plain": [
              "<Figure size 1200x600 with 1 Axes>"
            ],
            "image/png": "[encoded data removed]"
          },
          "metadata": {}
        }
      ]
    },
    {
      "cell_type": "code",
      "source": [
        "import numpy as np\n",
        "from sklearn.metrics import mean_squared_error, r2_score\n",
        "\n",
        "# Check for NaN values in Y_test and test_predict\n",
        "print(\"Checking for NaN values:\")\n",
        "print(f\"NaNs in Y_test: {np.isnan(Y_test).sum()}\")\n",
        "print(f\"NaNs in test_predict: {np.isnan(test_predict).sum()}\")\n",
        "\n",
        "# Remove NaN values separately for Y_test and test_predict\n",
        "Y_test_clean = Y_test[~np.isnan(Y_test)]        # Remove NaNs in Y_test\n",
        "test_predict_clean = test_predict[~np.isnan(test_predict)]  # Remove NaNs in test_predict\n",
        "\n",
        "# Ensure that both arrays have the same length after cleaning\n",
        "min_len = min(len(Y_test_clean), len(test_predict_clean))\n",
        "\n",
        "if min_len == 0:\n",
        "    print(\"No valid data available for evaluation after cleaning. Please check your data.\")\n",
        "else:\n",
        "    Y_test_clean = Y_test_clean[:min_len]          # Truncate to same length\n",
        "    test_predict_clean = test_predict_clean[:min_len]\n",
        "\n",
        "    # Now evaluate the model\n",
        "    mse = mean_squared_error(Y_test_clean.flatten(), test_predict_clean.flatten())\n",
        "    r2 = r2_score(Y_test_clean.flatten(), test_predict_clean.flatten())\n",
        "\n",
        "    # Print the results\n",
        "    print(f'Mean Squared Error: {mse}')\n",
        "    print(f'R-squared: {r2}')\n"
      ],
      "metadata": {
        "colab": {
          "base_uri": "https://localhost:8080/"
        },
        "id": "fo0xSPLK7aX9",
        "outputId": "47bfadbf-a30c-4830-f1a9-1d4f7b2f183a"
      },
      "execution_count": 94,
      "outputs": [
        {
          "output_type": "stream",
          "name": "stdout",
          "text": [
            "Checking for NaN values:\n",
            "NaNs in Y_test: 200\n",
            "NaNs in test_predict: 200\n",
            "No valid data available for evaluation after cleaning. Please check your data.\n"
          ]
        }
      ]
    },
    {
      "cell_type": "code",
      "source": [
        "# Plot the results with years on the x-axis and Close Price on the y-axis\n",
        "import matplotlib.dates as mdates\n",
        "\n",
        "plt.figure(figsize=(12, 6))"
      ],
      "metadata": {
        "colab": {
          "base_uri": "https://localhost:8080/",
          "height": 52
        },
        "id": "osVsm9UH8Ars",
        "outputId": "81b19b99-72ea-4375-dc08-73b00116c6a4"
      },
      "execution_count": 95,
      "outputs": [
        {
          "output_type": "execute_result",
          "data": {
            "text/plain": [
              "<Figure size 1200x600 with 0 Axes>"
            ]
          },
          "metadata": {},
          "execution_count": 95
        },
        {
          "output_type": "display_data",
          "data": {
            "text/plain": [
              "<Figure size 1200x600 with 0 Axes>"
            ]
          },
          "metadata": {}
        }
      ]
    },
    {
      "cell_type": "code",
      "source": [
        "# Plotting the training data\n",
        "plt.plot(df.index[look_back:train_size], Y_train.flatten(), label='Training True', color='blue')\n",
        "plt.plot(df.index[train_size + look_back:], Y_test.flatten(), label='Testing True', color='orange')\n",
        "\n",
        "# Plotting the predicted data\n",
        "plt.plot(df.index[look_back:train_size], train_predict.flatten(), label='Training Predicted', color='green')\n",
        "plt.plot(df.index[train_size + look_back:], test_predict.flatten(), label='Testing Predicted', color='red')\n",
        "\n",
        "# Formatting the date on the x-axis to show years\n",
        "plt.gca().xaxis.set_major_locator(mdates.YearLocator())  # Show years\n",
        "plt.gca().xaxis.set_major_formatter(mdates.DateFormatter('%Y'))  # Format the x-axis to display the year\n",
        "\n",
        "# Adding labels and title\n",
        "plt.title('LSTM Stock Price Prediction')\n",
        "plt.xlabel('Date (Year)')\n",
        "plt.ylabel('Close Price (USD)')\n",
        "plt.legend()\n",
        "\n",
        "# Rotating the x-axis dates for better readability\n",
        "plt.gcf().autofmt_xdate()\n",
        "\n",
        "# Show the plot\n",
        "plt.show()"
      ],
      "metadata": {
        "colab": {
          "base_uri": "https://localhost:8080/",
          "height": 444
        },
        "id": "PeGw4EeG8Rr0",
        "outputId": "fb152196-7d62-4d5c-85a4-90350f36286a"
      },
      "execution_count": 96,
      "outputs": [
        {
          "output_type": "display_data",
          "data": {
            "text/plain": [
              "<Figure size 640x480 with 1 Axes>"
            ],
            "image/png": "[encoded data removed]"
          },
          "metadata": {}
        }
      ]
    },
    {
      "cell_type": "code",
      "source": [
        "import numpy as np\n",
        "import pandas as pd\n",
        "from flask import Flask, render_template, request\n",
        "from sklearn.linear_model import LinearRegression\n",
        "import joblib\n",
        "\n",
        "# Create a Flask app\n",
        "app = Flask(__name__)\n",
        "\n",
        "# Sample data for demonstration purposes\n",
        "np.random.seed(42)\n",
        "X_train = np.random.rand(100, 1) * 10  # Random X values (e.g., days)\n",
        "Y_train = 2 * X_train.flatten() + np.random.normal(0, 2, 100)  # Linear relation with noise\n",
        "\n",
        "# Train the model (In a real application, load a pre-trained model instead)\n",
        "lm = LinearRegression()\n",
        "lm.fit(X_train, Y_train)\n",
        "\n",
        "# Save the model\n",
        "joblib.dump(lm, 'stock_model.pkl')\n",
        "\n",
        "@app.route('/')\n",
        "def index():\n",
        "    return render_template('index.html')\n",
        "\n",
        "@app.route('/predict', methods=['POST'])\n",
        "def predict():\n",
        "    # Get user input\n",
        "    day = float(request.form['day'])\n",
        "\n",
        "    # Load the model\n",
        "    model = joblib.load('stock_model.pkl')\n",
        "\n",
        "    # Make prediction\n",
        "    prediction = model.predict(np.array([[day]]))[0]\n",
        "\n",
        "    return render_template('index.html', prediction=prediction)\n",
        "\n",
        "if __name__ == '__main__':\n",
        "    app.run(debug=True)\n"
      ],
      "metadata": {
        "colab": {
          "base_uri": "https://localhost:8080/"
        },
        "id": "d_qrUJvP91v2",
        "outputId": "aa4f274a-7afd-4376-9fdc-ac1dcb68a66b"
      },
      "execution_count": 97,
      "outputs": [
        {
          "output_type": "stream",
          "name": "stdout",
          "text": [
            " * Serving Flask app '__main__'\n",
            " * Debug mode: on\n"
          ]
        },
        {
          "output_type": "stream",
          "name": "stderr",
          "text": [
            "INFO:werkzeug:\u001b[31m\u001b[1mWARNING: This is a development server. Do not use it in a production deployment. Use a production WSGI server instead.\u001b[0m\n",
            " * Running on http://127.0.0.1:5000\n",
            "INFO:werkzeug:\u001b[33mPress CTRL+C to quit\u001b[0m\n",
            "INFO:werkzeug: * Restarting with stat\n"
          ]
        }
      ]
    },
    {
      "cell_type": "code",
      "source": [
        "import os\n",
        "\n",
        "# Create 'templates' folder and write the HTML file\n",
        "if not os.path.exists('templates'):\n",
        "    os.makedirs('templates')"
      ],
      "metadata": {
        "id": "P7-ZCvwM972u"
      },
      "execution_count": 101,
      "outputs": []
    },
    {
      "cell_type": "code",
      "source": [
        "# Write HTML to file\n",
        "with open('templates/index.html', 'w') as f:\n",
        "    f.write('''<!DOCTYPE html>\n",
        "<html lang=\"en\">\n",
        "<head>\n",
        "    <meta charset=\"UTF-8\">\n",
        "    <meta name=\"viewport\" content=\"width=device-width, initial-scale=1.0\">\n",
        "    <title>Stock Price Predictor</title>\n",
        "</head>\n",
        "<body>\n",
        "    <h2>Enter Day for Stock Price Prediction</h2>\n",
        "    <form action=\"/predict\" method=\"POST\">\n",
        "        <label for=\"day\">Day:</label>\n",
        "        <input type=\"number\" step=\"0.1\" id=\"day\" name=\"day\" required><br>\n",
        "\n",
        "        <input type=\"submit\" value=\"Predict\">\n",
        "    </form>\n",
        "\n",
        "    <h2>{{ prediction_text }}</h2>\n",
        "</body>\n",
        "</html>''')"
      ],
      "metadata": {
        "id": "VGGfUO2VCtJw"
      },
      "execution_count": 102,
      "outputs": []
    },
    {
      "cell_type": "code",
      "source": [
        "from flask import Flask, render_template, request\n",
        "import joblib\n",
        "import numpy as np\n",
        "\n",
        "app = Flask(__name__)\n",
        "\n",
        "@app.route('/')\n",
        "def home():\n",
        "    return render_template('index.html', prediction_text='')\n",
        "\n",
        "@app.route('/predict', methods=['POST'])\n",
        "def predict():\n",
        "    # Get user input\n",
        "    day = float(request.form['day'])\n",
        "\n",
        "    # Load the model\n",
        "    model = joblib.load('stock_model.pkl')\n",
        "\n",
        "    # Make prediction\n",
        "    prediction = model.predict(np.array([[day]]))[0]\n",
        "\n",
        "    # Prepare prediction text for rendering\n",
        "    prediction_text = f'Predicted Stock Price for Day {day}: ${prediction:.2f}'\n",
        "\n",
        "    return render_template('index.html', prediction_text=prediction_text)\n",
        "\n",
        "if __name__ == '__main__':\n",
        "    app.run(debug=True)"
      ],
      "metadata": {
        "id": "HPIjfJiiC6LP",
        "colab": {
          "base_uri": "https://localhost:8080/"
        },
        "outputId": "1021c25d-cd3a-4d3f-9607-c1dc5a2245e8"
      },
      "execution_count": 104,
      "outputs": [
        {
          "output_type": "stream",
          "name": "stdout",
          "text": [
            " * Serving Flask app '__main__'\n",
            " * Debug mode: on\n"
          ]
        },
        {
          "output_type": "stream",
          "name": "stderr",
          "text": [
            "INFO:werkzeug:\u001b[31m\u001b[1mWARNING: This is a development server. Do not use it in a production deployment. Use a production WSGI server instead.\u001b[0m\n",
            " * Running on http://127.0.0.1:5000\n",
            "INFO:werkzeug:\u001b[33mPress CTRL+C to quit\u001b[0m\n",
            "INFO:werkzeug: * Restarting with stat\n"
          ]
        }
      ]
    },
    {
      "cell_type": "code",
      "source": [
        "pip install Flask numpy scikit-learn joblib"
      ],
      "metadata": {
        "colab": {
          "base_uri": "https://localhost:8080/"
        },
        "id": "4ZT9K-_lZHXz",
        "outputId": "5353fd98-a1a6-4411-8554-5a4c95ddb9ce"
      },
      "execution_count": 105,
      "outputs": [
        {
          "output_type": "stream",
          "name": "stdout",
          "text": [
            "Requirement already satisfied: Flask in /usr/local/lib/python3.10/dist-packages (2.2.5)\n",
            "Requirement already satisfied: numpy in /usr/local/lib/python3.10/dist-packages (1.26.4)\n",
            "Requirement already satisfied: scikit-learn in /usr/local/lib/python3.10/dist-packages (1.5.2)\n",
            "Requirement already satisfied: joblib in /usr/local/lib/python3.10/dist-packages (1.4.2)\n",
            "Requirement already satisfied: Werkzeug>=2.2.2 in /usr/local/lib/python3.10/dist-packages (from Flask) (3.0.4)\n",
            "Requirement already satisfied: Jinja2>=3.0 in /usr/local/lib/python3.10/dist-packages (from Flask) (3.1.4)\n",
            "Requirement already satisfied: itsdangerous>=2.0 in /usr/local/lib/python3.10/dist-packages (from Flask) (2.2.0)\n",
            "Requirement already satisfied: click>=8.0 in /usr/local/lib/python3.10/dist-packages (from Flask) (8.1.7)\n",
            "Requirement already satisfied: scipy>=1.6.0 in /usr/local/lib/python3.10/dist-packages (from scikit-learn) (1.13.1)\n",
            "Requirement already satisfied: threadpoolctl>=3.1.0 in /usr/local/lib/python3.10/dist-packages (from scikit-learn) (3.5.0)\n",
            "Requirement already satisfied: MarkupSafe>=2.0 in /usr/local/lib/python3.10/dist-packages (from Jinja2>=3.0->Flask) (2.1.5)\n"
          ]
        }
      ]
    },
    {
      "cell_type": "code",
      "source": [
        "from sklearn.linear_model import LinearRegression\n",
        "import numpy as np\n",
        "import joblib\n",
        "\n",
        "# Dummy data for training (replace this with your actual data)\n",
        "X_train = np.array([[1], [2], [3], [4], [5]])\n",
        "Y_train = np.array([100, 200, 300, 400, 500])\n",
        "\n",
        "# Train the model\n",
        "model = LinearRegression()\n",
        "model.fit(X_train, Y_train)\n",
        "\n",
        "# Save the trained model\n",
        "joblib.dump(model, 'stock_model.pkl')"
      ],
      "metadata": {
        "colab": {
          "base_uri": "https://localhost:8080/"
        },
        "id": "ZuWfk65XaGGD",
        "outputId": "acaa4a2e-f9ae-492a-ce94-a8fa5007360c"
      },
      "execution_count": 106,
      "outputs": [
        {
          "output_type": "execute_result",
          "data": {
            "text/plain": [
              "['stock_model.pkl']"
            ]
          },
          "metadata": {},
          "execution_count": 106
        }
      ]
    },
    {
      "cell_type": "code",
      "source": [
        "pip freeze > requirements.txt"
      ],
      "metadata": {
        "id": "l9yrgodXaZov"
      },
      "execution_count": 111,
      "outputs": []
    }
  ]
}